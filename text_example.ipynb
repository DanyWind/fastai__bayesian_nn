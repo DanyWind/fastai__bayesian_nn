{
 "cells": [
  {
   "cell_type": "code",
   "execution_count": 1,
   "metadata": {},
   "outputs": [],
   "source": [
    "from fastai.text import * "
   ]
  },
  {
   "cell_type": "code",
   "execution_count": 2,
   "metadata": {},
   "outputs": [
    {
     "data": {
      "text/plain": [
       "PosixPath('/home/danywin/.fastai/data/imdb_sample')"
      ]
     },
     "execution_count": 2,
     "metadata": {},
     "output_type": "execute_result"
    }
   ],
   "source": [
    "path = untar_data(URLs.IMDB_SAMPLE)\n",
    "path"
   ]
  },
  {
   "cell_type": "code",
   "execution_count": 3,
   "metadata": {},
   "outputs": [
    {
     "data": {
      "text/html": [
       "<div>\n",
       "<style scoped>\n",
       "    .dataframe tbody tr th:only-of-type {\n",
       "        vertical-align: middle;\n",
       "    }\n",
       "\n",
       "    .dataframe tbody tr th {\n",
       "        vertical-align: top;\n",
       "    }\n",
       "\n",
       "    .dataframe thead th {\n",
       "        text-align: right;\n",
       "    }\n",
       "</style>\n",
       "<table border=\"1\" class=\"dataframe\">\n",
       "  <thead>\n",
       "    <tr style=\"text-align: right;\">\n",
       "      <th></th>\n",
       "      <th>label</th>\n",
       "      <th>text</th>\n",
       "      <th>is_valid</th>\n",
       "    </tr>\n",
       "  </thead>\n",
       "  <tbody>\n",
       "    <tr>\n",
       "      <th>0</th>\n",
       "      <td>negative</td>\n",
       "      <td>Un-bleeping-believable! Meg Ryan doesn't even ...</td>\n",
       "      <td>False</td>\n",
       "    </tr>\n",
       "    <tr>\n",
       "      <th>1</th>\n",
       "      <td>positive</td>\n",
       "      <td>This is a extremely well-made film. The acting...</td>\n",
       "      <td>False</td>\n",
       "    </tr>\n",
       "    <tr>\n",
       "      <th>2</th>\n",
       "      <td>negative</td>\n",
       "      <td>Every once in a long while a movie will come a...</td>\n",
       "      <td>False</td>\n",
       "    </tr>\n",
       "    <tr>\n",
       "      <th>3</th>\n",
       "      <td>positive</td>\n",
       "      <td>Name just says it all. I watched this movie wi...</td>\n",
       "      <td>False</td>\n",
       "    </tr>\n",
       "    <tr>\n",
       "      <th>4</th>\n",
       "      <td>negative</td>\n",
       "      <td>This movie succeeds at being one of the most u...</td>\n",
       "      <td>False</td>\n",
       "    </tr>\n",
       "  </tbody>\n",
       "</table>\n",
       "</div>"
      ],
      "text/plain": [
       "      label                                               text  is_valid\n",
       "0  negative  Un-bleeping-believable! Meg Ryan doesn't even ...     False\n",
       "1  positive  This is a extremely well-made film. The acting...     False\n",
       "2  negative  Every once in a long while a movie will come a...     False\n",
       "3  positive  Name just says it all. I watched this movie wi...     False\n",
       "4  negative  This movie succeeds at being one of the most u...     False"
      ]
     },
     "execution_count": 3,
     "metadata": {},
     "output_type": "execute_result"
    }
   ],
   "source": [
    "df = pd.read_csv(path/'texts.csv')\n",
    "df.head()"
   ]
  },
  {
   "cell_type": "code",
   "execution_count": 4,
   "metadata": {},
   "outputs": [],
   "source": [
    "# Language model data\n",
    "data_lm = TextLMDataBunch.from_csv(path, 'texts.csv')\n",
    "# Classifier model data\n",
    "data_clas = TextClasDataBunch.from_csv(path, 'texts.csv', vocab=data_lm.train_ds.vocab, bs=32)"
   ]
  },
  {
   "cell_type": "code",
   "execution_count": 5,
   "metadata": {},
   "outputs": [
    {
     "data": {
      "text/html": [
       "<table border=\"1\" class=\"dataframe\">\n",
       "  <thead>\n",
       "    <tr style=\"text-align: left;\">\n",
       "      <th>epoch</th>\n",
       "      <th>train_loss</th>\n",
       "      <th>valid_loss</th>\n",
       "      <th>accuracy</th>\n",
       "      <th>time</th>\n",
       "    </tr>\n",
       "  </thead>\n",
       "  <tbody>\n",
       "    <tr>\n",
       "      <td>0</td>\n",
       "      <td>4.316407</td>\n",
       "      <td>3.908863</td>\n",
       "      <td>0.284628</td>\n",
       "      <td>00:22</td>\n",
       "    </tr>\n",
       "  </tbody>\n",
       "</table>"
      ],
      "text/plain": [
       "<IPython.core.display.HTML object>"
      ]
     },
     "metadata": {},
     "output_type": "display_data"
    }
   ],
   "source": [
    "learn = language_model_learner(data_lm, AWD_LSTM, drop_mult=0.5)\n",
    "learn.fit_one_cycle(1, 1e-2)"
   ]
  },
  {
   "cell_type": "code",
   "execution_count": 6,
   "metadata": {},
   "outputs": [
    {
     "data": {
      "text/html": [
       "<table border=\"1\" class=\"dataframe\">\n",
       "  <thead>\n",
       "    <tr style=\"text-align: left;\">\n",
       "      <th>epoch</th>\n",
       "      <th>train_loss</th>\n",
       "      <th>valid_loss</th>\n",
       "      <th>accuracy</th>\n",
       "      <th>time</th>\n",
       "    </tr>\n",
       "  </thead>\n",
       "  <tbody>\n",
       "    <tr>\n",
       "      <td>0</td>\n",
       "      <td>3.937371</td>\n",
       "      <td>3.831196</td>\n",
       "      <td>0.293839</td>\n",
       "      <td>00:28</td>\n",
       "    </tr>\n",
       "  </tbody>\n",
       "</table>"
      ],
      "text/plain": [
       "<IPython.core.display.HTML object>"
      ]
     },
     "metadata": {},
     "output_type": "display_data"
    }
   ],
   "source": [
    "learn.unfreeze()\n",
    "learn.fit_one_cycle(1, 1e-3)"
   ]
  },
  {
   "cell_type": "code",
   "execution_count": 7,
   "metadata": {},
   "outputs": [
    {
     "data": {
      "text/plain": [
       "'This is a review about a new mysterious mystery from that crushed piece of'"
      ]
     },
     "execution_count": 7,
     "metadata": {},
     "output_type": "execute_result"
    }
   ],
   "source": [
    "learn.predict(\"This is a review about\", n_words=10)"
   ]
  },
  {
   "cell_type": "code",
   "execution_count": 8,
   "metadata": {},
   "outputs": [],
   "source": [
    "learn.save_encoder('ft_enc')"
   ]
  },
  {
   "cell_type": "code",
   "execution_count": 9,
   "metadata": {},
   "outputs": [
    {
     "data": {
      "text/plain": [
       "RNNLearner(data=TextClasDataBunch;\n",
       "\n",
       "Train: LabelList (799 items)\n",
       "x: TextList\n",
       "xxbos xxmaj doc xxmaj savage : xxmaj the xxmaj man of xxmaj bronze is a horrible movie . xxmaj poorly scripted , over - acted , and just plain silly . xxmaj that being said ... it is actually an enjoyable movie on some level . xxmaj this movie begs to be watched in a group with an xxunk supply of cheap beer . xxmaj it 's one of those movies like \" xxmaj santa xxmaj claus conquers the xxmaj martians \" or \" xxmaj xxunk , the xxmaj hunter from the xxmaj future \" ... so bad it is almost good . xxmaj if you have the right group of people this movie is a blast to watch . xxmaj it 's campy . xxmaj it 's fun . xxmaj it has a theme by xxmaj xxunk . xxmaj if you 're looking for a good movie though , look elsewhere . 3 / 10 . \n",
       " \n",
       "  xxup xxunk , i 've heard rumors some studio is exploring the possibility of a remake ...,xxbos i saw this movie literally directly after xxunk the book , and maybe that was a neutral idea or a very stupid one . i think it was the latter . xxmaj first of all , it was inaccurate in many small , yet important details . xxmaj one of the first things i noticed was , during xxmaj xxunk 's day to day life in his work , his conversations , eating in the cafeteria , etc . he feels free to look unhappy and make xxunk xxunk at people without immense fear . xxmaj one of the most important parts of the book , was that even in small activities it was virtually impossible to safely show even a hint of his true emotions on his face xxup at xxup any xxup moment . xxmaj this is also shown in the scenes on the streets of the xxunk . xxmaj in the book xxmaj xxunk knew that this was a huge risk to wander around there and was skeptical and frightened at every trip . xxmaj while in the movie , he does it so often and without fear , that you lose the important feeling of heavy xxunk and risk right off the xxunk . \n",
       " \n",
       "  xxmaj other minor xxunk included xxmaj xxunk hiding his diary in the wall , yes a very small change , but it begs the question , what 's the point ? xxmaj there was also the most annoying thing a director can do with a book , and that is xxunk characters . \n",
       " \n",
       "  xxmaj the large xxunk were far more disturbing , however . xxmaj first of all , one of the important pieces of the book is that xxmaj big xxmaj brother is a government based on an intelligent , yet crude philosophy . xxmaj in the movie , they skip that and go straight to making you think that the government is run by xxmaj hitler with technology . xxmaj which is true , in a sense , when directed with its xxunk , but if that 's all you get out of xxmaj big xxmaj brother , you really missed the point of the book . xxmaj the terrifying thing about xxmaj big xxmaj brother is that , in a way , it has some points behind its philosophy . xxmaj when o'brien is picking at xxmaj xxunk mind in the xxmaj xxunk of xxmaj love , he is xxup listening to everything xxmaj xxunk says against xxmaj big xxmaj brother . xxmaj the fact that he xxunk , and advances forward in his philosophy , is in effect what is most creepy and intriguing . xxmaj in the end , ( xxunk xxup spoiler ahead ) when xxmaj xxunk says he loves xxmaj big xxmaj brother , the terrifying thing is that you are not sure whether it was xxunk the beating and torture that caused this , or the actual power behind the philosophy . i am in no way saying that the xxmaj big xxmaj brother 's philosophy has points that appeal to me , but its intelligence and depth is what makes this book incredibly disturbing . \n",
       " \n",
       "  xxmaj also , how could anyone feel any connection between xxmaj julia and xxmaj xxunk in the film ? xxmaj it was awful , no connection whatsoever . \n",
       " \n",
       "  xxmaj and where was o'brien before he gave xxmaj xxunk his address ? xxmaj one of the things that carried the book was xxmaj xxunk thoughts about o'brien xxup before he made contact with him . xxmaj in the movie , they just jump the gun . \n",
       " \n",
       "  xxmaj but that about sums up why this movie was a terrible xxunk : because its impossible xxup not to jump the gun and xxunk characters in less than two hours . xxmaj how could anyone think this movie was watchable if it was under two hours ? xxmaj at the very least , the movie demands 3 hours to be able to capture some of the important xxunk and connections . xxmaj anything less is just pointless . \n",
       " \n",
       "  xxmaj if you loved the book , and i mean xxup truly adored it , you will not xxunk of this movie , and xxunk are , you already knew you would n't . xxmaj because the book is xxunk , and this movie just proves how impossible it is xxunk something decent into a small reel of film . \n",
       " \n",
       "  xxmaj two stars out of ten,xxbos xxmaj four stories written by xxmaj robert xxmaj xxunk about various people who live in a beautiful , old mansion and what happens to them . xxmaj the first has xxmaj xxunk xxmaj elliott as a novelist who sees the killer he 's writing about come to life . xxmaj some xxunk moments and the twist at the end was good . xxmaj the second has xxmaj peter xxmaj xxunk becoming obsessed with a xxunk figure resembling his dead wife . xxmaj the third has xxmaj christopher xxmaj lee who has a child ( xxmaj xxunk xxmaj xxunk ) and is scared of her . xxmaj it all leads up to a pretty scary ending ( although the ending in the story was xxup much worse ) . xxmaj the last is an out and out comedy with xxmaj jon xxmaj xxunk and xxmaj ingrid xxmaj pitt ( both chewing the scenery ) and a cape that turns people into vampires ! xxmaj there 's also a cute line about xxmaj christopher xxmaj lee playing xxmaj dracula . \n",
       " \n",
       "  xxmaj this is a good horror anthology -- nothing terrifying but the first one and the ending of the third gave me a few xxunk little chills . xxmaj also the fourth one is actually very funny and xxmaj pitt makes a xxup very sexy vampire ! xxmaj also the house itself looks beautiful ... and very creepy . xxmaj it 's well - directed with some nice atmospheric touches . a very good and unusual movie score too . xxmaj all in all a good little horror anthology well worth seeking out . xxmaj try to see it on xxup dvd -- the xxmaj lions xxmaj gate one looks fantastic with strong colors and great sound .,xxbos xxmaj this is the one movie to see if you are to we d or are a married couple . xxmaj the movie xxunk a couple in xxmaj italy and deals with such difficult topics as xxunk , xxunk , juggling work and family . \n",
       " \n",
       "  xxmaj the so called \" culture of death \" that we are experiencing nowadays in the world is terrible and this movie will surely make you think . \n",
       " \n",
       "  a must see . i hope it gets distributed as it should . \n",
       " \n",
       "  xxmaj xxunk on the cast and director . \n",
       " \n",
       "  xxmaj two thumbs up and a 10 star xxunk from me !,xxbos xxmaj where to start ? ! . . . i feel ... violated ! xxmaj that s right , violated ! i just spent 1.5hrs of my life , 1.5hrs that i could have spent doing something more useful , like watching paint dry , on this so called horror flick . \n",
       " \n",
       "  xxmaj its not scary , its not funny , its not dramatic , its no action , its nothing ... \n",
       " \n",
       "  xxmaj its predictable , its boring , its tragic ... \n",
       " \n",
       "  i might come of a bit harsh here , but watch this movie and you will feel the same way ... or ... no , do n't watch it ... unless you want to feel violated also .\n",
       "y: CategoryList\n",
       "negative,negative,positive,positive,negative\n",
       "Path: /home/danywin/.fastai/data/imdb_sample;\n",
       "\n",
       "Valid: LabelList (201 items)\n",
       "x: TextList\n",
       "xxbos xxmaj users who have rated this movie so highly simply ca n't have seen enough good films to compare it with . xxmaj have they all been brainwashed ? ? i have rarely felt so disappointed by a film and some of that must be xxunk to the ridiculous hype surrounding this movie . \n",
       " \n",
       "  xxmaj from the first , xxup xxunk is just a chase film . xxmaj we pick it up at the end of one chase and go straight into another . xxmaj and another . xxmaj and another . xxmaj and another . xxmaj do you see a pattern emerging ? xxmaj there is virtually no time ' wasted ' on plot , character development , or boring old reality . \n",
       " \n",
       "  xxmaj if you have n't see the other two xxmaj bourne films , you 're pretty lost . xxmaj if you have - you only xxup wish you were lost - somewhere a long way from a cinema . \n",
       " \n",
       "  xxmaj paul xxmaj greengrass 's xxunk style worked exceptionally well on xxmaj united 93 which was a sentiment overload desperate to happen , but on xxmaj bourne and his interminable xxunk it just has the effect of xxunk the audience from involvement with the character . xxmaj he runs . xxmaj he jumps . xxmaj he punches . xxmaj he gets blown up . xxmaj he xxunk tall buildings . xxmaj yada yada yada . xxmaj above all - he xxup survives . xxmaj he survives like a plastic xxmaj action xxmaj man survives , which only makes the ridiculous stunts he pulls all the more slack and lacking in any kind of tension . xxmaj so he drives off a building ? xxmaj so what ? xxmaj he 'll survive . xxmaj yawn . \n",
       " \n",
       "  xxmaj there 's a girl thrown into the mix because xxmaj bourne 's love interest died in a previous incarnation , but she 's just decor . i 've seen more character depth and snappy dialogue in episodes of xxmaj captain xxmaj xxunk . \n",
       " \n",
       "  xxmaj bourne 's own journey of literal self - discovery is dull and xxunk and tells us nothing we did n't know from the first movie . xxmaj he was turned into a killing machine . xxmaj big deal . xxmaj he finds out his true identity . xxmaj so what ? xxmaj it does n't have any emotional xxunk when it comes . \n",
       " \n",
       "  xxmaj the ' twist ' ending is telegraphed and weak . xxmaj oh , dear , the more i think about this film the more i hate it ! i 've already reduced my score to 4 during the writing of this comment ! i 'd better end now before the xxunk continues . \n",
       " \n",
       "  i love a good action flick and i love a good thriller . xxmaj the xxmaj bourne xxmaj ultimatum is neither . xxmaj it 's a loud , tedious series of flashy edits , ridiculous sound effects and cartoon violence . \n",
       " \n",
       "  xxmaj the idea that it ' shows the way ' to the xxmaj bond franchise is utter crap . xxmaj casino xxmaj royale blows it out of the water .,xxbos xxmaj it 's a very good movie , not only for the fans of xxmaj lady xxmaj death comics , but also for those who like animated movies / series of adventure and fantasy . \n",
       " \n",
       "  xxmaj the film is about a innocent girl who is about killed for something she had n't done , but for be who she is daughter of the xxunk of hell , xxmaj xxunk himself . \n",
       " \n",
       "  xxmaj then she seeks revenge ... and the rest you better see it from the movie . \n",
       " \n",
       "  i liked the movie a lot , the characters are like the original comics , form xxmaj chaos . i never had the chance of read the the first parts of the story in comics , only the last ones , after the xxunk in the movie , so i can not tell you if the events are exactly like the comics , but ... one way or another it 's the story of xxmaj lady xxmaj death !,xxbos xxrep 4 * xxmaj do n't read this review if you want the shocking conclusion of \" xxmaj the xxmaj crater xxmaj lake xxmaj monster \" to be a total surprise xxrep 4 * \n",
       " \n",
       "  a claymation plesiosaur rises from the xxunk of xxmaj crater xxmaj lake to wreak havoc on a group of local rednecks , not to mention your fast forward button . xxmaj to call \" xxmaj the xxmaj crater xxmaj lake xxmaj monster \" amateurish is to xxunk the obvious . xxmaj if you are n't a fan of low budget drive - in films , you probably would n't be looking here in the first place . \n",
       " \n",
       "  xxmaj the problem with the movie is that when there 's no monster action going on , it really sucks and goes nowhere . xxmaj the script is very xxmaj ed xxmaj wood - ish , in that it 's utterly contrived in the way it sets up the main action sequences . xxmaj nothing is too outlandish for \" xxmaj the xxmaj crater xxmaj lake xxmaj monster \" . xxmaj it explains its dinosaur by having a meteor crash into xxmaj crater xxmaj lake , ' superheating ' the water to the point where it xxunk a dinosaur egg that has apparently been xxunk at the bottom of the lake for xxunk . xxmaj even if we could accept that the egg could have been lying there for so long and xxunk xxunk and xxunk , would n't \" superheating \" the water to such a high xxunk cause most of the lake to xxunk ? xxmaj other than some token fog in one or two scenes , we see no evidence of the water being hot , other than a few lines in the script . \n",
       " \n",
       "  xxmaj the script is xxunk rather obviously in a few sequences , and it will do anything to get the characters near the lake so that they can be xxunk by the claymation dino . a couple just passing through experiences car trouble and while their automobile is being xxunk , they decide to rent a boat and head out into xxmaj crater xxmaj lake . h xxrep 4 m ... do you think these strangers in the story could be there so they would run into our title xxunk ? xxmaj in a sequence that 's just plain bizarre , a drunk robs a liquor store and decides to murder the xxunk and a xxunk instead of paying four dollars for a bottle of booze . a car chase ensues , and would n't ya know it ... they end up right by the lake . xxmaj xxunk time for xxmaj xxunk ! xxmaj yeah , it 's not hard to figure out , and you 're so far ahead of the script that you 're irritated when it takes another ten minutes for these scenes to unfold . \n",
       " \n",
       "  xxmaj the xxunk of it all is endearing , and i really want to like \" xxmaj the xxmaj crater xxmaj lake xxmaj monster \" . i just ca n't do it . xxmaj there 's not enough here to go on , and this is more of a movie to put on during a party , because you could talk right over it and it would n't matter . \n",
       " \n",
       "  xxmaj the film has a slim list of the things going for it , the most important being the dinosaur itself , which appears in three forms : a shadow xxunk , a large model head that is dragged xxunk through the water , and a fully realized claymation insert that actually looks pretty good . xxmaj there are also a pair of lovable hicks in it , and they carry the majority of the intentional humor in the movie . a downbeat ending leaves us mourning the death of both the monster xxup and one of our beloved hicks , so every good thing about this film is dead by the end of it . xxmaj why was i so affected by this conclusion ? xxmaj was it the mournful song played over the closing credits ? xxmaj or was i just xxunk xxunk for the time that i waste watching films like this ?,xxbos xxmaj victor mclaglen 's performance is one of the finest in film history . \n",
       " \n",
       "  i think we can all feel for \" xxmaj xxunk \" because we 've all xxunk with what is right and what is n't and been wrong . xxmaj this was one of the first art - house pictures to be released by a major xxmaj american movie studio ( xxup rko xxmaj radio xxmaj pictures ) . \n",
       " \n",
       "  xxmaj joseph xxup h. xxmaj august 's cinematography is at its very best here . xxmaj however , xxmaj august 's stunning portion was mostly overlooked ; he did n't receive the xxmaj oscar nomination he rightly deserved . \n",
       " \n",
       "  xxmaj this is a psychological drama , with thought , philosophy , sadness , all xxunk with as little words as possible .,xxbos xxup tv does influence society ... just look at the surge in popularity of xxunk shops after this shallow little piece of work debuted . xxmaj besides , real people who look as good as these people do do n't have any problems . \n",
       " \n",
       "  xxmaj besides , does anyone really believe that these people can afford to live in a nice xxmaj manhattan xxunk considering what they do for a living ? xxup xxunk just loves to insult the viewer 's intelligence , even if they 're just around xxmaj xxunk 's level . i know a person who makes $ xxunk a year as a web designer and lives in a tiny one - bedroom apartment in xxmaj manhattan that costs $ xxunk a month in rent . \n",
       " \n",
       "  i 'd like to see a show called xxmaj xxunk , where it 's six ugly xxunk in dead - end jobs , living in a xxunk neighborhood where xxunk constantly xxunk and someone gets xxunk every week ... and then the xxunk xxunk up the rent . xxmaj now xxup that i would watch .\n",
       "y: CategoryList\n",
       "negative,positive,negative,positive,negative\n",
       "Path: /home/danywin/.fastai/data/imdb_sample;\n",
       "\n",
       "Test: None, model=SequentialRNN(\n",
       "  (0): MultiBatchEncoder(\n",
       "    (module): AWD_LSTM(\n",
       "      (encoder): Embedding(8872, 400, padding_idx=1)\n",
       "      (encoder_dp): EmbeddingDropout(\n",
       "        (emb): Embedding(8872, 400, padding_idx=1)\n",
       "      )\n",
       "      (rnns): ModuleList(\n",
       "        (0): WeightDropout(\n",
       "          (module): LSTM(400, 1152, batch_first=True)\n",
       "        )\n",
       "        (1): WeightDropout(\n",
       "          (module): LSTM(1152, 1152, batch_first=True)\n",
       "        )\n",
       "        (2): WeightDropout(\n",
       "          (module): LSTM(1152, 400, batch_first=True)\n",
       "        )\n",
       "      )\n",
       "      (input_dp): RNNDropout()\n",
       "      (hidden_dps): ModuleList(\n",
       "        (0): RNNDropout()\n",
       "        (1): RNNDropout()\n",
       "        (2): RNNDropout()\n",
       "      )\n",
       "    )\n",
       "  )\n",
       "  (1): PoolingLinearClassifier(\n",
       "    (layers): Sequential(\n",
       "      (0): BatchNorm1d(1200, eps=1e-05, momentum=0.1, affine=True, track_running_stats=True)\n",
       "      (1): Dropout(p=0.2, inplace=False)\n",
       "      (2): Linear(in_features=1200, out_features=50, bias=True)\n",
       "      (3): ReLU(inplace=True)\n",
       "      (4): BatchNorm1d(50, eps=1e-05, momentum=0.1, affine=True, track_running_stats=True)\n",
       "      (5): Dropout(p=0.1, inplace=False)\n",
       "      (6): Linear(in_features=50, out_features=2, bias=True)\n",
       "    )\n",
       "  )\n",
       "), opt_func=functools.partial(<class 'torch.optim.adam.Adam'>, betas=(0.9, 0.99)), loss_func=FlattenedLoss of CrossEntropyLoss(), metrics=[<function accuracy at 0x7fc9a0feaef0>], true_wd=True, bn_wd=True, wd=0.01, train_bn=True, path=PosixPath('/home/danywin/.fastai/data/imdb_sample'), model_dir='models', callback_fns=[functools.partial(<class 'fastai.basic_train.Recorder'>, add_time=True, silent=False)], callbacks=[RNNTrainer\n",
       "learn: ...\n",
       "alpha: 2.0\n",
       "beta: 1.0], layer_groups=[Sequential(\n",
       "  (0): Embedding(8872, 400, padding_idx=1)\n",
       "  (1): EmbeddingDropout(\n",
       "    (emb): Embedding(8872, 400, padding_idx=1)\n",
       "  )\n",
       "), Sequential(\n",
       "  (0): WeightDropout(\n",
       "    (module): LSTM(400, 1152, batch_first=True)\n",
       "  )\n",
       "  (1): RNNDropout()\n",
       "), Sequential(\n",
       "  (0): WeightDropout(\n",
       "    (module): LSTM(1152, 1152, batch_first=True)\n",
       "  )\n",
       "  (1): RNNDropout()\n",
       "), Sequential(\n",
       "  (0): WeightDropout(\n",
       "    (module): LSTM(1152, 400, batch_first=True)\n",
       "  )\n",
       "  (1): RNNDropout()\n",
       "), Sequential(\n",
       "  (0): PoolingLinearClassifier(\n",
       "    (layers): Sequential(\n",
       "      (0): BatchNorm1d(1200, eps=1e-05, momentum=0.1, affine=True, track_running_stats=True)\n",
       "      (1): Dropout(p=0.2, inplace=False)\n",
       "      (2): Linear(in_features=1200, out_features=50, bias=True)\n",
       "      (3): ReLU(inplace=True)\n",
       "      (4): BatchNorm1d(50, eps=1e-05, momentum=0.1, affine=True, track_running_stats=True)\n",
       "      (5): Dropout(p=0.1, inplace=False)\n",
       "      (6): Linear(in_features=50, out_features=2, bias=True)\n",
       "    )\n",
       "  )\n",
       ")], add_time=True, silent=False)"
      ]
     },
     "execution_count": 9,
     "metadata": {},
     "output_type": "execute_result"
    }
   ],
   "source": [
    "learn = text_classifier_learner(data_clas, AWD_LSTM, drop_mult=0.5)\n",
    "learn.load_encoder('ft_enc')"
   ]
  },
  {
   "cell_type": "code",
   "execution_count": 10,
   "metadata": {},
   "outputs": [
    {
     "data": {
      "text/html": [
       "<table border=\"1\" class=\"dataframe\">\n",
       "  <thead>\n",
       "    <tr style=\"text-align: right;\">\n",
       "      <th>text</th>\n",
       "      <th>target</th>\n",
       "    </tr>\n",
       "  </thead>\n",
       "  <tbody>\n",
       "    <tr>\n",
       "      <td>xxbos xxmaj raising xxmaj victor xxmaj vargas : a xxmaj review \\n \\n  xxmaj you know , xxmaj raising xxmaj victor xxmaj vargas is like sticking your hands into a big , steaming bowl of xxunk . xxmaj it 's warm and gooey , but you 're not sure if it feels right . xxmaj try as i might , no matter how warm and gooey xxmaj raising xxmaj</td>\n",
       "      <td>negative</td>\n",
       "    </tr>\n",
       "    <tr>\n",
       "      <td>xxbos xxup the xxup shop xxup around xxup the xxup corner is one of the sweetest and most feel - good romantic comedies ever made . xxmaj there 's just no getting around that , and it 's hard to actually put one 's feeling for this film into words . xxmaj it 's not one of those films that tries too hard , nor does it come up with</td>\n",
       "      <td>positive</td>\n",
       "    </tr>\n",
       "    <tr>\n",
       "      <td>xxbos xxmaj now that xxmaj che(2008 ) has finished its relatively short xxmaj australian cinema run ( extremely limited xxunk screen in xxmaj sydney , after xxunk ) , i can xxunk join both xxunk of \" xxmaj at xxmaj the xxmaj movies \" in taking xxmaj steven xxmaj soderbergh to task . \\n \\n  xxmaj it 's usually satisfying to watch a film director change his style /</td>\n",
       "      <td>negative</td>\n",
       "    </tr>\n",
       "    <tr>\n",
       "      <td>xxbos xxmaj this film sat on my xxmaj xxunk for weeks before i watched it . i dreaded a self - indulgent xxunk flick about relationships gone bad . i was wrong ; this was an xxunk xxunk into the screwed - up xxunk of xxmaj new xxmaj yorkers . \\n \\n  xxmaj the format is the same as xxmaj max xxmaj xxunk ' \" xxmaj la xxmaj ronde</td>\n",
       "      <td>positive</td>\n",
       "    </tr>\n",
       "    <tr>\n",
       "      <td>xxbos i really wanted to love this show . i truly , honestly did . \\n \\n  xxmaj for the first time , gay viewers get their own version of the \" xxmaj the xxmaj bachelor \" . xxmaj with the help of his obligatory \" hag \" xxmaj xxunk , xxmaj james , a good looking , well - to - do thirty - something has the chance</td>\n",
       "      <td>negative</td>\n",
       "    </tr>\n",
       "  </tbody>\n",
       "</table>"
      ],
      "text/plain": [
       "<IPython.core.display.HTML object>"
      ]
     },
     "metadata": {},
     "output_type": "display_data"
    }
   ],
   "source": [
    "learn.data.show_batch()"
   ]
  },
  {
   "cell_type": "code",
   "execution_count": 11,
   "metadata": {},
   "outputs": [
    {
     "data": {
      "text/html": [
       "<table border=\"1\" class=\"dataframe\">\n",
       "  <thead>\n",
       "    <tr style=\"text-align: left;\">\n",
       "      <th>epoch</th>\n",
       "      <th>train_loss</th>\n",
       "      <th>valid_loss</th>\n",
       "      <th>accuracy</th>\n",
       "      <th>time</th>\n",
       "    </tr>\n",
       "  </thead>\n",
       "  <tbody>\n",
       "    <tr>\n",
       "      <td>0</td>\n",
       "      <td>0.635551</td>\n",
       "      <td>0.633270</td>\n",
       "      <td>0.646766</td>\n",
       "      <td>00:20</td>\n",
       "    </tr>\n",
       "  </tbody>\n",
       "</table>"
      ],
      "text/plain": [
       "<IPython.core.display.HTML object>"
      ]
     },
     "metadata": {},
     "output_type": "display_data"
    }
   ],
   "source": [
    "learn.fit_one_cycle(1, 1e-2)"
   ]
  },
  {
   "cell_type": "code",
   "execution_count": 12,
   "metadata": {},
   "outputs": [
    {
     "data": {
      "text/html": [
       "<table border=\"1\" class=\"dataframe\">\n",
       "  <thead>\n",
       "    <tr style=\"text-align: left;\">\n",
       "      <th>epoch</th>\n",
       "      <th>train_loss</th>\n",
       "      <th>valid_loss</th>\n",
       "      <th>accuracy</th>\n",
       "      <th>time</th>\n",
       "    </tr>\n",
       "  </thead>\n",
       "  <tbody>\n",
       "    <tr>\n",
       "      <td>0</td>\n",
       "      <td>0.513393</td>\n",
       "      <td>0.485165</td>\n",
       "      <td>0.800995</td>\n",
       "      <td>00:21</td>\n",
       "    </tr>\n",
       "  </tbody>\n",
       "</table>"
      ],
      "text/plain": [
       "<IPython.core.display.HTML object>"
      ]
     },
     "metadata": {},
     "output_type": "display_data"
    }
   ],
   "source": [
    "learn.freeze_to(-2)\n",
    "learn.fit_one_cycle(1, slice(5e-3/2., 5e-3))"
   ]
  },
  {
   "cell_type": "code",
   "execution_count": 13,
   "metadata": {},
   "outputs": [
    {
     "data": {
      "text/html": [
       "<table border=\"1\" class=\"dataframe\">\n",
       "  <thead>\n",
       "    <tr style=\"text-align: left;\">\n",
       "      <th>epoch</th>\n",
       "      <th>train_loss</th>\n",
       "      <th>valid_loss</th>\n",
       "      <th>accuracy</th>\n",
       "      <th>time</th>\n",
       "    </tr>\n",
       "  </thead>\n",
       "  <tbody>\n",
       "    <tr>\n",
       "      <td>0</td>\n",
       "      <td>0.375651</td>\n",
       "      <td>0.392487</td>\n",
       "      <td>0.835821</td>\n",
       "      <td>00:42</td>\n",
       "    </tr>\n",
       "  </tbody>\n",
       "</table>"
      ],
      "text/plain": [
       "<IPython.core.display.HTML object>"
      ]
     },
     "metadata": {},
     "output_type": "display_data"
    }
   ],
   "source": [
    "learn.unfreeze()\n",
    "learn.fit_one_cycle(1, slice(2e-3/100, 2e-3))"
   ]
  },
  {
   "cell_type": "code",
   "execution_count": 14,
   "metadata": {},
   "outputs": [],
   "source": [
    "from fastai_bayesian_nn.custom_dropout import CustomDropout, switch_custom_dropout, convert_layers\n",
    "from fastai_bayesian_nn.bayesian import (entropy, BALD, uncertainty_best_probability,\n",
    "                      get_preds_sample, plot_hist_groups, top_k_uncertainty)"
   ]
  },
  {
   "cell_type": "code",
   "execution_count": 15,
   "metadata": {},
   "outputs": [],
   "source": [
    "get_args = lambda dp : {\"p\" : dp.p}\n",
    "convert_layers(learn.model,nn.Dropout,CustomDropout,get_args)"
   ]
  },
  {
   "cell_type": "code",
   "execution_count": 16,
   "metadata": {},
   "outputs": [
    {
     "data": {
      "text/plain": [
       "SequentialRNN(\n",
       "  (0): MultiBatchEncoder(\n",
       "    (module): AWD_LSTM(\n",
       "      (encoder): Embedding(8872, 400, padding_idx=1)\n",
       "      (encoder_dp): EmbeddingDropout(\n",
       "        (emb): Embedding(8872, 400, padding_idx=1)\n",
       "      )\n",
       "      (rnns): ModuleList(\n",
       "        (0): WeightDropout(\n",
       "          (module): LSTM(400, 1152, batch_first=True)\n",
       "        )\n",
       "        (1): WeightDropout(\n",
       "          (module): LSTM(1152, 1152, batch_first=True)\n",
       "        )\n",
       "        (2): WeightDropout(\n",
       "          (module): LSTM(1152, 400, batch_first=True)\n",
       "        )\n",
       "      )\n",
       "      (input_dp): RNNDropout()\n",
       "      (hidden_dps): ModuleList(\n",
       "        (0): RNNDropout()\n",
       "        (1): RNNDropout()\n",
       "        (2): RNNDropout()\n",
       "      )\n",
       "    )\n",
       "  )\n",
       "  (1): PoolingLinearClassifier(\n",
       "    (layers): Sequential(\n",
       "      (0): BatchNorm1d(1200, eps=1e-05, momentum=0.1, affine=True, track_running_stats=True)\n",
       "      (1): CustomDropout(p=0.2, activate=True)\n",
       "      (2): Linear(in_features=1200, out_features=50, bias=True)\n",
       "      (3): ReLU(inplace=True)\n",
       "      (4): BatchNorm1d(50, eps=1e-05, momentum=0.1, affine=True, track_running_stats=True)\n",
       "      (5): CustomDropout(p=0.1, activate=True)\n",
       "      (6): Linear(in_features=50, out_features=2, bias=True)\n",
       "    )\n",
       "  )\n",
       ")"
      ]
     },
     "execution_count": 16,
     "metadata": {},
     "output_type": "execute_result"
    }
   ],
   "source": [
    "learn.model"
   ]
  },
  {
   "cell_type": "code",
   "execution_count": 17,
   "metadata": {},
   "outputs": [
    {
     "name": "stdout",
     "output_type": "stream",
     "text": [
      "Current active : True\n",
      "Switching to : False\n",
      "Current active : True\n",
      "Switching to : False\n"
     ]
    }
   ],
   "source": [
    "switch_custom_dropout(learn.model,False,True)"
   ]
  },
  {
   "cell_type": "code",
   "execution_count": 18,
   "metadata": {},
   "outputs": [
    {
     "data": {
      "text/plain": [
       "tensor(0.8358)"
      ]
     },
     "execution_count": 18,
     "metadata": {},
     "output_type": "execute_result"
    }
   ],
   "source": [
    "pred,y = learn.get_preds()\n",
    "accuracy(pred,y)"
   ]
  },
  {
   "cell_type": "code",
   "execution_count": 19,
   "metadata": {},
   "outputs": [
    {
     "name": "stdout",
     "output_type": "stream",
     "text": [
      "Current active : False\n",
      "Switching to : True\n",
      "Current active : False\n",
      "Switching to : True\n"
     ]
    }
   ],
   "source": [
    "switch_custom_dropout(learn.model,True,True)"
   ]
  },
  {
   "cell_type": "code",
   "execution_count": 20,
   "metadata": {},
   "outputs": [
    {
     "data": {
      "text/plain": [
       "tensor(0.8408)"
      ]
     },
     "execution_count": 20,
     "metadata": {},
     "output_type": "execute_result"
    }
   ],
   "source": [
    "pred,y = get_preds_sample(learn)\n",
    "accuracy(pred.mean(dim=0),y)"
   ]
  },
  {
   "cell_type": "code",
   "execution_count": 31,
   "metadata": {},
   "outputs": [
    {
     "data": {
      "image/png": "[encoded data removed]",
      "text/plain": [
       "<Figure size 1440x1008 with 4 Axes>"
      ]
     },
     "metadata": {
      "needs_background": "light"
     },
     "output_type": "display_data"
    }
   ],
   "source": [
    "plot_hist_groups(pred,y,entropy,bins=10,figsize=(20,14))"
   ]
  },
  {
   "cell_type": "code",
   "execution_count": 23,
   "metadata": {
    "scrolled": false
   },
   "outputs": [
    {
     "name": "stdout",
     "output_type": "stream",
     "text": [
      "_____________\n",
      "Review : \n",
      "> <ipython-input-23-87a677b6e10b>(3)<module>()\n",
      "-> for review in learn.data.valid_ds[idx]:\n",
      "(Pdb) review\n",
      "(Text xxbos xxmaj do n't bother . a little xxunk could go a long way , but all we get is pure ham , particularly from xxmaj dunaway . xxmaj the plot is one of those bumper car episodes ... the vehicle bounces into another and everything changes direction again , until we are merely xxunk our heads wondering if there were ever a plot . xxmaj gina xxmaj phillips is actually good , but it 's hard playing across from a xxunk xxmaj dunaway playing xxmaj lady xxmaj xxunk lost in the xxmaj marx 's xxmaj brother 's xxmaj duck xxmaj xxunk . xxmaj ah , the xxmaj raven ... now there 's an actor . xxmaj and there is the relative who just lies and bed and looks xxunk . xxmaj or xxmaj dr. xxmaj xxunk who 's filled with lots of gloom and no working xxunk . i 'm one of those xxunk who just has to see a movie to the end . xxmaj xxunk the xxmaj raven , \" xxmaj xxunk . \", Category negative)\n",
      "(Pdb) quit()\n"
     ]
    },
    {
     "ename": "BdbQuit",
     "evalue": "",
     "output_type": "error",
     "traceback": [
      "\u001b[0;31m---------------------------------------------------------------------------\u001b[0m",
      "\u001b[0;31mBdbQuit\u001b[0m                                   Traceback (most recent call last)",
      "\u001b[0;32m<ipython-input-23-87a677b6e10b>\u001b[0m in \u001b[0;36m<module>\u001b[0;34m\u001b[0m\n\u001b[1;32m      1\u001b[0m \u001b[0mH\u001b[0m \u001b[0;34m=\u001b[0m \u001b[0muncertainty_best_probability\u001b[0m\u001b[0;34m(\u001b[0m\u001b[0mpred\u001b[0m\u001b[0;34m)\u001b[0m\u001b[0;34m\u001b[0m\u001b[0;34m\u001b[0m\u001b[0m\n\u001b[1;32m      2\u001b[0m \u001b[0midx\u001b[0m \u001b[0;34m=\u001b[0m \u001b[0mtop_k_uncertainty\u001b[0m\u001b[0;34m(\u001b[0m\u001b[0mH\u001b[0m\u001b[0;34m,\u001b[0m\u001b[0mreverse\u001b[0m\u001b[0;34m=\u001b[0m\u001b[0;32mFalse\u001b[0m\u001b[0;34m)\u001b[0m\u001b[0;34m\u001b[0m\u001b[0;34m\u001b[0m\u001b[0m\n\u001b[0;32m----> 3\u001b[0;31m \u001b[0;32mfor\u001b[0m \u001b[0mreview\u001b[0m \u001b[0;32min\u001b[0m \u001b[0mlearn\u001b[0m\u001b[0;34m.\u001b[0m\u001b[0mdata\u001b[0m\u001b[0;34m.\u001b[0m\u001b[0mvalid_ds\u001b[0m\u001b[0;34m[\u001b[0m\u001b[0midx\u001b[0m\u001b[0;34m]\u001b[0m\u001b[0;34m:\u001b[0m\u001b[0;34m\u001b[0m\u001b[0;34m\u001b[0m\u001b[0m\n\u001b[0m\u001b[1;32m      4\u001b[0m     \u001b[0mprint\u001b[0m\u001b[0;34m(\u001b[0m\u001b[0;34m\"_____________\"\u001b[0m\u001b[0;34m)\u001b[0m\u001b[0;34m\u001b[0m\u001b[0;34m\u001b[0m\u001b[0m\n\u001b[1;32m      5\u001b[0m     \u001b[0mprint\u001b[0m\u001b[0;34m(\u001b[0m\u001b[0;34m\"Review : \"\u001b[0m\u001b[0;34m)\u001b[0m\u001b[0;34m\u001b[0m\u001b[0;34m\u001b[0m\u001b[0m\n",
      "\u001b[0;32m<ipython-input-23-87a677b6e10b>\u001b[0m in \u001b[0;36m<module>\u001b[0;34m\u001b[0m\n\u001b[1;32m      1\u001b[0m \u001b[0mH\u001b[0m \u001b[0;34m=\u001b[0m \u001b[0muncertainty_best_probability\u001b[0m\u001b[0;34m(\u001b[0m\u001b[0mpred\u001b[0m\u001b[0;34m)\u001b[0m\u001b[0;34m\u001b[0m\u001b[0;34m\u001b[0m\u001b[0m\n\u001b[1;32m      2\u001b[0m \u001b[0midx\u001b[0m \u001b[0;34m=\u001b[0m \u001b[0mtop_k_uncertainty\u001b[0m\u001b[0;34m(\u001b[0m\u001b[0mH\u001b[0m\u001b[0;34m,\u001b[0m\u001b[0mreverse\u001b[0m\u001b[0;34m=\u001b[0m\u001b[0;32mFalse\u001b[0m\u001b[0;34m)\u001b[0m\u001b[0;34m\u001b[0m\u001b[0;34m\u001b[0m\u001b[0m\n\u001b[0;32m----> 3\u001b[0;31m \u001b[0;32mfor\u001b[0m \u001b[0mreview\u001b[0m \u001b[0;32min\u001b[0m \u001b[0mlearn\u001b[0m\u001b[0;34m.\u001b[0m\u001b[0mdata\u001b[0m\u001b[0;34m.\u001b[0m\u001b[0mvalid_ds\u001b[0m\u001b[0;34m[\u001b[0m\u001b[0midx\u001b[0m\u001b[0;34m]\u001b[0m\u001b[0;34m:\u001b[0m\u001b[0;34m\u001b[0m\u001b[0;34m\u001b[0m\u001b[0m\n\u001b[0m\u001b[1;32m      4\u001b[0m     \u001b[0mprint\u001b[0m\u001b[0;34m(\u001b[0m\u001b[0;34m\"_____________\"\u001b[0m\u001b[0;34m)\u001b[0m\u001b[0;34m\u001b[0m\u001b[0;34m\u001b[0m\u001b[0m\n\u001b[1;32m      5\u001b[0m     \u001b[0mprint\u001b[0m\u001b[0;34m(\u001b[0m\u001b[0;34m\"Review : \"\u001b[0m\u001b[0;34m)\u001b[0m\u001b[0;34m\u001b[0m\u001b[0;34m\u001b[0m\u001b[0m\n",
      "\u001b[0;32m/data/anaconda/envs/fastai/lib/python3.7/bdb.py\u001b[0m in \u001b[0;36mtrace_dispatch\u001b[0;34m(self, frame, event, arg)\u001b[0m\n\u001b[1;32m     86\u001b[0m             \u001b[0;32mreturn\u001b[0m \u001b[0;31m# None\u001b[0m\u001b[0;34m\u001b[0m\u001b[0;34m\u001b[0m\u001b[0m\n\u001b[1;32m     87\u001b[0m         \u001b[0;32mif\u001b[0m \u001b[0mevent\u001b[0m \u001b[0;34m==\u001b[0m \u001b[0;34m'line'\u001b[0m\u001b[0;34m:\u001b[0m\u001b[0;34m\u001b[0m\u001b[0;34m\u001b[0m\u001b[0m\n\u001b[0;32m---> 88\u001b[0;31m             \u001b[0;32mreturn\u001b[0m \u001b[0mself\u001b[0m\u001b[0;34m.\u001b[0m\u001b[0mdispatch_line\u001b[0m\u001b[0;34m(\u001b[0m\u001b[0mframe\u001b[0m\u001b[0;34m)\u001b[0m\u001b[0;34m\u001b[0m\u001b[0;34m\u001b[0m\u001b[0m\n\u001b[0m\u001b[1;32m     89\u001b[0m         \u001b[0;32mif\u001b[0m \u001b[0mevent\u001b[0m \u001b[0;34m==\u001b[0m \u001b[0;34m'call'\u001b[0m\u001b[0;34m:\u001b[0m\u001b[0;34m\u001b[0m\u001b[0;34m\u001b[0m\u001b[0m\n\u001b[1;32m     90\u001b[0m             \u001b[0;32mreturn\u001b[0m \u001b[0mself\u001b[0m\u001b[0;34m.\u001b[0m\u001b[0mdispatch_call\u001b[0m\u001b[0;34m(\u001b[0m\u001b[0mframe\u001b[0m\u001b[0;34m,\u001b[0m \u001b[0marg\u001b[0m\u001b[0;34m)\u001b[0m\u001b[0;34m\u001b[0m\u001b[0;34m\u001b[0m\u001b[0m\n",
      "\u001b[0;32m/data/anaconda/envs/fastai/lib/python3.7/bdb.py\u001b[0m in \u001b[0;36mdispatch_line\u001b[0;34m(self, frame)\u001b[0m\n\u001b[1;32m    111\u001b[0m         \u001b[0;32mif\u001b[0m \u001b[0mself\u001b[0m\u001b[0;34m.\u001b[0m\u001b[0mstop_here\u001b[0m\u001b[0;34m(\u001b[0m\u001b[0mframe\u001b[0m\u001b[0;34m)\u001b[0m \u001b[0;32mor\u001b[0m \u001b[0mself\u001b[0m\u001b[0;34m.\u001b[0m\u001b[0mbreak_here\u001b[0m\u001b[0;34m(\u001b[0m\u001b[0mframe\u001b[0m\u001b[0;34m)\u001b[0m\u001b[0;34m:\u001b[0m\u001b[0;34m\u001b[0m\u001b[0;34m\u001b[0m\u001b[0m\n\u001b[1;32m    112\u001b[0m             \u001b[0mself\u001b[0m\u001b[0;34m.\u001b[0m\u001b[0muser_line\u001b[0m\u001b[0;34m(\u001b[0m\u001b[0mframe\u001b[0m\u001b[0;34m)\u001b[0m\u001b[0;34m\u001b[0m\u001b[0;34m\u001b[0m\u001b[0m\n\u001b[0;32m--> 113\u001b[0;31m             \u001b[0;32mif\u001b[0m \u001b[0mself\u001b[0m\u001b[0;34m.\u001b[0m\u001b[0mquitting\u001b[0m\u001b[0;34m:\u001b[0m \u001b[0;32mraise\u001b[0m \u001b[0mBdbQuit\u001b[0m\u001b[0;34m\u001b[0m\u001b[0;34m\u001b[0m\u001b[0m\n\u001b[0m\u001b[1;32m    114\u001b[0m         \u001b[0;32mreturn\u001b[0m \u001b[0mself\u001b[0m\u001b[0;34m.\u001b[0m\u001b[0mtrace_dispatch\u001b[0m\u001b[0;34m\u001b[0m\u001b[0;34m\u001b[0m\u001b[0m\n\u001b[1;32m    115\u001b[0m \u001b[0;34m\u001b[0m\u001b[0m\n",
      "\u001b[0;31mBdbQuit\u001b[0m: "
     ]
    }
   ],
   "source": [
    "H = uncertainty_best_probability(pred)\n",
    "idx = top_k_uncertainty(H,reverse=False)\n",
    "for review in learn.data.valid_ds[idx]:\n",
    "    print(\"_____________\")\n",
    "    print(\"Review : \")"
   ]
  },
  {
   "cell_type": "code",
   "execution_count": 29,
   "metadata": {},
   "outputs": [],
   "source": [
    "x = learn.data.train_ds.x"
   ]
  },
  {
   "cell_type": "code",
   "execution_count": 30,
   "metadata": {},
   "outputs": [
    {
     "data": {
      "text/plain": [
       "TextList (799 items)\n",
       "xxbos xxmaj doc xxmaj savage : xxmaj the xxmaj man of xxmaj bronze is a horrible movie . xxmaj poorly scripted , over - acted , and just plain silly . xxmaj that being said ... it is actually an enjoyable movie on some level . xxmaj this movie begs to be watched in a group with an xxunk supply of cheap beer . xxmaj it 's one of those movies like \" xxmaj santa xxmaj claus conquers the xxmaj martians \" or \" xxmaj xxunk , the xxmaj hunter from the xxmaj future \" ... so bad it is almost good . xxmaj if you have the right group of people this movie is a blast to watch . xxmaj it 's campy . xxmaj it 's fun . xxmaj it has a theme by xxmaj xxunk . xxmaj if you 're looking for a good movie though , look elsewhere . 3 / 10 . \n",
       " \n",
       "  xxup xxunk , i 've heard rumors some studio is exploring the possibility of a remake ...,xxbos i saw this movie literally directly after xxunk the book , and maybe that was a neutral idea or a very stupid one . i think it was the latter . xxmaj first of all , it was inaccurate in many small , yet important details . xxmaj one of the first things i noticed was , during xxmaj xxunk 's day to day life in his work , his conversations , eating in the cafeteria , etc . he feels free to look unhappy and make xxunk xxunk at people without immense fear . xxmaj one of the most important parts of the book , was that even in small activities it was virtually impossible to safely show even a hint of his true emotions on his face xxup at xxup any xxup moment . xxmaj this is also shown in the scenes on the streets of the xxunk . xxmaj in the book xxmaj xxunk knew that this was a huge risk to wander around there and was skeptical and frightened at every trip . xxmaj while in the movie , he does it so often and without fear , that you lose the important feeling of heavy xxunk and risk right off the xxunk . \n",
       " \n",
       "  xxmaj other minor xxunk included xxmaj xxunk hiding his diary in the wall , yes a very small change , but it begs the question , what 's the point ? xxmaj there was also the most annoying thing a director can do with a book , and that is xxunk characters . \n",
       " \n",
       "  xxmaj the large xxunk were far more disturbing , however . xxmaj first of all , one of the important pieces of the book is that xxmaj big xxmaj brother is a government based on an intelligent , yet crude philosophy . xxmaj in the movie , they skip that and go straight to making you think that the government is run by xxmaj hitler with technology . xxmaj which is true , in a sense , when directed with its xxunk , but if that 's all you get out of xxmaj big xxmaj brother , you really missed the point of the book . xxmaj the terrifying thing about xxmaj big xxmaj brother is that , in a way , it has some points behind its philosophy . xxmaj when o'brien is picking at xxmaj xxunk mind in the xxmaj xxunk of xxmaj love , he is xxup listening to everything xxmaj xxunk says against xxmaj big xxmaj brother . xxmaj the fact that he xxunk , and advances forward in his philosophy , is in effect what is most creepy and intriguing . xxmaj in the end , ( xxunk xxup spoiler ahead ) when xxmaj xxunk says he loves xxmaj big xxmaj brother , the terrifying thing is that you are not sure whether it was xxunk the beating and torture that caused this , or the actual power behind the philosophy . i am in no way saying that the xxmaj big xxmaj brother 's philosophy has points that appeal to me , but its intelligence and depth is what makes this book incredibly disturbing . \n",
       " \n",
       "  xxmaj also , how could anyone feel any connection between xxmaj julia and xxmaj xxunk in the film ? xxmaj it was awful , no connection whatsoever . \n",
       " \n",
       "  xxmaj and where was o'brien before he gave xxmaj xxunk his address ? xxmaj one of the things that carried the book was xxmaj xxunk thoughts about o'brien xxup before he made contact with him . xxmaj in the movie , they just jump the gun . \n",
       " \n",
       "  xxmaj but that about sums up why this movie was a terrible xxunk : because its impossible xxup not to jump the gun and xxunk characters in less than two hours . xxmaj how could anyone think this movie was watchable if it was under two hours ? xxmaj at the very least , the movie demands 3 hours to be able to capture some of the important xxunk and connections . xxmaj anything less is just pointless . \n",
       " \n",
       "  xxmaj if you loved the book , and i mean xxup truly adored it , you will not xxunk of this movie , and xxunk are , you already knew you would n't . xxmaj because the book is xxunk , and this movie just proves how impossible it is xxunk something decent into a small reel of film . \n",
       " \n",
       "  xxmaj two stars out of ten,xxbos xxmaj four stories written by xxmaj robert xxmaj xxunk about various people who live in a beautiful , old mansion and what happens to them . xxmaj the first has xxmaj xxunk xxmaj elliott as a novelist who sees the killer he 's writing about come to life . xxmaj some xxunk moments and the twist at the end was good . xxmaj the second has xxmaj peter xxmaj xxunk becoming obsessed with a xxunk figure resembling his dead wife . xxmaj the third has xxmaj christopher xxmaj lee who has a child ( xxmaj xxunk xxmaj xxunk ) and is scared of her . xxmaj it all leads up to a pretty scary ending ( although the ending in the story was xxup much worse ) . xxmaj the last is an out and out comedy with xxmaj jon xxmaj xxunk and xxmaj ingrid xxmaj pitt ( both chewing the scenery ) and a cape that turns people into vampires ! xxmaj there 's also a cute line about xxmaj christopher xxmaj lee playing xxmaj dracula . \n",
       " \n",
       "  xxmaj this is a good horror anthology -- nothing terrifying but the first one and the ending of the third gave me a few xxunk little chills . xxmaj also the fourth one is actually very funny and xxmaj pitt makes a xxup very sexy vampire ! xxmaj also the house itself looks beautiful ... and very creepy . xxmaj it 's well - directed with some nice atmospheric touches . a very good and unusual movie score too . xxmaj all in all a good little horror anthology well worth seeking out . xxmaj try to see it on xxup dvd -- the xxmaj lions xxmaj gate one looks fantastic with strong colors and great sound .,xxbos xxmaj this is the one movie to see if you are to we d or are a married couple . xxmaj the movie xxunk a couple in xxmaj italy and deals with such difficult topics as xxunk , xxunk , juggling work and family . \n",
       " \n",
       "  xxmaj the so called \" culture of death \" that we are experiencing nowadays in the world is terrible and this movie will surely make you think . \n",
       " \n",
       "  a must see . i hope it gets distributed as it should . \n",
       " \n",
       "  xxmaj xxunk on the cast and director . \n",
       " \n",
       "  xxmaj two thumbs up and a 10 star xxunk from me !,xxbos xxmaj where to start ? ! . . . i feel ... violated ! xxmaj that s right , violated ! i just spent 1.5hrs of my life , 1.5hrs that i could have spent doing something more useful , like watching paint dry , on this so called horror flick . \n",
       " \n",
       "  xxmaj its not scary , its not funny , its not dramatic , its no action , its nothing ... \n",
       " \n",
       "  xxmaj its predictable , its boring , its tragic ... \n",
       " \n",
       "  i might come of a bit harsh here , but watch this movie and you will feel the same way ... or ... no , do n't watch it ... unless you want to feel violated also .\n",
       "Path: /home/danywin/.fastai/data/imdb_sample"
      ]
     },
     "execution_count": 30,
     "metadata": {},
     "output_type": "execute_result"
    }
   ],
   "source": [
    "x"
   ]
  }
 ],
 "metadata": {
  "kernelspec": {
   "display_name": "Python 3",
   "language": "python",
   "name": "python3"
  },
  "language_info": {
   "codemirror_mode": {
    "name": "ipython",
    "version": 3
   },
   "file_extension": ".py",
   "mimetype": "text/x-python",
   "name": "python",
   "nbconvert_exporter": "python",
   "pygments_lexer": "ipython3",
   "version": "3.7.5"
  }
 },
 "nbformat": 4,
 "nbformat_minor": 2
}
