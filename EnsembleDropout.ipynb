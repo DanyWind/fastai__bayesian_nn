{
 "cells": [
  {
   "cell_type": "code",
   "execution_count": 1,
   "metadata": {},
   "outputs": [],
   "source": [
    "from fastai.vision import *\n",
    "from sklearn.model_selection import train_test_split\n",
    "\n",
    "from fastai_bayesian.custom_dropout import CustomDropout, switch_custom_dropout, convert_layers, DropLinear\n",
    "from fastai_bayesian.metrics import (entropy, BALD, uncertainty_best_probability,\n",
    "                      get_preds_sample, plot_hist_groups, top_k_uncertainty)\n",
    "from fastai_bayesian.active_learn import ImageActiveLearner"
   ]
  },
  {
   "cell_type": "code",
   "execution_count": 18,
   "metadata": {},
   "outputs": [],
   "source": [
    "n_in = test.W.in_features\n",
    "n_out = test.W.out_features\n",
    "dp = test.dropout.dp"
   ]
  },
  {
   "cell_type": "code",
   "execution_count": 31,
   "metadata": {},
   "outputs": [
    {
     "data": {
      "text/plain": [
       "tensor(0.3457)"
      ]
     },
     "execution_count": 31,
     "metadata": {},
     "output_type": "execute_result"
    }
   ],
   "source": [
    "n_sample = 10\n",
    "p = 1 - dp\n",
    "margin = 0.05\n",
    "total_margin = p + margin\n",
    "new_p = total_margin\n",
    "\n",
    "k = int(total_margin * n_out)\n",
    "masks = []\n",
    "\n",
    "for i in range(n_sample):\n",
    "    mask = test.topk_sample(n_out,k,new_p)\n",
    "    mask = mask[None]\n",
    "    masks.append(mask)\n",
    "\n",
    "torch.clamp(torch.cat(masks).sum(dim=0),0,1).mean()"
   ]
  },
  {
   "cell_type": "code",
   "execution_count": 40,
   "metadata": {},
   "outputs": [],
   "source": []
  },
  {
   "cell_type": "code",
   "execution_count": 28,
   "metadata": {},
   "outputs": [],
   "source": [
    "model = learn.model\n",
    "\n",
    "n_sample = 100\n",
    "\n",
    "masks = []\n",
    "\n",
    "for i in range(n_sample):\n",
    "\n",
    "    mask = topk_sample_model(model)\n",
    "    mask = torch.cat(mask)\n",
    "    masks.append(mask)"
   ]
  },
  {
   "cell_type": "code",
   "execution_count": 29,
   "metadata": {},
   "outputs": [
    {
     "data": {
      "text/plain": [
       "tensor(0.3496)"
      ]
     },
     "execution_count": 29,
     "metadata": {},
     "output_type": "execute_result"
    }
   ],
   "source": [
    "torch.clamp(torch.stack(masks).sum(dim=0),0,1).mean()"
   ]
  },
  {
   "cell_type": "code",
   "execution_count": 38,
   "metadata": {},
   "outputs": [],
   "source": [
    "mask = get_mask_preds(learn,topk_sample_model)"
   ]
  },
  {
   "cell_type": "code",
   "execution_count": 42,
   "metadata": {},
   "outputs": [],
   "source": [
    "mask,_ = get_mask_preds(learn,topk_sample_model)"
   ]
  },
  {
   "cell_type": "code",
   "execution_count": 34,
   "metadata": {},
   "outputs": [],
   "source": [
    "mask = topk_sample_model(learn.model)"
   ]
  },
  {
   "cell_type": "code",
   "execution_count": 56,
   "metadata": {},
   "outputs": [],
   "source": [
    "n_sample = 3\n",
    "\n",
    "sample_model_fn = partial(topk_sample_model,margin=0.1)\n",
    "masks = []\n",
    "\n",
    "for t in range(n_sample):\n",
    "    mask,pred = get_mask_preds(learn,sample_model_fn=sample_model_fn,activ=activ)\n",
    "    mask = torch.cat(mask)\n",
    "    masks.append(mask)"
   ]
  },
  {
   "cell_type": "code",
   "execution_count": 57,
   "metadata": {},
   "outputs": [
    {
     "data": {
      "text/plain": [
       "tensor(0.3939)"
      ]
     },
     "execution_count": 57,
     "metadata": {},
     "output_type": "execute_result"
    }
   ],
   "source": [
    "torch.clamp(torch.stack(masks).sum(dim=0),0,1).mean()"
   ]
  },
  {
   "cell_type": "code",
   "execution_count": 49,
   "metadata": {},
   "outputs": [],
   "source": [
    "model = learn.model\n",
    "\n",
    "n_sample = 3\n",
    "masks = []\n",
    "\n",
    "for i in range(n_sample):\n",
    "    mask,_ = get_mask_preds(learn,topk_sample_model)\n",
    "    mask = torch.cat(mask)\n",
    "    masks.append(mask)"
   ]
  },
  {
   "cell_type": "code",
   "execution_count": 50,
   "metadata": {},
   "outputs": [
    {
     "data": {
      "text/plain": [
       "tensor(0.3496)"
      ]
     },
     "execution_count": 50,
     "metadata": {},
     "output_type": "execute_result"
    }
   ],
   "source": [
    "torch.clamp(torch.stack(masks).sum(dim=0),0,1).mean()"
   ]
  },
  {
   "cell_type": "code",
   "execution_count": 112,
   "metadata": {},
   "outputs": [],
   "source": [
    "def get_model(dp):\n",
    "    model = nn.Sequential(\n",
    "        nn.Flatten(),\n",
    "        DropLinear(784,512,dp=dp),\n",
    "        nn.ReLU(),\n",
    "        DropLinear(512,512,dp=dp),\n",
    "        nn.ReLU(),\n",
    "        DropLinear(512,512,dp=dp),\n",
    "        nn.ReLU(),\n",
    "        nn.Linear(512,10)\n",
    "    )\n",
    "    return model"
   ]
  },
  {
   "cell_type": "code",
   "execution_count": 3,
   "metadata": {},
   "outputs": [],
   "source": [
    "def train_test_split_image(train_size):\n",
    "    # Create two data bunchs, one for training the unsupervised model, one for testing\n",
    "    # the results of the semi supervised model\n",
    "    \n",
    "    # We first load the whole data set \n",
    "    path = untar_data(URLs.MNIST)\n",
    "    tfms = get_transforms(do_flip = False)\n",
    "    data = (ImageList.from_folder(path/\"training\")\n",
    "            .split_none()\n",
    "            .label_from_folder()\n",
    "            .transform()\n",
    "            .databunch())\n",
    "\n",
    "    # We then randomly select train_size samples from the whole MNIST and put in train\n",
    "    # for the unsupervised, and semi supervised training, and the rest will be used \n",
    "    # as a test set for the semi supervised model evaluation\n",
    "    \n",
    "    n = len(data.train_ds.x.items)\n",
    "    \n",
    "    # We create two data frames which will be used to create the data bunches\n",
    "    train_idx = np.random.choice(n,train_size,replace = False)\n",
    "    x_train,y_train = data.train_ds.x.items[train_idx],data.train_ds.y.items[train_idx]\n",
    "    train_df = pd.DataFrame({\"name\":x_train,\"label\":y_train})\n",
    "    \n",
    "    test_idx = np.array(list(set(np.arange(n)) - set(train_idx)))\n",
    "    x_test,y_test = data.train_ds.x.items[test_idx],data.train_ds.y.items[test_idx]\n",
    "    test_df = pd.DataFrame({\"name\" : x_test,\"label\":y_test})\n",
    "    \n",
    "    return train_df, test_df"
   ]
  },
  {
   "cell_type": "code",
   "execution_count": 4,
   "metadata": {},
   "outputs": [],
   "source": [
    "path = untar_data(URLs.MNIST)"
   ]
  },
  {
   "cell_type": "code",
   "execution_count": 5,
   "metadata": {},
   "outputs": [],
   "source": [
    "total_train_size = 50000\n",
    "\n",
    "train_df, test_df = train_test_split_image(total_train_size)"
   ]
  },
  {
   "cell_type": "code",
   "execution_count": 6,
   "metadata": {},
   "outputs": [],
   "source": [
    "data = ImageActiveLearner.create_databunch(train_df,bs=512)"
   ]
  },
  {
   "cell_type": "code",
   "execution_count": 113,
   "metadata": {},
   "outputs": [],
   "source": [
    "model = get_model(dp=0.5)\n",
    "learn = Learner(data,model,metrics=accuracy)"
   ]
  },
  {
   "cell_type": "code",
   "execution_count": 106,
   "metadata": {},
   "outputs": [
    {
     "data": {
      "text/html": [],
      "text/plain": [
       "<IPython.core.display.HTML object>"
      ]
     },
     "metadata": {},
     "output_type": "display_data"
    },
    {
     "name": "stdout",
     "output_type": "stream",
     "text": [
      "LR Finder is complete, type {learner_name}.recorder.plot() to see the graph.\n"
     ]
    },
    {
     "data": {
      "image/png": "[encoded data removed]",
      "text/plain": [
       "<Figure size 432x288 with 1 Axes>"
      ]
     },
     "metadata": {
      "needs_background": "light"
     },
     "output_type": "display_data"
    }
   ],
   "source": [
    "learn.lr_find()\n",
    "learn.recorder.plot()"
   ]
  },
  {
   "cell_type": "code",
   "execution_count": null,
   "metadata": {},
   "outputs": [],
   "source": [
    "learn.fit_one_cycle(20,1e-2/2)"
   ]
  },
  {
   "cell_type": "code",
   "execution_count": null,
   "metadata": {},
   "outputs": [],
   "source": [
    "learn.lr_find()\n",
    "learn.recorder.plot()"
   ]
  },
  {
   "cell_type": "code",
   "execution_count": null,
   "metadata": {},
   "outputs": [],
   "source": [
    "learn.fit_one_cycle(10,1e-3)"
   ]
  },
  {
   "cell_type": "code",
   "execution_count": 99,
   "metadata": {},
   "outputs": [],
   "source": [
    "learn.save(\"model_dp_70\")"
   ]
  },
  {
   "cell_type": "code",
   "execution_count": 9,
   "metadata": {},
   "outputs": [
    {
     "data": {
      "text/plain": [
       "Learner(data=ImageDataBunch;\n",
       "\n",
       "Train: LabelList (40000 items)\n",
       "x: ImageList\n",
       "Image (3, 28, 28),Image (3, 28, 28),Image (3, 28, 28),Image (3, 28, 28),Image (3, 28, 28)\n",
       "y: CategoryList\n",
       "8,1,3,3,2\n",
       "Path: /;\n",
       "\n",
       "Valid: LabelList (10000 items)\n",
       "x: ImageList\n",
       "Image (3, 28, 28),Image (3, 28, 28),Image (3, 28, 28),Image (3, 28, 28),Image (3, 28, 28)\n",
       "y: CategoryList\n",
       "3,8,1,6,2\n",
       "Path: /;\n",
       "\n",
       "Test: None, model=Sequential(\n",
       "  (0): Flatten()\n",
       "  (1): DropLinear(\n",
       "    (dropout): CustomDropout(dp=0.7, activate_stochasticity=True)\n",
       "    (W): Linear(in_features=784, out_features=512, bias=True)\n",
       "  )\n",
       "  (2): ReLU()\n",
       "  (3): DropLinear(\n",
       "    (dropout): CustomDropout(dp=0.7, activate_stochasticity=True)\n",
       "    (W): Linear(in_features=512, out_features=512, bias=True)\n",
       "  )\n",
       "  (4): ReLU()\n",
       "  (5): DropLinear(\n",
       "    (dropout): CustomDropout(dp=0.7, activate_stochasticity=True)\n",
       "    (W): Linear(in_features=512, out_features=512, bias=True)\n",
       "  )\n",
       "  (6): ReLU()\n",
       "  (7): Linear(in_features=512, out_features=10, bias=True)\n",
       "), opt_func=functools.partial(<class 'torch.optim.adam.Adam'>, betas=(0.9, 0.99)), loss_func=FlattenedLoss of CrossEntropyLoss(), metrics=[<function accuracy at 0x7f6c827da8c0>], true_wd=True, bn_wd=True, wd=0.01, train_bn=True, path=PosixPath('.'), model_dir='models', callback_fns=[functools.partial(<class 'fastai.basic_train.Recorder'>, add_time=True, silent=False)], callbacks=[], layer_groups=[Sequential(\n",
       "  (0): Flatten()\n",
       "  (1): CustomDropout(dp=0.7, activate_stochasticity=True)\n",
       "  (2): Linear(in_features=784, out_features=512, bias=True)\n",
       "  (3): ReLU()\n",
       "  (4): CustomDropout(dp=0.7, activate_stochasticity=True)\n",
       "  (5): Linear(in_features=512, out_features=512, bias=True)\n",
       "  (6): ReLU()\n",
       "  (7): CustomDropout(dp=0.7, activate_stochasticity=True)\n",
       "  (8): Linear(in_features=512, out_features=512, bias=True)\n",
       "  (9): ReLU()\n",
       "  (10): Linear(in_features=512, out_features=10, bias=True)\n",
       ")], add_time=True, silent=False)"
      ]
     },
     "execution_count": 9,
     "metadata": {},
     "output_type": "execute_result"
    }
   ],
   "source": [
    "learn.load(\"model_dp_70\")"
   ]
  },
  {
   "cell_type": "code",
   "execution_count": 109,
   "metadata": {},
   "outputs": [],
   "source": [
    "learn.save(\"model_dp_50\")"
   ]
  },
  {
   "cell_type": "code",
   "execution_count": 114,
   "metadata": {},
   "outputs": [
    {
     "data": {
      "text/plain": [
       "Learner(data=ImageDataBunch;\n",
       "\n",
       "Train: LabelList (40000 items)\n",
       "x: ImageList\n",
       "Image (3, 28, 28),Image (3, 28, 28),Image (3, 28, 28),Image (3, 28, 28),Image (3, 28, 28)\n",
       "y: CategoryList\n",
       "8,1,3,3,2\n",
       "Path: /;\n",
       "\n",
       "Valid: LabelList (10000 items)\n",
       "x: ImageList\n",
       "Image (3, 28, 28),Image (3, 28, 28),Image (3, 28, 28),Image (3, 28, 28),Image (3, 28, 28)\n",
       "y: CategoryList\n",
       "3,8,1,6,2\n",
       "Path: /;\n",
       "\n",
       "Test: None, model=Sequential(\n",
       "  (0): Flatten()\n",
       "  (1): DropLinear(\n",
       "    (dropout): CustomDropout(dp=0.5, activate_stochasticity=True)\n",
       "    (W): Linear(in_features=784, out_features=512, bias=True)\n",
       "  )\n",
       "  (2): ReLU()\n",
       "  (3): DropLinear(\n",
       "    (dropout): CustomDropout(dp=0.5, activate_stochasticity=True)\n",
       "    (W): Linear(in_features=512, out_features=512, bias=True)\n",
       "  )\n",
       "  (4): ReLU()\n",
       "  (5): DropLinear(\n",
       "    (dropout): CustomDropout(dp=0.5, activate_stochasticity=True)\n",
       "    (W): Linear(in_features=512, out_features=512, bias=True)\n",
       "  )\n",
       "  (6): ReLU()\n",
       "  (7): Linear(in_features=512, out_features=10, bias=True)\n",
       "), opt_func=functools.partial(<class 'torch.optim.adam.Adam'>, betas=(0.9, 0.99)), loss_func=FlattenedLoss of CrossEntropyLoss(), metrics=[<function accuracy at 0x7f6c827da8c0>], true_wd=True, bn_wd=True, wd=0.01, train_bn=True, path=PosixPath('.'), model_dir='models', callback_fns=[functools.partial(<class 'fastai.basic_train.Recorder'>, add_time=True, silent=False)], callbacks=[], layer_groups=[Sequential(\n",
       "  (0): Flatten()\n",
       "  (1): CustomDropout(dp=0.5, activate_stochasticity=True)\n",
       "  (2): Linear(in_features=784, out_features=512, bias=True)\n",
       "  (3): ReLU()\n",
       "  (4): CustomDropout(dp=0.5, activate_stochasticity=True)\n",
       "  (5): Linear(in_features=512, out_features=512, bias=True)\n",
       "  (6): ReLU()\n",
       "  (7): CustomDropout(dp=0.5, activate_stochasticity=True)\n",
       "  (8): Linear(in_features=512, out_features=512, bias=True)\n",
       "  (9): ReLU()\n",
       "  (10): Linear(in_features=512, out_features=10, bias=True)\n",
       ")], add_time=True, silent=False)"
      ]
     },
     "execution_count": 114,
     "metadata": {},
     "output_type": "execute_result"
    }
   ],
   "source": [
    "learn.load(\"model_dp_50\")"
   ]
  },
  {
   "cell_type": "code",
   "execution_count": 115,
   "metadata": {},
   "outputs": [
    {
     "data": {
      "text/plain": [
       "tensor(0.9877)"
      ]
     },
     "execution_count": 115,
     "metadata": {},
     "output_type": "execute_result"
    }
   ],
   "source": [
    "preds,y = get_preds_sample(learn)\n",
    "pred = preds.mean(dim=0)\n",
    "accuracy(pred,y)"
   ]
  },
  {
   "cell_type": "code",
   "execution_count": 70,
   "metadata": {},
   "outputs": [],
   "source": [
    "class Identity(nn.Module):\n",
    "    def __init__(self):\n",
    "        super(Identity,self).__init__()\n",
    "        \n",
    "    def forward(self,x):\n",
    "        return x\n",
    "\n",
    "def topk_sample_model(model,margin=0.05,set_mask=True):\n",
    "    \"\"\"Sample a mask for each Droplinear and set it\n",
    "    \n",
    "    Args:\n",
    "        model: nn.Module\n",
    "        \n",
    "    Returns:\n",
    "        masks: List of tensor masks\n",
    "    \"\"\"\n",
    "    masks = []\n",
    "    for m in model:\n",
    "        if isinstance(m,DropLinear):\n",
    "            dp = m.dropout.dp\n",
    "            p = 1-dp\n",
    "            \n",
    "            upper_p = p + margin\n",
    "            scaled_p = p / (p + margin)\n",
    "\n",
    "            n = m.W.weight.data.shape[0]\n",
    "            k = int(upper_p * n)\n",
    "\n",
    "            mask = m.topk_sample(n,k,scaled_p)\n",
    "            if set_mask:\n",
    "                m.set_mask(mask) \n",
    "            masks.append(mask)\n",
    "    return masks\n",
    "\n",
    "def sample_model(model,set_mask=True):\n",
    "    \"\"\"Sample a mask for each Droplinear and set it\"\"\"\n",
    "    masks = []\n",
    "    for m in model:\n",
    "        if isinstance(m,DropLinear):\n",
    "            mask = m.sample()\n",
    "            if set_mask:\n",
    "                m.set_mask(mask) \n",
    "            masks.append(mask)\n",
    "    return masks\n",
    "\n",
    "def get_mask_preds(learn,sample_model_fn,activ=None,ds_type=DatasetType.Fix):\n",
    "    \"\"\"Sample a mask and get preds\n",
    "    \n",
    "    Args: \n",
    "        learn: A Learner\n",
    "        sample_model_fn: A function which will sample the weights of the model learner\n",
    "        activ: A function to call on the outputs of the get_preds\n",
    "        ds_type:\n",
    "        \n",
    "    Returns:\n",
    "        mask: A list of tensor masks\n",
    "        pred: A tensor of predictions\n",
    "    \n",
    "    \"\"\"\n",
    "    mask = sample_model_fn(learn.model)\n",
    "    pred,y = learn.get_preds(ds_type=ds_type,activ=activ)\n",
    "    pred = pred.view((1,) + pred.shape)\n",
    "    return mask,pred\n",
    "\n",
    "def kls(preds):\n",
    "    \"\"\"Return the KL between the overall mean and the means without each mask\"\"\"\n",
    "    mean_pred = torch.cat(preds).mean(dim=0)\n",
    "    pred = torch.cat(preds)\n",
    "    means_pred = (mean_pred[None] * T - pred)/ (T-1)\n",
    "\n",
    "    logs = torch.log(mean_pred[None] / means_pred)\n",
    "\n",
    "    kls = torch.einsum(\"tic,ic -> t\",logs,mean_pred)\n",
    "    \n",
    "    return kls    \n",
    "\n",
    "def MC_cross_entropy(logits,target):\n",
    "    \"\"\"Computes the MC cross entropy\"\"\"\n",
    "    T = logits.shape[0]\n",
    "    \n",
    "    normalized_logits = logits - torch.logsumexp(logits,dim=2,keepdim=True)\n",
    "    log_prob = torch.logsumexp(normalized_logits,dim=0) - torch.log(torch.tensor(T).float())\n",
    "\n",
    "    target = target[:,None]\n",
    "    cross_entropy = (-torch.gather(log_prob,1,y[:,None])).mean()\n",
    "\n",
    "    return cross_entropy\n",
    "\n",
    "def MC_entropy(x_logits):\n",
    "    \n",
    "    return MC_cross_entropy(x_logits,x_logits)\n",
    "\n",
    "def MC_kl(x_logits,y_logits):\n",
    "    cross_entropy = MC_cross_entropy(x_logits,y_logits)\n",
    "    entropy = MC_entropy(x_logits)\n",
    "    \n",
    "    kl = cross_entropy - entropy\n",
    "    \n",
    "    return kl"
   ]
  },
  {
   "cell_type": "code",
   "execution_count": 72,
   "metadata": {},
   "outputs": [
    {
     "name": "stdout",
     "output_type": "stream",
     "text": [
      "Please enter your NeptuneML API token : ········\n"
     ]
    },
    {
     "name": "stderr",
     "output_type": "stream",
     "text": [
      "WARNING: Instantiating Session without specifying a backend is deprecated and will be removed in future versions. For current behaviour use `neptune.init(...)` or `Session.with_default_backend(...)\n",
      "WARNING: It is not secure to place API token in your source code. You should treat it as a password to your account. It is strongly recommended to use NEPTUNE_API_TOKEN environment variable instead. Remember not to upload source file with API token to any public repository.\n"
     ]
    }
   ],
   "source": [
    "from neptune.sessions import Session\n",
    "import getpass\n",
    "\n",
    "api_token = getpass.getpass(\"Please enter your NeptuneML API token : \")\n",
    "session = Session(api_token=api_token)\n",
    "project = session.get_project(project_qualified_name='danywin/EnsembleDropout')"
   ]
  },
  {
   "cell_type": "code",
   "execution_count": 117,
   "metadata": {},
   "outputs": [
    {
     "data": {
      "text/plain": [
       "'model_dp_50'"
      ]
     },
     "execution_count": 117,
     "metadata": {},
     "output_type": "execute_result"
    }
   ],
   "source": []
  },
  {
   "cell_type": "code",
   "execution_count": 127,
   "metadata": {},
   "outputs": [],
   "source": [
    "T = 10\n",
    "n_steps = 100\n",
    "activ = Identity()\n",
    "\n",
    "margin = 0.05\n",
    "# sample_model_fn = partial(topk_sample_model,margin=margin)\n",
    "sample_model_fn = sample_model\n",
    "\n",
    "dp=0.5\n",
    "model_name = f\"model_dp_{int(dp*100)}\"\n",
    "\n",
    "model = get_model(dp=dp)\n",
    "learn = Learner(data,model,metrics=accuracy)\n",
    "learn = learn.load(model_name)\n",
    "\n",
    "p,y = get_preds_sample(learn,DatasetType.Fix,n_sample=T)\n",
    "p = p.mean(dim=0)\n",
    "inital_score = accuracy(p,y).item()\n",
    "\n",
    "masks = []\n",
    "preds = []\n",
    "\n",
    "for t in range(T):\n",
    "    mask,pred = get_mask_preds(learn,sample_model_fn=sample_model_fn,activ=activ)\n",
    "    mask = torch.cat(mask)\n",
    "    masks.append(mask)\n",
    "    preds.append(pred)\n",
    "    \n",
    "initial_coverage = torch.clamp(torch.stack(masks,dim=1).sum(dim=1),0,1).mean().item()\n",
    "\n",
    "params = {\"T\":T,\"n_steps\":n_steps,\"activ\":str(activ),\"sample_model_fn\":str(sample_model_fn),\n",
    "         \"model_name\":model_name,\"initial_score\":inital_score,\"initial_coverage\":initial_coverage}\n",
    "\n",
    "exp_name = model_name + \"_\" + str(sample_model_fn)"
   ]
  },
  {
   "cell_type": "code",
   "execution_count": 128,
   "metadata": {},
   "outputs": [
    {
     "data": {
      "text/plain": [
       "{'T': 10,\n",
       " 'n_steps': 100,\n",
       " 'activ': 'Identity()',\n",
       " 'sample_model_fn': '<function sample_model at 0x7f6c4b9255f0>',\n",
       " 'model_name': 'model_dp_50',\n",
       " 'initial_score': 0.9865000247955322,\n",
       " 'initial_coverage': 0.9967448115348816}"
      ]
     },
     "execution_count": 128,
     "metadata": {},
     "output_type": "execute_result"
    }
   ],
   "source": [
    "params"
   ]
  },
  {
   "cell_type": "code",
   "execution_count": 129,
   "metadata": {},
   "outputs": [],
   "source": [
    "logits = torch.cat(preds)\n",
    "\n",
    "current_ce = MC_cross_entropy(logits,y)"
   ]
  },
  {
   "cell_type": "code",
   "execution_count": null,
   "metadata": {},
   "outputs": [
    {
     "data": {
      "text/html": [
       "\n",
       "    <div>\n",
       "        <style>\n",
       "            /* Turns off some styling */\n",
       "            progress {\n",
       "                /* gets rid of default border in Firefox and Opera. */\n",
       "                border: none;\n",
       "                /* Needs to be in here for Safari polyfill so background images work as expected. */\n",
       "                background-size: auto;\n",
       "            }\n",
       "            .progress-bar-interrupted, .progress-bar-interrupted::-webkit-progress-bar {\n",
       "                background: #F44336;\n",
       "            }\n",
       "        </style>\n",
       "      <progress value='0' class='' max='79', style='width:300px; height:20px; vertical-align: middle;'></progress>\n",
       "      0.00% [0/79 00:00<00:00]\n",
       "    </div>\n",
       "    "
      ],
      "text/plain": [
       "<IPython.core.display.HTML object>"
      ]
     },
     "metadata": {},
     "output_type": "display_data"
    }
   ],
   "source": [
    "with project.create_experiment(name=exp_name,params=params) as exp:\n",
    "\n",
    "    for i in range(n_steps):\n",
    "\n",
    "        candidate_mask, candidate_pred = get_mask_preds(learn,sample_model_fn=sample_model_fn,activ=activ)\n",
    "        candidate_mask = torch.cat(candidate_mask)\n",
    "\n",
    "        candidate_ce = []\n",
    "\n",
    "        for t in range(T):\n",
    "            # We remove the current and add the candidate\n",
    "            pool = preds.copy()\n",
    "            del pool[t]\n",
    "            pool.append(candidate_pred)\n",
    "\n",
    "            logits = torch.cat(pool)\n",
    "            ce = MC_cross_entropy(logits,y)\n",
    "            candidate_ce.append(ce)\n",
    "\n",
    "        candidate_ce = torch.stack(candidate_ce)\n",
    "\n",
    "        difference_ce = candidate_ce - current_ce\n",
    "        min_ce,argmin_ce = difference_ce.min().item(), difference_ce.argmin().item()\n",
    "\n",
    "        if min_ce < 0:\n",
    "\n",
    "            del preds[argmin_ce]\n",
    "            del masks[argmin_ce]\n",
    "\n",
    "            preds.append(candidate_pred)\n",
    "            masks.append(candidate_mask)\n",
    "\n",
    "            current_ce = candidate_ce.min().item()\n",
    "\n",
    "            p = torch.cat(preds).mean(dim=0)\n",
    "            score = accuracy(p,y)\n",
    "\n",
    "            exp.send_metric(\"ce\",current_ce)\n",
    "            exp.send_metric(\"score\",score.item())\n",
    "            exp.send_metric(\"changes\",i)\n",
    "            exp.send_metric(\"max_diff\",np.abs(min_ce))\n",
    "\n",
    "            #             output = {\"min\":, \"max\":current_kl.max().item(),\n",
    "            #                       \"mean\":current_kl.mean().item(),\"std\":current_kl.std().item(),\"score\":score}\n",
    "            #             outputs.append(output)\n",
    "    \n",
    "    final_coverage = torch.clamp(torch.stack(masks,dim=1).sum(dim=1),0,1).mean()\n",
    "    exp.send_metric(\"final_coverage\",final_coverage)"
   ]
  },
  {
   "cell_type": "code",
   "execution_count": 122,
   "metadata": {},
   "outputs": [
    {
     "data": {
      "text/plain": [
       "tensor(0.5996)"
      ]
     },
     "execution_count": 122,
     "metadata": {},
     "output_type": "execute_result"
    }
   ],
   "source": []
  },
  {
   "cell_type": "code",
   "execution_count": 61,
   "metadata": {},
   "outputs": [],
   "source": [
    "# x_logits = torch.cat(preds)\n",
    "\n",
    "# current_kl = []\n",
    "# for t in range(T):\n",
    "#     y = preds.copy()\n",
    "#     del y[t]\n",
    "#     y_logits = torch.cat(y)\n",
    "#     kl = MC_kl(x_logits,y_logits)\n",
    "#     current_kl.append(kl)\n",
    "    \n",
    "# current_kl = torch.stack(current_kl)"
   ]
  },
  {
   "cell_type": "code",
   "execution_count": null,
   "metadata": {},
   "outputs": [
    {
     "data": {
      "text/html": [
       "\n",
       "    <div>\n",
       "        <style>\n",
       "            /* Turns off some styling */\n",
       "            progress {\n",
       "                /* gets rid of default border in Firefox and Opera. */\n",
       "                border: none;\n",
       "                /* Needs to be in here for Safari polyfill so background images work as expected. */\n",
       "                background-size: auto;\n",
       "            }\n",
       "            .progress-bar-interrupted, .progress-bar-interrupted::-webkit-progress-bar {\n",
       "                background: #F44336;\n",
       "            }\n",
       "        </style>\n",
       "      <progress value='0' class='' max='79', style='width:300px; height:20px; vertical-align: middle;'></progress>\n",
       "      0.00% [0/79 00:00<00:00]\n",
       "    </div>\n",
       "    "
      ],
      "text/plain": [
       "<IPython.core.display.HTML object>"
      ]
     },
     "metadata": {},
     "output_type": "display_data"
    }
   ],
   "source": [
    "changes = []\n",
    "\n",
    "with project.create_experiment(name=exp_name,params=params) as exp:\n",
    "\n",
    "    for i in range(n_steps):\n",
    "\n",
    "        candidate_mask, candidate_pred = get_mask_preds(learn,sample_model_fn=sample_model_fn,activ=activ)\n",
    "        candidate_mask = torch.cat(candidate_mask)\n",
    "\n",
    "        candidate_kl = []\n",
    "        for t in range(T):\n",
    "            pool = preds.copy()\n",
    "            del pool[t]\n",
    "\n",
    "            y_logits = torch.cat(pool)\n",
    "\n",
    "            pool.append(candidate_pred)\n",
    "            x_logits = torch.cat(pool)\n",
    "\n",
    "            kl = MC_kl(x_logits,y_logits)\n",
    "            candidate_kl.append(kl)\n",
    "\n",
    "        candidate_kl = torch.stack(candidate_kl)\n",
    "\n",
    "        difference_kl = current_kl - candidate_kl\n",
    "        min_kl,argmin_kl = difference_kl.min().item(), difference_kl.argmin().item()\n",
    "\n",
    "        if min_kl < 0:\n",
    "\n",
    "            del preds[argmin_kl]\n",
    "            del masks[argmin_kl]\n",
    "\n",
    "            preds.append(candidate_pred)\n",
    "            masks.append(candidate_mask)\n",
    "\n",
    "            current_kl = candidate_kl\n",
    "\n",
    "            p = torch.cat(preds).mean(dim=0)\n",
    "            score = accuracy(p,y)\n",
    "            \n",
    "            exp.send_metric(\"min\",current_kl.min().item())\n",
    "            exp.send_metric(\"max\",current_kl.max().item())\n",
    "            exp.send_metric(\"mean\",current_kl.mean().item())\n",
    "            exp.send_metric(\"std\",current_kl.std().item())\n",
    "            exp.send_metric(\"score\",score.item())\n",
    "            exp.send_metric(\"changes\",i)\n",
    "            exp.send_metric(\"max_diff\",np.abs(min_kl) )\n",
    "\n",
    "#             output = {\"min\":, \"max\":current_kl.max().item(),\n",
    "#                       \"mean\":current_kl.mean().item(),\"std\":current_kl.std().item(),\"score\":score}\n",
    "#             outputs.append(output)\n",
    "\n",
    "            changes.append(i)\n",
    "    \n",
    "    final_coverage = torch.clamp(torch.cat(masks,dim=1).sum(dim=1),0,1).mean().item()\n",
    "    exp.send_metric(\"final_coverage\",final_coverage)"
   ]
  },
  {
   "cell_type": "code",
   "execution_count": 163,
   "metadata": {},
   "outputs": [
    {
     "data": {
      "text/plain": [
       "[0, 1, 2, 29, 30, 32]"
      ]
     },
     "execution_count": 163,
     "metadata": {},
     "output_type": "execute_result"
    }
   ],
   "source": [
    "changes"
   ]
  },
  {
   "cell_type": "code",
   "execution_count": 164,
   "metadata": {},
   "outputs": [
    {
     "data": {
      "text/plain": [
       "0    tensor(0.9396)\n",
       "1    tensor(0.9405)\n",
       "2    tensor(0.9409)\n",
       "3    tensor(0.9401)\n",
       "4    tensor(0.9400)\n",
       "Name: score, dtype: object"
      ]
     },
     "execution_count": 164,
     "metadata": {},
     "output_type": "execute_result"
    }
   ],
   "source": [
    "df.score"
   ]
  },
  {
   "cell_type": "code",
   "execution_count": 165,
   "metadata": {},
   "outputs": [
    {
     "data": {
      "text/plain": [
       "<matplotlib.axes._subplots.AxesSubplot at 0x7f36dcf2de50>"
      ]
     },
     "execution_count": 165,
     "metadata": {},
     "output_type": "execute_result"
    },
    {
     "data": {
      "image/png": "[encoded data removed]",
      "text/plain": [
       "<Figure size 432x288 with 1 Axes>"
      ]
     },
     "metadata": {
      "needs_background": "light"
     },
     "output_type": "display_data"
    }
   ],
   "source": [
    "df = pd.DataFrame(outputs)\n",
    "df.plot()"
   ]
  },
  {
   "cell_type": "code",
   "execution_count": null,
   "metadata": {},
   "outputs": [],
   "source": [
    "for t in range(T):\n",
    "    "
   ]
  },
  {
   "cell_type": "code",
   "execution_count": 61,
   "metadata": {},
   "outputs": [
    {
     "data": {
      "text/plain": [
       "[tensor(0.0003),\n",
       " tensor(0.0001),\n",
       " tensor(0.0002),\n",
       " tensor(0.0003),\n",
       " tensor(0.0002),\n",
       " tensor(0.0001),\n",
       " tensor(9.0346e-05),\n",
       " tensor(9.6604e-05),\n",
       " tensor(0.0009),\n",
       " tensor(0.0003)]"
      ]
     },
     "execution_count": 61,
     "metadata": {},
     "output_type": "execute_result"
    }
   ],
   "source": [
    "output"
   ]
  },
  {
   "cell_type": "code",
   "execution_count": 46,
   "metadata": {},
   "outputs": [],
   "source": [
    "x_logits = torch.cat(preds)\n",
    "\n",
    "i = 0\n",
    "y = preds.copy()\n",
    "del y[i]\n",
    "y_logits = torch.cat(y)"
   ]
  },
  {
   "cell_type": "code",
   "execution_count": 57,
   "metadata": {},
   "outputs": [
    {
     "data": {
      "text/plain": [
       "tensor(0.0242)"
      ]
     },
     "execution_count": 57,
     "metadata": {},
     "output_type": "execute_result"
    }
   ],
   "source": [
    "MC_KL(x_logits,y_logits)"
   ]
  },
  {
   "cell_type": "code",
   "execution_count": 53,
   "metadata": {},
   "outputs": [],
   "source": []
  },
  {
   "cell_type": "code",
   "execution_count": null,
   "metadata": {},
   "outputs": [],
   "source": []
  },
  {
   "cell_type": "code",
   "execution_count": 33,
   "metadata": {},
   "outputs": [],
   "source": [
    "mask,_ = get_mask_preds(learn)\n",
    "mask = torch.cat(mask)"
   ]
  },
  {
   "cell_type": "code",
   "execution_count": 42,
   "metadata": {},
   "outputs": [],
   "source": [
    "u = torch.clamp(masks + mask,0,1).sum(dim=0)"
   ]
  },
  {
   "cell_type": "code",
   "execution_count": 43,
   "metadata": {},
   "outputs": [],
   "source": [
    "i = (mask * masks).sum(dim=0)"
   ]
  },
  {
   "cell_type": "code",
   "execution_count": 48,
   "metadata": {},
   "outputs": [
    {
     "data": {
      "text/plain": [
       "tensor([0.4085, 0.4116, 0.4034, 0.3728, 0.4077])"
      ]
     },
     "execution_count": 48,
     "metadata": {},
     "output_type": "execute_result"
    }
   ],
   "source": [
    "i / u"
   ]
  },
  {
   "cell_type": "code",
   "execution_count": 34,
   "metadata": {},
   "outputs": [],
   "source": [
    "masks = "
   ]
  },
  {
   "cell_type": "code",
   "execution_count": 116,
   "metadata": {},
   "outputs": [],
   "source": [
    "T = 10\n",
    "mean = []\n",
    "low = []\n",
    "high = []\n",
    "std = []\n",
    "\n",
    "masks = []\n",
    "preds = []\n",
    "for t in range(T):\n",
    "    mask,pred = get_mask_preds(learn,sample_model,ds_type=DatasetType.Fix)\n",
    "    masks.append(mask)\n",
    "    preds.append(pred)"
   ]
  },
  {
   "cell_type": "code",
   "execution_count": 117,
   "metadata": {},
   "outputs": [
    {
     "data": {
      "text/plain": [
       "tensor([nan, nan, nan, nan, nan, nan, nan, nan, nan, nan, nan, nan, nan, nan, nan, nan, nan, nan, nan, nan])"
      ]
     },
     "execution_count": 117,
     "metadata": {},
     "output_type": "execute_result"
    }
   ],
   "source": [
    "kls(preds)"
   ]
  },
  {
   "cell_type": "code",
   "execution_count": 118,
   "metadata": {},
   "outputs": [],
   "source": [
    "pred = torch.cat(preds)"
   ]
  },
  {
   "cell_type": "code",
   "execution_count": 123,
   "metadata": {},
   "outputs": [],
   "source": [
    "n = 10000\n",
    "pred = pred[:,:n,:]"
   ]
  },
  {
   "cell_type": "code",
   "execution_count": 130,
   "metadata": {},
   "outputs": [],
   "source": [
    "mean_pred = pred.mean(dim=0,keepdim=True).expand(20,-1,-1)"
   ]
  },
  {
   "cell_type": "code",
   "execution_count": null,
   "metadata": {},
   "outputs": [],
   "source": []
  },
  {
   "cell_type": "code",
   "execution_count": 158,
   "metadata": {},
   "outputs": [],
   "source": [
    "x,y = data.one_batch()\n",
    "\n",
    "for tfm in data.train_dl.tfms:\n",
    "    x,y = tfm((x,y))\n",
    "    "
   ]
  },
  {
   "cell_type": "code",
   "execution_count": 159,
   "metadata": {},
   "outputs": [
    {
     "data": {
      "text/plain": [
       "tensor([[ -3.8175,   5.3751,  -3.9777,  ...,  -3.7914,   5.6218,  -3.7429],\n",
       "        [ 18.9034, -34.1240,  -5.1276,  ..., -24.8360,  -8.2155,  -0.3190],\n",
       "        [-15.3342,  -6.2214,   1.4194,  ..., -17.0330,   2.5861,  -8.9764],\n",
       "        ...,\n",
       "        [  9.1765, -21.6155,  -2.8188,  ..., -10.4872,  -2.3215,   2.4392],\n",
       "        [-15.7081,  -3.8299,  11.2177,  ...,  -1.8643,  -4.3008, -12.5930],\n",
       "        [-23.8934, -10.1384,  -3.4591,  ...,  -7.4998,   2.7617,   3.9378]],\n",
       "       device='cuda:0', grad_fn=<AddmmBackward>)"
      ]
     },
     "execution_count": 159,
     "metadata": {},
     "output_type": "execute_result"
    }
   ],
   "source": [
    "learn.model(x.cuda())"
   ]
  },
  {
   "cell_type": "code",
   "execution_count": null,
   "metadata": {},
   "outputs": [],
   "source": []
  },
  {
   "cell_type": "code",
   "execution_count": 129,
   "metadata": {},
   "outputs": [
    {
     "data": {
      "text/plain": [
       "torch.Size([20, 10000, 10])"
      ]
     },
     "execution_count": 129,
     "metadata": {},
     "output_type": "execute_result"
    }
   ],
   "source": [
    "mean_pred * torch.log(mean_pred/diff)"
   ]
  },
  {
   "cell_type": "code",
   "execution_count": 32,
   "metadata": {},
   "outputs": [],
   "source": [
    "def kl(ref_distribution,list_distributions):\n",
    "    \"\"\"Vectorized KL divergence between one distribution and a list of distributions\n",
    "    \n",
    "    Args:\n",
    "        ref_distribution: A 1*N*C tensor with \n",
    "        list_distributions: A T*N*C tensor\n",
    "        \n",
    "    Returns:\n",
    "    \"\"\"\n",
    "    \n",
    "    log_ratio = torch.log(ref_distribution/list_distributions)\n",
    "    \n",
    "    prod = \n",
    "    \n",
    "    kls = torch.einsum(\"tic,ic -> t\",log_ratio,ref_distribution.squeeze(0))\n",
    "    \n",
    "    return kls"
   ]
  },
  {
   "cell_type": "code",
   "execution_count": 36,
   "metadata": {},
   "outputs": [
    {
     "data": {
      "text/plain": [
       "torch.Size([10, 40000, 10])"
      ]
     },
     "execution_count": 36,
     "metadata": {},
     "output_type": "execute_result"
    }
   ],
   "source": [
    "pred.shape"
   ]
  },
  {
   "cell_type": "code",
   "execution_count": 135,
   "metadata": {},
   "outputs": [],
   "source": [
    "s = pred.sum(dim=0,keepdim=True).expand(T,-1,-1)"
   ]
  },
  {
   "cell_type": "code",
   "execution_count": 139,
   "metadata": {},
   "outputs": [],
   "source": [
    "m = s / T"
   ]
  },
  {
   "cell_type": "code",
   "execution_count": 140,
   "metadata": {},
   "outputs": [],
   "source": [
    "modified_m = (s - pred) / (T-1)"
   ]
  },
  {
   "cell_type": "code",
   "execution_count": 210,
   "metadata": {},
   "outputs": [],
   "source": [
    "p_raws = []\n",
    "T = 3\n",
    "\n",
    "for t in range(T):\n",
    "    p_raw,y = learn.get_preds(activ=activ)\n",
    "    p_raw = p_raw[None]\n",
    "    p_raws.append(p_raw)"
   ]
  },
  {
   "cell_type": "code",
   "execution_count": null,
   "metadata": {},
   "outputs": [],
   "source": [
    "def MC_cross_entropy()"
   ]
  },
  {
   "cell_type": "code",
   "execution_count": 213,
   "metadata": {},
   "outputs": [],
   "source": [
    "p_raws = torch.cat(p_raws)"
   ]
  },
  {
   "cell_type": "code",
   "execution_count": 218,
   "metadata": {},
   "outputs": [],
   "source": [
    "logits_diff = p_raws - torch.logsumexp(p_raws,dim=2,keepdim=True)"
   ]
  },
  {
   "cell_type": "code",
   "execution_count": 224,
   "metadata": {},
   "outputs": [],
   "source": [
    "log_mean_prob = torch.logsumexp(logits_diff,dim=0) - torch.log(torch.tensor(T).float())"
   ]
  },
  {
   "cell_type": "code",
   "execution_count": 228,
   "metadata": {},
   "outputs": [],
   "source": [
    "mean_prob = torch.softmax(p_raws,dim=2).mean(dim=0)"
   ]
  },
  {
   "cell_type": "code",
   "execution_count": 229,
   "metadata": {},
   "outputs": [
    {
     "data": {
      "text/plain": [
       "tensor(1390.4841)"
      ]
     },
     "execution_count": 229,
     "metadata": {},
     "output_type": "execute_result"
    }
   ],
   "source": [
    "(-mean_prob * log_mean_prob).sum()"
   ]
  },
  {
   "cell_type": "code",
   "execution_count": 194,
   "metadata": {},
   "outputs": [],
   "source": [
    "p = torch.softmax(p_raw,dim=1)"
   ]
  },
  {
   "cell_type": "code",
   "execution_count": 199,
   "metadata": {},
   "outputs": [],
   "source": [
    "log_p = (p_raw - torch.logsumexp(p_raw,dim=1,keepdim=True))"
   ]
  },
  {
   "cell_type": "code",
   "execution_count": 208,
   "metadata": {},
   "outputs": [
    {
     "data": {
      "text/plain": [
       "tensor([[-3.6759e+01, -2.8045e+01, -1.0623e+01,  ..., -2.7299e-05,\n",
       "         -2.1733e+01, -1.3016e+01],\n",
       "        [-1.0951e+01, -1.0318e+01, -3.1483e-01,  ..., -1.1896e+01,\n",
       "         -1.3211e+00, -1.1653e+01],\n",
       "        [-4.5585e+01, -1.8006e+01, -1.4096e+01,  ..., -1.8132e+01,\n",
       "         -1.0083e+01, -1.5164e+01],\n",
       "        ...,\n",
       "        [-1.2989e+01, -1.8348e+01, -1.4768e+01,  ..., -8.6368e+00,\n",
       "         -4.6091e+00, -1.0719e-02],\n",
       "        [-2.6172e+01, -2.5133e+01, -2.5033e+01,  ..., -3.4497e+01,\n",
       "          0.0000e+00, -3.0120e+01],\n",
       "        [-3.3970e+01, -4.8533e+01, -4.0298e+01,  ..., -4.2024e+01,\n",
       "         -2.3046e+01, -1.7140e+01]])"
      ]
     },
     "execution_count": 208,
     "metadata": {},
     "output_type": "execute_result"
    }
   ],
   "source": [
    "F.log_softmax(p_raw,dim=1)"
   ]
  },
  {
   "cell_type": "code",
   "execution_count": 201,
   "metadata": {},
   "outputs": [
    {
     "data": {
      "text/plain": [
       "tensor(-208.3708)"
      ]
     },
     "execution_count": 201,
     "metadata": {},
     "output_type": "execute_result"
    }
   ],
   "source": [
    "log_p."
   ]
  },
  {
   "cell_type": "code",
   "execution_count": 168,
   "metadata": {},
   "outputs": [],
   "source": [
    "p = learn.model(x.cuda())"
   ]
  },
  {
   "cell_type": "code",
   "execution_count": 181,
   "metadata": {},
   "outputs": [],
   "source": []
  },
  {
   "cell_type": "code",
   "execution_count": 182,
   "metadata": {},
   "outputs": [],
   "source": [
    "activ = Identity()"
   ]
  },
  {
   "cell_type": "code",
   "execution_count": 178,
   "metadata": {},
   "outputs": [
    {
     "data": {
      "text/plain": [
       "tensor(0., device='cuda:0', grad_fn=<MinBackward1>)"
      ]
     },
     "execution_count": 178,
     "metadata": {},
     "output_type": "execute_result"
    }
   ],
   "source": [
    "torch.softmax(p,dim=1)"
   ]
  },
  {
   "cell_type": "code",
   "execution_count": 145,
   "metadata": {},
   "outputs": [
    {
     "data": {
      "text/plain": [
       "tensor(nan)"
      ]
     },
     "execution_count": 145,
     "metadata": {},
     "output_type": "execute_result"
    }
   ],
   "source": [
    "(torch.log(m/modified_m) * m).sum(dim=2).max()"
   ]
  },
  {
   "cell_type": "code",
   "execution_count": 154,
   "metadata": {},
   "outputs": [
    {
     "data": {
      "text/plain": [
       "tensor(1.0000)"
      ]
     },
     "execution_count": 154,
     "metadata": {},
     "output_type": "execute_result"
    }
   ],
   "source": [
    "pred[0,0,:]"
   ]
  },
  {
   "cell_type": "code",
   "execution_count": 80,
   "metadata": {},
   "outputs": [
    {
     "data": {
      "text/plain": [
       "tensor([     inf,      inf,      inf,      inf,      inf,      inf,      inf,\n",
       "             inf,      inf, 125.0027])"
      ]
     },
     "execution_count": 80,
     "metadata": {},
     "output_type": "execute_result"
    }
   ],
   "source": [
    "(torch.log(m / diff) * m).sum(dim=(2))"
   ]
  },
  {
   "cell_type": "code",
   "execution_count": 69,
   "metadata": {},
   "outputs": [
    {
     "data": {
      "text/plain": [
       "tensor(0.9265)"
      ]
     },
     "execution_count": 69,
     "metadata": {},
     "output_type": "execute_result"
    }
   ],
   "source": [
    "pred = torch.cat(preds).mean(dim=0)\n",
    "accuracy(pred,y)"
   ]
  },
  {
   "cell_type": "code",
   "execution_count": 68,
   "metadata": {},
   "outputs": [],
   "source": [
    "p,y = learn.get_preds(DatasetType.Fix)"
   ]
  },
  {
   "cell_type": "code",
   "execution_count": 51,
   "metadata": {},
   "outputs": [],
   "source": [
    "for m in learn.model:\n",
    "    if isinstance(m,DropLinear):\n",
    "        m.remove_mask()"
   ]
  },
  {
   "cell_type": "code",
   "execution_count": null,
   "metadata": {},
   "outputs": [],
   "source": []
  },
  {
   "cell_type": "code",
   "execution_count": null,
   "metadata": {},
   "outputs": [],
   "source": [
    "n_iterations = 60\n",
    "\n",
    "for i in range(n_iterations):\n",
    "    scores = remove_lowest(masks,preds,kls,True)\n",
    "    mean.append(scores.mean().item())\n",
    "    low.append(scores.min().item())\n",
    "    high.append(scores.max().item())\n",
    "    std.append(scores.std().item())\n",
    "    \n",
    "    mask,pred = get_mask_preds(learn)\n",
    "    masks.append(mask)\n",
    "    preds.append(pred)"
   ]
  },
  {
   "cell_type": "code",
   "execution_count": 454,
   "metadata": {},
   "outputs": [
    {
     "data": {
      "text/plain": [
       "[<matplotlib.lines.Line2D at 0x7f60ce78bc10>]"
      ]
     },
     "execution_count": 454,
     "metadata": {},
     "output_type": "execute_result"
    },
    {
     "data": {
      "image/png": "[encoded data removed]",
      "text/plain": [
       "<Figure size 432x288 with 1 Axes>"
      ]
     },
     "metadata": {
      "needs_background": "light"
     },
     "output_type": "display_data"
    }
   ],
   "source": [
    "plt.plot(mean)"
   ]
  },
  {
   "cell_type": "code",
   "execution_count": 417,
   "metadata": {},
   "outputs": [],
   "source": [
    "import itertools"
   ]
  },
  {
   "cell_type": "code",
   "execution_count": 457,
   "metadata": {},
   "outputs": [],
   "source": [
    "p = torch.cat(preds).mean(dim=0)"
   ]
  },
  {
   "cell_type": "code",
   "execution_count": 458,
   "metadata": {},
   "outputs": [
    {
     "data": {
      "text/plain": [
       "tensor(0.9658)"
      ]
     },
     "execution_count": 458,
     "metadata": {},
     "output_type": "execute_result"
    }
   ],
   "source": [
    "accuracy(p,y)"
   ]
  },
  {
   "cell_type": "code",
   "execution_count": 427,
   "metadata": {},
   "outputs": [],
   "source": [
    "_,y = learn.get_preds(DatasetType.Fix)"
   ]
  },
  {
   "cell_type": "code",
   "execution_count": 429,
   "metadata": {},
   "outputs": [],
   "source": [
    "p,y = get_preds_sample(learn,DatasetType.Fix)"
   ]
  },
  {
   "cell_type": "code",
   "execution_count": 431,
   "metadata": {},
   "outputs": [],
   "source": [
    "p = (p).mean(dim=0)"
   ]
  },
  {
   "cell_type": "code",
   "execution_count": 434,
   "metadata": {},
   "outputs": [],
   "source": [
    "for m in learn.model:\n",
    "    if isinstance(m,DropLinear):\n",
    "        m.remove_mask()"
   ]
  },
  {
   "cell_type": "code",
   "execution_count": 437,
   "metadata": {},
   "outputs": [
    {
     "data": {
      "text/plain": [
       "[0.12555529, tensor(0.9631)]"
      ]
     },
     "execution_count": 437,
     "metadata": {},
     "output_type": "execute_result"
    }
   ],
   "source": [
    "learn.validate(learn.dl(DatasetType.Fix))"
   ]
  },
  {
   "cell_type": "code",
   "execution_count": 62,
   "metadata": {},
   "outputs": [
    {
     "ename": "TypeError",
     "evalue": "cat(): argument 'tensors' (position 1) must be tuple of Tensors, not Tensor",
     "output_type": "error",
     "traceback": [
      "\u001b[0;31m---------------------------------------------------------------------------\u001b[0m",
      "\u001b[0;31mTypeError\u001b[0m                                 Traceback (most recent call last)",
      "\u001b[0;32m<ipython-input-62-1446c3bb44a3>\u001b[0m in \u001b[0;36m<module>\u001b[0;34m\u001b[0m\n\u001b[1;32m      2\u001b[0m \u001b[0;34m\u001b[0m\u001b[0m\n\u001b[1;32m      3\u001b[0m \u001b[0;32mfor\u001b[0m \u001b[0mmask\u001b[0m \u001b[0;32min\u001b[0m \u001b[0mmasks\u001b[0m\u001b[0;34m:\u001b[0m\u001b[0;34m\u001b[0m\u001b[0;34m\u001b[0m\u001b[0m\n\u001b[0;32m----> 4\u001b[0;31m     \u001b[0mtotal\u001b[0m \u001b[0;34m+=\u001b[0m \u001b[0mtorch\u001b[0m\u001b[0;34m.\u001b[0m\u001b[0mcat\u001b[0m\u001b[0;34m(\u001b[0m\u001b[0mmask\u001b[0m\u001b[0;34m)\u001b[0m\u001b[0;34m\u001b[0m\u001b[0;34m\u001b[0m\u001b[0m\n\u001b[0m\u001b[1;32m      5\u001b[0m \u001b[0;34m\u001b[0m\u001b[0m\n\u001b[1;32m      6\u001b[0m \u001b[0mtotal\u001b[0m \u001b[0;34m=\u001b[0m \u001b[0mtorch\u001b[0m\u001b[0;34m.\u001b[0m\u001b[0mclamp\u001b[0m\u001b[0;34m(\u001b[0m\u001b[0mtotal\u001b[0m\u001b[0;34m,\u001b[0m\u001b[0;36m0\u001b[0m\u001b[0;34m,\u001b[0m\u001b[0;36m1\u001b[0m\u001b[0;34m)\u001b[0m\u001b[0;34m\u001b[0m\u001b[0;34m\u001b[0m\u001b[0m\n",
      "\u001b[0;31mTypeError\u001b[0m: cat(): argument 'tensors' (position 1) must be tuple of Tensors, not Tensor"
     ]
    }
   ],
   "source": [
    "total = torch.zeros(1536,1)\n",
    "\n",
    "for mask in masks:\n",
    "    total += torch.cat(mask)\n",
    "\n",
    "total = torch.clamp(total,0,1)\n",
    "\n",
    "total.mean()"
   ]
  },
  {
   "cell_type": "code",
   "execution_count": 395,
   "metadata": {},
   "outputs": [
    {
     "data": {
      "text/plain": [
       "tensor([39.3916, 32.5208, 41.0234, 61.9734, 45.3171, 76.7213, 58.6875, 59.2673,\n",
       "        30.5528, 55.3150])"
      ]
     },
     "execution_count": 395,
     "metadata": {},
     "output_type": "execute_result"
    }
   ],
   "source": [
    "kls"
   ]
  },
  {
   "cell_type": "code",
   "execution_count": 400,
   "metadata": {},
   "outputs": [],
   "source": []
  },
  {
   "cell_type": "code",
   "execution_count": 398,
   "metadata": {},
   "outputs": [],
   "source": [
    "del preds[idx]"
   ]
  },
  {
   "cell_type": "code",
   "execution_count": 240,
   "metadata": {},
   "outputs": [],
   "source": [
    "for tfm in learn.data.train_dl.tfms:\n",
    "    x,y = tfm((x,y))"
   ]
  },
  {
   "cell_type": "code",
   "execution_count": 243,
   "metadata": {},
   "outputs": [
    {
     "ename": "RuntimeError",
     "evalue": "Expected object of device type cuda but got device type cpu for argument #2 'mat1' in call to _th_addmm",
     "output_type": "error",
     "traceback": [
      "\u001b[0;31m---------------------------------------------------------------------------\u001b[0m",
      "\u001b[0;31mRuntimeError\u001b[0m                              Traceback (most recent call last)",
      "\u001b[0;32m<ipython-input-243-75d6aa28e95b>\u001b[0m in \u001b[0;36m<module>\u001b[0;34m\u001b[0m\n\u001b[0;32m----> 1\u001b[0;31m \u001b[0mlearn\u001b[0m\u001b[0;34m.\u001b[0m\u001b[0mmodel\u001b[0m\u001b[0;34m(\u001b[0m\u001b[0mx\u001b[0m\u001b[0;34m)\u001b[0m\u001b[0;34m\u001b[0m\u001b[0;34m\u001b[0m\u001b[0m\n\u001b[0m",
      "\u001b[0;32m/data/anaconda/envs/fastai/lib/python3.7/site-packages/torch/nn/modules/module.py\u001b[0m in \u001b[0;36m__call__\u001b[0;34m(self, *input, **kwargs)\u001b[0m\n\u001b[1;32m    539\u001b[0m             \u001b[0mresult\u001b[0m \u001b[0;34m=\u001b[0m \u001b[0mself\u001b[0m\u001b[0;34m.\u001b[0m\u001b[0m_slow_forward\u001b[0m\u001b[0;34m(\u001b[0m\u001b[0;34m*\u001b[0m\u001b[0minput\u001b[0m\u001b[0;34m,\u001b[0m \u001b[0;34m**\u001b[0m\u001b[0mkwargs\u001b[0m\u001b[0;34m)\u001b[0m\u001b[0;34m\u001b[0m\u001b[0;34m\u001b[0m\u001b[0m\n\u001b[1;32m    540\u001b[0m         \u001b[0;32melse\u001b[0m\u001b[0;34m:\u001b[0m\u001b[0;34m\u001b[0m\u001b[0;34m\u001b[0m\u001b[0m\n\u001b[0;32m--> 541\u001b[0;31m             \u001b[0mresult\u001b[0m \u001b[0;34m=\u001b[0m \u001b[0mself\u001b[0m\u001b[0;34m.\u001b[0m\u001b[0mforward\u001b[0m\u001b[0;34m(\u001b[0m\u001b[0;34m*\u001b[0m\u001b[0minput\u001b[0m\u001b[0;34m,\u001b[0m \u001b[0;34m**\u001b[0m\u001b[0mkwargs\u001b[0m\u001b[0;34m)\u001b[0m\u001b[0;34m\u001b[0m\u001b[0;34m\u001b[0m\u001b[0m\n\u001b[0m\u001b[1;32m    542\u001b[0m         \u001b[0;32mfor\u001b[0m \u001b[0mhook\u001b[0m \u001b[0;32min\u001b[0m \u001b[0mself\u001b[0m\u001b[0;34m.\u001b[0m\u001b[0m_forward_hooks\u001b[0m\u001b[0;34m.\u001b[0m\u001b[0mvalues\u001b[0m\u001b[0;34m(\u001b[0m\u001b[0;34m)\u001b[0m\u001b[0;34m:\u001b[0m\u001b[0;34m\u001b[0m\u001b[0;34m\u001b[0m\u001b[0m\n\u001b[1;32m    543\u001b[0m             \u001b[0mhook_result\u001b[0m \u001b[0;34m=\u001b[0m \u001b[0mhook\u001b[0m\u001b[0;34m(\u001b[0m\u001b[0mself\u001b[0m\u001b[0;34m,\u001b[0m \u001b[0minput\u001b[0m\u001b[0;34m,\u001b[0m \u001b[0mresult\u001b[0m\u001b[0;34m)\u001b[0m\u001b[0;34m\u001b[0m\u001b[0;34m\u001b[0m\u001b[0m\n",
      "\u001b[0;32m/data/anaconda/envs/fastai/lib/python3.7/site-packages/torch/nn/modules/container.py\u001b[0m in \u001b[0;36mforward\u001b[0;34m(self, input)\u001b[0m\n\u001b[1;32m     90\u001b[0m     \u001b[0;32mdef\u001b[0m \u001b[0mforward\u001b[0m\u001b[0;34m(\u001b[0m\u001b[0mself\u001b[0m\u001b[0;34m,\u001b[0m \u001b[0minput\u001b[0m\u001b[0;34m)\u001b[0m\u001b[0;34m:\u001b[0m\u001b[0;34m\u001b[0m\u001b[0;34m\u001b[0m\u001b[0m\n\u001b[1;32m     91\u001b[0m         \u001b[0;32mfor\u001b[0m \u001b[0mmodule\u001b[0m \u001b[0;32min\u001b[0m \u001b[0mself\u001b[0m\u001b[0;34m.\u001b[0m\u001b[0m_modules\u001b[0m\u001b[0;34m.\u001b[0m\u001b[0mvalues\u001b[0m\u001b[0;34m(\u001b[0m\u001b[0;34m)\u001b[0m\u001b[0;34m:\u001b[0m\u001b[0;34m\u001b[0m\u001b[0;34m\u001b[0m\u001b[0m\n\u001b[0;32m---> 92\u001b[0;31m             \u001b[0minput\u001b[0m \u001b[0;34m=\u001b[0m \u001b[0mmodule\u001b[0m\u001b[0;34m(\u001b[0m\u001b[0minput\u001b[0m\u001b[0;34m)\u001b[0m\u001b[0;34m\u001b[0m\u001b[0;34m\u001b[0m\u001b[0m\n\u001b[0m\u001b[1;32m     93\u001b[0m         \u001b[0;32mreturn\u001b[0m \u001b[0minput\u001b[0m\u001b[0;34m\u001b[0m\u001b[0;34m\u001b[0m\u001b[0m\n\u001b[1;32m     94\u001b[0m \u001b[0;34m\u001b[0m\u001b[0m\n",
      "\u001b[0;32m/data/anaconda/envs/fastai/lib/python3.7/site-packages/torch/nn/modules/module.py\u001b[0m in \u001b[0;36m__call__\u001b[0;34m(self, *input, **kwargs)\u001b[0m\n\u001b[1;32m    539\u001b[0m             \u001b[0mresult\u001b[0m \u001b[0;34m=\u001b[0m \u001b[0mself\u001b[0m\u001b[0;34m.\u001b[0m\u001b[0m_slow_forward\u001b[0m\u001b[0;34m(\u001b[0m\u001b[0;34m*\u001b[0m\u001b[0minput\u001b[0m\u001b[0;34m,\u001b[0m \u001b[0;34m**\u001b[0m\u001b[0mkwargs\u001b[0m\u001b[0;34m)\u001b[0m\u001b[0;34m\u001b[0m\u001b[0;34m\u001b[0m\u001b[0m\n\u001b[1;32m    540\u001b[0m         \u001b[0;32melse\u001b[0m\u001b[0;34m:\u001b[0m\u001b[0;34m\u001b[0m\u001b[0;34m\u001b[0m\u001b[0m\n\u001b[0;32m--> 541\u001b[0;31m             \u001b[0mresult\u001b[0m \u001b[0;34m=\u001b[0m \u001b[0mself\u001b[0m\u001b[0;34m.\u001b[0m\u001b[0mforward\u001b[0m\u001b[0;34m(\u001b[0m\u001b[0;34m*\u001b[0m\u001b[0minput\u001b[0m\u001b[0;34m,\u001b[0m \u001b[0;34m**\u001b[0m\u001b[0mkwargs\u001b[0m\u001b[0;34m)\u001b[0m\u001b[0;34m\u001b[0m\u001b[0;34m\u001b[0m\u001b[0m\n\u001b[0m\u001b[1;32m    542\u001b[0m         \u001b[0;32mfor\u001b[0m \u001b[0mhook\u001b[0m \u001b[0;32min\u001b[0m \u001b[0mself\u001b[0m\u001b[0;34m.\u001b[0m\u001b[0m_forward_hooks\u001b[0m\u001b[0;34m.\u001b[0m\u001b[0mvalues\u001b[0m\u001b[0;34m(\u001b[0m\u001b[0;34m)\u001b[0m\u001b[0;34m:\u001b[0m\u001b[0;34m\u001b[0m\u001b[0;34m\u001b[0m\u001b[0m\n\u001b[1;32m    543\u001b[0m             \u001b[0mhook_result\u001b[0m \u001b[0;34m=\u001b[0m \u001b[0mhook\u001b[0m\u001b[0;34m(\u001b[0m\u001b[0mself\u001b[0m\u001b[0;34m,\u001b[0m \u001b[0minput\u001b[0m\u001b[0;34m,\u001b[0m \u001b[0mresult\u001b[0m\u001b[0;34m)\u001b[0m\u001b[0;34m\u001b[0m\u001b[0;34m\u001b[0m\u001b[0m\n",
      "\u001b[0;32m/data/anaconda/envs/fastai/lib/python3.7/site-packages/torch/nn/modules/linear.py\u001b[0m in \u001b[0;36mforward\u001b[0;34m(self, input)\u001b[0m\n\u001b[1;32m     85\u001b[0m \u001b[0;34m\u001b[0m\u001b[0m\n\u001b[1;32m     86\u001b[0m     \u001b[0;32mdef\u001b[0m \u001b[0mforward\u001b[0m\u001b[0;34m(\u001b[0m\u001b[0mself\u001b[0m\u001b[0;34m,\u001b[0m \u001b[0minput\u001b[0m\u001b[0;34m)\u001b[0m\u001b[0;34m:\u001b[0m\u001b[0;34m\u001b[0m\u001b[0;34m\u001b[0m\u001b[0m\n\u001b[0;32m---> 87\u001b[0;31m         \u001b[0;32mreturn\u001b[0m \u001b[0mF\u001b[0m\u001b[0;34m.\u001b[0m\u001b[0mlinear\u001b[0m\u001b[0;34m(\u001b[0m\u001b[0minput\u001b[0m\u001b[0;34m,\u001b[0m \u001b[0mself\u001b[0m\u001b[0;34m.\u001b[0m\u001b[0mweight\u001b[0m\u001b[0;34m,\u001b[0m \u001b[0mself\u001b[0m\u001b[0;34m.\u001b[0m\u001b[0mbias\u001b[0m\u001b[0;34m)\u001b[0m\u001b[0;34m\u001b[0m\u001b[0;34m\u001b[0m\u001b[0m\n\u001b[0m\u001b[1;32m     88\u001b[0m \u001b[0;34m\u001b[0m\u001b[0m\n\u001b[1;32m     89\u001b[0m     \u001b[0;32mdef\u001b[0m \u001b[0mextra_repr\u001b[0m\u001b[0;34m(\u001b[0m\u001b[0mself\u001b[0m\u001b[0;34m)\u001b[0m\u001b[0;34m:\u001b[0m\u001b[0;34m\u001b[0m\u001b[0;34m\u001b[0m\u001b[0m\n",
      "\u001b[0;32m/data/anaconda/envs/fastai/lib/python3.7/site-packages/torch/nn/functional.py\u001b[0m in \u001b[0;36mlinear\u001b[0;34m(input, weight, bias)\u001b[0m\n\u001b[1;32m   1368\u001b[0m     \u001b[0;32mif\u001b[0m \u001b[0minput\u001b[0m\u001b[0;34m.\u001b[0m\u001b[0mdim\u001b[0m\u001b[0;34m(\u001b[0m\u001b[0;34m)\u001b[0m \u001b[0;34m==\u001b[0m \u001b[0;36m2\u001b[0m \u001b[0;32mand\u001b[0m \u001b[0mbias\u001b[0m \u001b[0;32mis\u001b[0m \u001b[0;32mnot\u001b[0m \u001b[0;32mNone\u001b[0m\u001b[0;34m:\u001b[0m\u001b[0;34m\u001b[0m\u001b[0;34m\u001b[0m\u001b[0m\n\u001b[1;32m   1369\u001b[0m         \u001b[0;31m# fused op is marginally faster\u001b[0m\u001b[0;34m\u001b[0m\u001b[0;34m\u001b[0m\u001b[0;34m\u001b[0m\u001b[0m\n\u001b[0;32m-> 1370\u001b[0;31m         \u001b[0mret\u001b[0m \u001b[0;34m=\u001b[0m \u001b[0mtorch\u001b[0m\u001b[0;34m.\u001b[0m\u001b[0maddmm\u001b[0m\u001b[0;34m(\u001b[0m\u001b[0mbias\u001b[0m\u001b[0;34m,\u001b[0m \u001b[0minput\u001b[0m\u001b[0;34m,\u001b[0m \u001b[0mweight\u001b[0m\u001b[0;34m.\u001b[0m\u001b[0mt\u001b[0m\u001b[0;34m(\u001b[0m\u001b[0;34m)\u001b[0m\u001b[0;34m)\u001b[0m\u001b[0;34m\u001b[0m\u001b[0;34m\u001b[0m\u001b[0m\n\u001b[0m\u001b[1;32m   1371\u001b[0m     \u001b[0;32melse\u001b[0m\u001b[0;34m:\u001b[0m\u001b[0;34m\u001b[0m\u001b[0;34m\u001b[0m\u001b[0m\n\u001b[1;32m   1372\u001b[0m         \u001b[0moutput\u001b[0m \u001b[0;34m=\u001b[0m \u001b[0minput\u001b[0m\u001b[0;34m.\u001b[0m\u001b[0mmatmul\u001b[0m\u001b[0;34m(\u001b[0m\u001b[0mweight\u001b[0m\u001b[0;34m.\u001b[0m\u001b[0mt\u001b[0m\u001b[0;34m(\u001b[0m\u001b[0;34m)\u001b[0m\u001b[0;34m)\u001b[0m\u001b[0;34m\u001b[0m\u001b[0;34m\u001b[0m\u001b[0m\n",
      "\u001b[0;31mRuntimeError\u001b[0m: Expected object of device type cuda but got device type cpu for argument #2 'mat1' in call to _th_addmm"
     ]
    }
   ],
   "source": [
    "learn.model(x)"
   ]
  },
  {
   "cell_type": "code",
   "execution_count": 217,
   "metadata": {},
   "outputs": [],
   "source": [
    "l = DropLinear(20,10,0.5)"
   ]
  },
  {
   "cell_type": "code",
   "execution_count": 184,
   "metadata": {},
   "outputs": [],
   "source": [
    "mask = l.sample()"
   ]
  },
  {
   "cell_type": "code",
   "execution_count": 185,
   "metadata": {},
   "outputs": [],
   "source": [
    "l.set_mask(mask)"
   ]
  },
  {
   "cell_type": "code",
   "execution_count": 186,
   "metadata": {},
   "outputs": [
    {
     "data": {
      "text/plain": [
       "tensor([[1.],\n",
       "        [0.],\n",
       "        [1.],\n",
       "        [1.],\n",
       "        [0.],\n",
       "        [0.],\n",
       "        [0.],\n",
       "        [1.],\n",
       "        [1.],\n",
       "        [1.]])"
      ]
     },
     "execution_count": 186,
     "metadata": {},
     "output_type": "execute_result"
    }
   ],
   "source": [
    "mask"
   ]
  },
  {
   "cell_type": "code",
   "execution_count": 197,
   "metadata": {},
   "outputs": [],
   "source": [
    "l.remove_mask()"
   ]
  },
  {
   "cell_type": "code",
   "execution_count": 141,
   "metadata": {},
   "outputs": [],
   "source": [
    "import types"
   ]
  },
  {
   "cell_type": "code",
   "execution_count": 155,
   "metadata": {},
   "outputs": [
    {
     "ename": "TypeError",
     "evalue": "is_nonzero(): argument 'input' (position 1) must be Tensor, not NoneType",
     "output_type": "error",
     "traceback": [
      "\u001b[0;31m---------------------------------------------------------------------------\u001b[0m",
      "\u001b[0;31mTypeError\u001b[0m                                 Traceback (most recent call last)",
      "\u001b[0;32m<ipython-input-155-fea5d82bebbb>\u001b[0m in \u001b[0;36m<module>\u001b[0;34m\u001b[0m\n\u001b[0;32m----> 1\u001b[0;31m \u001b[0mtorch\u001b[0m\u001b[0;34m.\u001b[0m\u001b[0mis_nonzero\u001b[0m\u001b[0;34m(\u001b[0m\u001b[0;32mNone\u001b[0m\u001b[0;34m)\u001b[0m\u001b[0;34m\u001b[0m\u001b[0;34m\u001b[0m\u001b[0m\n\u001b[0m",
      "\u001b[0;31mTypeError\u001b[0m: is_nonzero(): argument 'input' (position 1) must be Tensor, not NoneType"
     ]
    }
   ],
   "source": [
    "torch.is_nonzero(None)"
   ]
  },
  {
   "cell_type": "code",
   "execution_count": 152,
   "metadata": {},
   "outputs": [],
   "source": [
    "x = torch.randn(20)"
   ]
  }
 ],
 "metadata": {
  "kernelspec": {
   "display_name": "Python 3",
   "language": "python",
   "name": "python3"
  },
  "language_info": {
   "codemirror_mode": {
    "name": "ipython",
    "version": 3
   },
   "file_extension": ".py",
   "mimetype": "text/x-python",
   "name": "python",
   "nbconvert_exporter": "python",
   "pygments_lexer": "ipython3",
   "version": "3.7.5"
  }
 },
 "nbformat": 4,
 "nbformat_minor": 2
}
