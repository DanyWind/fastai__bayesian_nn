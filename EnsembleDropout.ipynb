{
 "cells": [
  {
   "cell_type": "code",
   "execution_count": 152,
   "metadata": {},
   "outputs": [],
   "source": [
    "from fastai.vision import *\n",
    "from sklearn.model_selection import train_test_split\n",
    "\n",
    "from fastai_bayesian.custom_dropout import CustomDropout, switch_custom_dropout, convert_layers\n",
    "from fastai_bayesian.metrics import (entropy, BALD, uncertainty_best_probability,\n",
    "                      get_preds_sample, plot_hist_groups, top_k_uncertainty)\n",
    "\n",
    "import seaborn as sns"
   ]
  },
  {
   "cell_type": "code",
   "execution_count": 153,
   "metadata": {},
   "outputs": [],
   "source": [
    "class ImageActiveLearner:\n",
    "    def __init__(self,path,train_df,get_model,acq_fn=None,label_fn=None,**kwargs):\n",
    "        \"\"\"Initialiaze the Learner with the train and test data, and create it with the given params. \n",
    "        data_params are the parameters of the TabularDatabunch.\n",
    "        learn_params are the parameters of the tabular learner other than the Databunch.\n",
    "        acq_fn is the acq_fn to use. Its signature is :\n",
    "        acq_fn(learn:Learner,k)\n",
    "        \n",
    "        label_fn()\n",
    "        \n",
    "        \"\"\"\n",
    "        self.path = path\n",
    "        \n",
    "        # We store the functions we will use\n",
    "        self.acq_fn = acq_fn\n",
    "        self.label_fn = label_fn\n",
    "        self.get_model = get_model\n",
    "        \n",
    "        # Create the Learner\n",
    "        self.add_learn(train_df,**kwargs)\n",
    "    \n",
    "    @classmethod\n",
    "    def create_databunch(cls,df,valid_pct = 0.2,bs = 32,size = 28,gray = True):\n",
    "        path = Path(\"/\")\n",
    "\n",
    "        tfms = get_transforms(do_flip = False)\n",
    "\n",
    "        data = (ImageList.from_df(df,path)\n",
    "                .split_by_rand_pct(valid_pct=valid_pct,seed=42)\n",
    "                .label_from_df()\n",
    "                .transform(tfms,size = size)\n",
    "                .databunch(bs = bs)\n",
    "                .normalize())\n",
    "\n",
    "        def get_one_channel(batch):\n",
    "            x,y = batch\n",
    "            return x[:,0,:,:].unsqueeze(1),y\n",
    "        get_one_channel._order = 99\n",
    "\n",
    "        if gray:\n",
    "            data.add_tfm(get_one_channel)\n",
    "        data.path = Path()\n",
    "\n",
    "        return data\n",
    "        \n",
    "    def add_learn(self,train_df,**kwargs):\n",
    "\n",
    "        # Create a Learner \n",
    "        path = self.path\n",
    "        train_data = ImageActiveLearner.create_databunch(df=train_df, **kwargs)\n",
    "        model = self.get_model()\n",
    "        learn = Learner(train_data,model,metrics=accuracy)\n",
    "        \n",
    "        # Add the Custom Dropout to do MC Dropout\n",
    "        get_args = lambda dp : {\"p\" : dp.p}\n",
    "        convert_layers(learn.model,nn.Dropout,CustomDropout,get_args)\n",
    "        switch_custom_dropout(learn.model,True)\n",
    "        \n",
    "        self.learn = learn\n",
    "        \n",
    "    def fit(self,n_epoch,lr):\n",
    "        \"\"\"Train the model using one cycle policy and with the training params\"\"\"\n",
    "        n_epoch = listify(n_epoch)\n",
    "        lr = listify(lr)\n",
    "        \n",
    "        for n,l in zip(n_epoch,lr):\n",
    "            self.learn.fit_one_cycle(n, l)\n",
    "    \n",
    "    def inspect(self):\n",
    "        \"\"\"Inspect the results of the learning\"\"\"\n",
    "        pass\n",
    "    \n",
    "    def acquire(self,acq_df,k,bs=512):\n",
    "        \"\"\"Get indexes of the k most interesting labels to acquire from the test set\"\"\"\n",
    "        \n",
    "        # We add a acquisition Databunch\n",
    "        acq_data = ImageActiveLearner.create_databunch(df=acq_df, valid_pct=0.,bs=bs)\n",
    "        idx = self.acq_fn(self.learn,acq_data,k)\n",
    "        \n",
    "        return idx\n",
    "    \n",
    "    def validate(self,metric,test_df,bs=512,MC_dropout=False):\n",
    "        \"\"\"Return a validation score on the test set\"\"\"\n",
    "        learn = self.learn\n",
    "        \n",
    "        test_data = ImageActiveLearner.create_databunch(df=test_df, valid_pct=0.,bs=bs)\n",
    "        \n",
    "        learn.data = test_data\n",
    "        \n",
    "        if MC_dropout:\n",
    "            preds,y = get_preds_sample(learn,DatasetType.Fix)\n",
    "            pred = preds.mean(dim=0)\n",
    "        else:\n",
    "            pred,y = learn.get_preds(DatasetType.Fix)\n",
    "        \n",
    "        score = metric(pred,y)\n",
    "        return score\n",
    "        \n",
    "    def label(self,idx,acq_df):\n",
    "        \"\"\"Label the indexes of the acquisition dataset\"\"\"\n",
    "        df_to_label = acq_df.iloc[idx]        \n",
    "        labeled_df = self.label_fn(df_to_label)\n",
    "        return labeled_df\n",
    "    \n",
    "    @classmethod\n",
    "    def transfer_rows(cls,train_df,acq_df,idx):\n",
    "        \"\"\"Transfer the rows of the acq_df to the train_df\"\"\"\n",
    "        rows = acq_df.iloc[idx]\n",
    "\n",
    "        train_df = pd.concat([train_df,rows])\n",
    "        acq_df = acq_df.drop(acq_df.index[idx])\n",
    "        \n",
    "        return train_df, acq_df"
   ]
  },
  {
   "cell_type": "code",
   "execution_count": 154,
   "metadata": {},
   "outputs": [],
   "source": [
    "from torch.distributions import Bernoulli\n",
    "\n",
    "class DropLinear(nn.Module):\n",
    "    def __init__(self, in_features, out_features, dp=0.):\n",
    "        \"\"\"Wrapper of a linear layer with a dropout module\"\"\"\n",
    "        super(DropLinear, self).__init__()\n",
    "\n",
    "        self.dropout = CustomDropout(dp)\n",
    "        self.W = nn.Linear(in_features=in_features,out_features=out_features)\n",
    "        \n",
    "        self._mask = None\n",
    "    \n",
    "    @classmethod\n",
    "    def sample_mask(cls,p,n):\n",
    "        \"\"\"Returns the mask of the weights\"\"\"\n",
    "        \n",
    "        bn = Bernoulli(p)\n",
    "        mask = bn.sample((n,1))\n",
    "        \n",
    "        return mask\n",
    "    \n",
    "    def sample(self):\n",
    "        \"\"\"Sample a mask from the dropout module and the weight matrix\"\"\"\n",
    "        p = 1 - self.dropout.p\n",
    "        shape = self.W.weight.data.shape\n",
    "        n = shape[0]\n",
    "        \n",
    "        mask = DropLinear.sample_mask(p,n)\n",
    "        \n",
    "        return mask\n",
    "    \n",
    "    def topk_sample(self,n:int,k:int,p:float):\n",
    "        \"\"\"Sample a mask where only the top k weights of the matrix are considered for the dropout.\n",
    "        The other weights will be necessarily dropped.\n",
    "        \n",
    "        Args:\n",
    "            n: Total number of weights\n",
    "            k: Number of weights with the best magnitude to consider for the dropout\n",
    "            p: Probability to keep a neuron\n",
    "            \n",
    "        Returns:\n",
    "            A mask where only the top k neurons will be used to sample from\n",
    "        \"\"\"\n",
    "        \n",
    "        # We compute the indexes of the rows with highest norm\n",
    "        norm = self.W.weight.data.norm(dim=1)\n",
    "        idx = torch.topk(norm,k).indices\n",
    "        \n",
    "        # We create a mask with only zeros first\n",
    "        mask = torch.zeros(n)\n",
    "        \n",
    "        # Then we eventually allow the top k neurons to be kept depending on p\n",
    "        small_mask = DropLinear.sample_mask(p,k).view(-1)\n",
    "        mask[idx] = small_mask\n",
    "        \n",
    "        return mask \n",
    "        \n",
    "    def set_mask(self,mask):\n",
    "        self._mask = mask\n",
    "        \n",
    "    def remove_mask(self):\n",
    "        self._mask = None\n",
    "    \n",
    "    def forward(self, x):\n",
    "        if torch.is_tensor(self._mask):\n",
    "            # We fix the weights with respect to the mask\n",
    "            weight = self.W.weight.data\n",
    "            bias = self.W.bias.data\n",
    "            \n",
    "            # We normalize as during training by dividing by the probability to keep a neuron\n",
    "            dp = self.dropout.dp\n",
    "            p = 1 - dp\n",
    "            \n",
    "            # We apply our mask to the weights \n",
    "            masked_weight = self._mask.to(weight.device) * weight\n",
    "            z = F.linear(x,masked_weight,bias)\n",
    "            z = z / p\n",
    "        else:\n",
    "            # We keep the stochasticity here so we do as usual\n",
    "            z = self.W(x)\n",
    "            z = self.dropout(z)\n",
    "        return z"
   ]
  },
  {
   "cell_type": "code",
   "execution_count": 156,
   "metadata": {},
   "outputs": [],
   "source": [
    "def get_model():\n",
    "    model = nn.Sequential(\n",
    "        nn.Flatten(),\n",
    "        DropLinear(784,512,0.7),\n",
    "        nn.ReLU(),\n",
    "        DropLinear(512,512,0.7),\n",
    "        nn.ReLU(),\n",
    "        DropLinear(512,512,0.7),\n",
    "        nn.ReLU(),\n",
    "        nn.Linear(512,10)\n",
    "    )\n",
    "    return model"
   ]
  },
  {
   "cell_type": "code",
   "execution_count": 157,
   "metadata": {},
   "outputs": [],
   "source": [
    "def train_test_split_image(train_size):\n",
    "    # Create two data bunchs, one for training the unsupervised model, one for testing\n",
    "    # the results of the semi supervised model\n",
    "    \n",
    "    # We first load the whole data set \n",
    "    path = untar_data(URLs.MNIST)\n",
    "    tfms = get_transforms(do_flip = False)\n",
    "    data = (ImageList.from_folder(path/\"training\")\n",
    "            .split_none()\n",
    "            .label_from_folder()\n",
    "            .transform()\n",
    "            .databunch())\n",
    "\n",
    "    # We then randomly select train_size samples from the whole MNIST and put in train\n",
    "    # for the unsupervised, and semi supervised training, and the rest will be used \n",
    "    # as a test set for the semi supervised model evaluation\n",
    "    \n",
    "    n = len(data.train_ds.x.items)\n",
    "    \n",
    "    # We create two data frames which will be used to create the data bunches\n",
    "    train_idx = np.random.choice(n,train_size,replace = False)\n",
    "    x_train,y_train = data.train_ds.x.items[train_idx],data.train_ds.y.items[train_idx]\n",
    "    train_df = pd.DataFrame({\"name\":x_train,\"label\":y_train})\n",
    "    \n",
    "    test_idx = np.array(list(set(np.arange(n)) - set(train_idx)))\n",
    "    x_test,y_test = data.train_ds.x.items[test_idx],data.train_ds.y.items[test_idx]\n",
    "    test_df = pd.DataFrame({\"name\" : x_test,\"label\":y_test})\n",
    "    \n",
    "    return train_df, test_df"
   ]
  },
  {
   "cell_type": "code",
   "execution_count": 158,
   "metadata": {},
   "outputs": [],
   "source": [
    "path = untar_data(URLs.MNIST)"
   ]
  },
  {
   "cell_type": "code",
   "execution_count": 159,
   "metadata": {},
   "outputs": [],
   "source": [
    "total_train_size = 50000\n",
    "\n",
    "train_df, test_df = train_test_split_image(total_train_size)"
   ]
  },
  {
   "cell_type": "code",
   "execution_count": 160,
   "metadata": {},
   "outputs": [],
   "source": [
    "data = ImageActiveLearner.create_databunch(train_df,bs=512)"
   ]
  },
  {
   "cell_type": "code",
   "execution_count": 161,
   "metadata": {},
   "outputs": [],
   "source": [
    "model = get_model()\n",
    "learn = Learner(data,model,metrics=accuracy)"
   ]
  },
  {
   "cell_type": "code",
   "execution_count": null,
   "metadata": {},
   "outputs": [
    {
     "data": {
      "text/html": [
       "\n",
       "    <div>\n",
       "        <style>\n",
       "            /* Turns off some styling */\n",
       "            progress {\n",
       "                /* gets rid of default border in Firefox and Opera. */\n",
       "                border: none;\n",
       "                /* Needs to be in here for Safari polyfill so background images work as expected. */\n",
       "                background-size: auto;\n",
       "            }\n",
       "            .progress-bar-interrupted, .progress-bar-interrupted::-webkit-progress-bar {\n",
       "                background: #F44336;\n",
       "            }\n",
       "        </style>\n",
       "      <progress value='0' class='' max='2', style='width:300px; height:20px; vertical-align: middle;'></progress>\n",
       "      0.00% [0/2 00:00<00:00]\n",
       "    </div>\n",
       "    \n",
       "<table border=\"1\" class=\"dataframe\">\n",
       "  <thead>\n",
       "    <tr style=\"text-align: left;\">\n",
       "      <th>epoch</th>\n",
       "      <th>train_loss</th>\n",
       "      <th>valid_loss</th>\n",
       "      <th>accuracy</th>\n",
       "      <th>time</th>\n",
       "    </tr>\n",
       "  </thead>\n",
       "  <tbody>\n",
       "  </tbody>\n",
       "</table><p>\n",
       "\n",
       "    <div>\n",
       "        <style>\n",
       "            /* Turns off some styling */\n",
       "            progress {\n",
       "                /* gets rid of default border in Firefox and Opera. */\n",
       "                border: none;\n",
       "                /* Needs to be in here for Safari polyfill so background images work as expected. */\n",
       "                background-size: auto;\n",
       "            }\n",
       "            .progress-bar-interrupted, .progress-bar-interrupted::-webkit-progress-bar {\n",
       "                background: #F44336;\n",
       "            }\n",
       "        </style>\n",
       "      <progress value='36' class='' max='78', style='width:300px; height:20px; vertical-align: middle;'></progress>\n",
       "      46.15% [36/78 00:49<00:58 2.3326]\n",
       "    </div>\n",
       "    "
      ],
      "text/plain": [
       "<IPython.core.display.HTML object>"
      ]
     },
     "metadata": {},
     "output_type": "display_data"
    }
   ],
   "source": [
    "learn.lr_find()\n",
    "learn.recorder.plot()"
   ]
  },
  {
   "cell_type": "code",
   "execution_count": 69,
   "metadata": {},
   "outputs": [
    {
     "data": {
      "text/html": [
       "<table border=\"1\" class=\"dataframe\">\n",
       "  <thead>\n",
       "    <tr style=\"text-align: left;\">\n",
       "      <th>epoch</th>\n",
       "      <th>train_loss</th>\n",
       "      <th>valid_loss</th>\n",
       "      <th>accuracy</th>\n",
       "      <th>time</th>\n",
       "    </tr>\n",
       "  </thead>\n",
       "  <tbody>\n",
       "    <tr>\n",
       "      <td>0</td>\n",
       "      <td>1.355102</td>\n",
       "      <td>0.563965</td>\n",
       "      <td>0.817800</td>\n",
       "      <td>00:11</td>\n",
       "    </tr>\n",
       "    <tr>\n",
       "      <td>1</td>\n",
       "      <td>0.949814</td>\n",
       "      <td>0.578249</td>\n",
       "      <td>0.825700</td>\n",
       "      <td>00:10</td>\n",
       "    </tr>\n",
       "    <tr>\n",
       "      <td>2</td>\n",
       "      <td>0.805777</td>\n",
       "      <td>0.464609</td>\n",
       "      <td>0.867700</td>\n",
       "      <td>00:11</td>\n",
       "    </tr>\n",
       "    <tr>\n",
       "      <td>3</td>\n",
       "      <td>0.655255</td>\n",
       "      <td>0.348355</td>\n",
       "      <td>0.901000</td>\n",
       "      <td>00:10</td>\n",
       "    </tr>\n",
       "    <tr>\n",
       "      <td>4</td>\n",
       "      <td>0.566773</td>\n",
       "      <td>0.327698</td>\n",
       "      <td>0.910500</td>\n",
       "      <td>00:10</td>\n",
       "    </tr>\n",
       "  </tbody>\n",
       "</table>"
      ],
      "text/plain": [
       "<IPython.core.display.HTML object>"
      ]
     },
     "metadata": {},
     "output_type": "display_data"
    }
   ],
   "source": [
    "learn.fit_one_cycle(5,1e-2/2)"
   ]
  },
  {
   "cell_type": "code",
   "execution_count": 71,
   "metadata": {},
   "outputs": [
    {
     "data": {
      "text/html": [
       "<table border=\"1\" class=\"dataframe\">\n",
       "  <thead>\n",
       "    <tr style=\"text-align: left;\">\n",
       "      <th>epoch</th>\n",
       "      <th>train_loss</th>\n",
       "      <th>valid_loss</th>\n",
       "      <th>accuracy</th>\n",
       "      <th>time</th>\n",
       "    </tr>\n",
       "  </thead>\n",
       "  <tbody>\n",
       "    <tr>\n",
       "      <td>0</td>\n",
       "      <td>0.520264</td>\n",
       "      <td>0.327990</td>\n",
       "      <td>0.911600</td>\n",
       "      <td>00:12</td>\n",
       "    </tr>\n",
       "    <tr>\n",
       "      <td>1</td>\n",
       "      <td>0.504233</td>\n",
       "      <td>0.292823</td>\n",
       "      <td>0.916500</td>\n",
       "      <td>00:11</td>\n",
       "    </tr>\n",
       "    <tr>\n",
       "      <td>2</td>\n",
       "      <td>0.483160</td>\n",
       "      <td>0.277825</td>\n",
       "      <td>0.919700</td>\n",
       "      <td>00:11</td>\n",
       "    </tr>\n",
       "  </tbody>\n",
       "</table>"
      ],
      "text/plain": [
       "<IPython.core.display.HTML object>"
      ]
     },
     "metadata": {},
     "output_type": "display_data"
    }
   ],
   "source": [
    "learn.fit_one_cycle(3,1e-3)"
   ]
  },
  {
   "cell_type": "code",
   "execution_count": 70,
   "metadata": {},
   "outputs": [
    {
     "data": {
      "image/png": "[encoded data removed]",
      "text/plain": [
       "<Figure size 432x288 with 1 Axes>"
      ]
     },
     "metadata": {
      "needs_background": "light"
     },
     "output_type": "display_data"
    }
   ],
   "source": [
    "learn.recorder.plot_losses()"
   ]
  },
  {
   "cell_type": "code",
   "execution_count": 72,
   "metadata": {},
   "outputs": [],
   "source": [
    "preds,y = get_preds_sample(learn)"
   ]
  },
  {
   "cell_type": "code",
   "execution_count": 73,
   "metadata": {},
   "outputs": [
    {
     "data": {
      "text/plain": [
       "tensor(0.9620)"
      ]
     },
     "execution_count": 73,
     "metadata": {},
     "output_type": "execute_result"
    }
   ],
   "source": [
    "pred = preds.mean(dim=0)\n",
    "accuracy(pred,y)"
   ]
  },
  {
   "cell_type": "code",
   "execution_count": 25,
   "metadata": {},
   "outputs": [],
   "source": [
    "def sample_model(model,set_mask=True):\n",
    "    \"\"\"Sample a mask for each Droplinear and set it\"\"\"\n",
    "    masks = []\n",
    "    for m in model:\n",
    "        if isinstance(m,DropLinear):\n",
    "            mask = m.sample()\n",
    "            if set_mask:\n",
    "                m.set_mask(mask) \n",
    "            masks.append(mask)\n",
    "    return masks\n",
    "\n",
    "def get_mask_preds(learn):\n",
    "    \"\"\"Sample a mask and get preds\"\"\"\n",
    "    mask = sample_model(learn.model)\n",
    "    pred,y = learn.get_preds(ds_type=DatasetType.Fix)\n",
    "    pred = pred.view((1,) + pred.shape)\n",
    "    return mask,pred\n",
    "\n",
    "def remove_lowest(masks,preds,score_fn,return_score=False):\n",
    "    \"\"\"Removes the lowest mask for a given score function\"\"\"\n",
    "    scores = score_fn(preds)\n",
    "    idx = scores.argmin().item()\n",
    "    \n",
    "    del masks[idx]\n",
    "    del preds[idx]\n",
    "    \n",
    "    if return_score:\n",
    "        return scores\n",
    "\n",
    "def kls(preds):\n",
    "    \"\"\"Return the KL between the overall mean and the means without each mask\"\"\"\n",
    "    mean_pred = torch.cat(preds).mean(dim=0)\n",
    "    pred = torch.cat(preds)\n",
    "    means_pred = (mean_pred[None] * T - pred)/ (T-1)\n",
    "\n",
    "    logs = torch.log(mean_pred[None] / means_pred)\n",
    "\n",
    "    kls = torch.einsum(\"tic,ic -> t\",logs,mean_pred)\n",
    "    \n",
    "    return kls    "
   ]
  },
  {
   "cell_type": "code",
   "execution_count": null,
   "metadata": {},
   "outputs": [],
   "source": [
    "def union_mask(mask1,mask2):\n",
    "    u = mask1 + mask2\n",
    "    u = torch.clamp(u,0,1)\n",
    "    return u\n",
    "\n",
    "def intersection_mask(mask1,mask2):\n",
    "    return mask1 * mask2\n",
    "\n",
    "def iou(mask1,mask2):\n",
    "    i = intersection_mask(mask1,mask2).sum()\n",
    "    u = union_mask(mask1,mask2).sum()\n",
    "    return i/u"
   ]
  },
  {
   "cell_type": "code",
   "execution_count": 26,
   "metadata": {},
   "outputs": [],
   "source": [
    "mask,pred = get_mask_preds(learn)"
   ]
  },
  {
   "cell_type": "code",
   "execution_count": 28,
   "metadata": {},
   "outputs": [
    {
     "data": {
      "text/plain": [
       "torch.Size([1536, 1])"
      ]
     },
     "execution_count": 28,
     "metadata": {},
     "output_type": "execute_result"
    }
   ],
   "source": [
    "torch.cat(mask)"
   ]
  },
  {
   "cell_type": "code",
   "execution_count": 53,
   "metadata": {},
   "outputs": [
    {
     "data": {
      "text/plain": [
       "torch.Size([1536, 1])"
      ]
     },
     "execution_count": 53,
     "metadata": {},
     "output_type": "execute_result"
    }
   ],
   "source": [
    "masks[:,0]"
   ]
  },
  {
   "cell_type": "code",
   "execution_count": 76,
   "metadata": {},
   "outputs": [
    {
     "name": "stdout",
     "output_type": "stream",
     "text": [
      "> <ipython-input-76-f9e1faf63e42>(27)<module>()\n",
      "-> scores = kls(preds)\n",
      "(Pdb) n\n",
      "> <ipython-input-76-f9e1faf63e42>(28)<module>()\n",
      "-> masks = torch.cat(masks,dim=1)\n",
      "(Pdb) scores\n",
      "tensor([-inf, -inf, nan, -inf, -inf, -inf, -inf, -inf, -inf, -inf])\n",
      "(Pdb) scores\n",
      "tensor([-inf, -inf, nan, -inf, -inf, -inf, -inf, -inf, -inf, -inf])\n",
      "(Pdb) preds\n",
      "[tensor([[[0.0923, 0.0525, 0.0743,  ..., 0.0816, 0.2460, 0.1618],\n",
      "         [0.0544, 0.0344, 0.0347,  ..., 0.0287, 0.5146, 0.1237],\n",
      "         [0.1596, 0.0220, 0.0573,  ..., 0.0573, 0.2662, 0.1689],\n",
      "         ...,\n",
      "         [0.0866, 0.0622, 0.0824,  ..., 0.0648, 0.2785, 0.1392],\n",
      "         [0.0669, 0.0461, 0.0522,  ..., 0.0432, 0.3651, 0.1524],\n",
      "         [0.0519, 0.0390, 0.0324,  ..., 0.0228, 0.5522, 0.1034]]]), tensor([[[0.0738, 0.0563, 0.0492,  ..., 0.0659, 0.2965, 0.1893],\n",
      "         [0.0605, 0.0365, 0.0434,  ..., 0.0304, 0.5244, 0.1076],\n",
      "         [0.1691, 0.0268, 0.0551,  ..., 0.0395, 0.2681, 0.1597],\n",
      "         ...,\n",
      "         [0.0801, 0.0588, 0.0671,  ..., 0.0563, 0.2986, 0.1582],\n",
      "         [0.0640, 0.0508, 0.0585,  ..., 0.0494, 0.3159, 0.1668],\n",
      "         [0.0589, 0.0372, 0.0431,  ..., 0.0247, 0.5883, 0.0797]]]), tensor([[[0.0716, 0.0493, 0.0542,  ..., 0.0607, 0.3206, 0.1740],\n",
      "         [0.0639, 0.0346, 0.0473,  ..., 0.0298, 0.4703, 0.1225],\n",
      "         [0.1398, 0.0345, 0.0724,  ..., 0.0432, 0.2740, 0.1441],\n",
      "         ...,\n",
      "         [0.0755, 0.0573, 0.0639,  ..., 0.0618, 0.3030, 0.1601],\n",
      "         [0.0741, 0.0495, 0.0587,  ..., 0.0499, 0.3321, 0.1551],\n",
      "         [0.0648, 0.0350, 0.0461,  ..., 0.0295, 0.4709, 0.1206]]]), tensor([[[0.0647, 0.0441, 0.0644,  ..., 0.0995, 0.2783, 0.1950],\n",
      "         [0.0638, 0.0302, 0.0513,  ..., 0.0229, 0.4856, 0.1185],\n",
      "         [0.1776, 0.0207, 0.0662,  ..., 0.0400, 0.2840, 0.1293],\n",
      "         ...,\n",
      "         [0.0650, 0.0498, 0.0608,  ..., 0.0669, 0.3186, 0.1606],\n",
      "         [0.0541, 0.0431, 0.0475,  ..., 0.0437, 0.3404, 0.1623],\n",
      "         [0.0589, 0.0312, 0.0467,  ..., 0.0224, 0.4930, 0.1191]]]), tensor([[[0.0739, 0.0441, 0.0482,  ..., 0.0497, 0.3611, 0.1653],\n",
      "         [0.0685, 0.0386, 0.0460,  ..., 0.0318, 0.4582, 0.1238],\n",
      "         [0.1294, 0.0283, 0.0769,  ..., 0.0491, 0.3167, 0.1360],\n",
      "         ...,\n",
      "         [0.0873, 0.0470, 0.0663,  ..., 0.0513, 0.3441, 0.1393],\n",
      "         [0.0762, 0.0406, 0.0461,  ..., 0.0406, 0.3742, 0.1539],\n",
      "         [0.0514, 0.0375, 0.0424,  ..., 0.0249, 0.5389, 0.1022]]]), tensor([[[0.0796, 0.0542, 0.0649,  ..., 0.0692, 0.2604, 0.1764],\n",
      "         [0.0658, 0.0615, 0.0536,  ..., 0.0287, 0.4480, 0.0958],\n",
      "         [0.1050, 0.0555, 0.0647,  ..., 0.0533, 0.2851, 0.1418],\n",
      "         ...,\n",
      "         [0.0843, 0.0620, 0.0656,  ..., 0.0487, 0.3101, 0.1347],\n",
      "         [0.0799, 0.0562, 0.0576,  ..., 0.0518, 0.2945, 0.1592],\n",
      "         [0.0594, 0.0592, 0.0473,  ..., 0.0247, 0.4980, 0.0866]]]), tensor([[[0.0816, 0.0619, 0.0634,  ..., 0.0761, 0.2335, 0.1687],\n",
      "         [0.0559, 0.0382, 0.0410,  ..., 0.0172, 0.5844, 0.0914],\n",
      "         [0.1445, 0.0407, 0.0672,  ..., 0.0422, 0.2988, 0.1269],\n",
      "         ...,\n",
      "         [0.0693, 0.0608, 0.0583,  ..., 0.0662, 0.3004, 0.1685],\n",
      "         [0.0567, 0.0522, 0.0530,  ..., 0.0413, 0.3293, 0.1814],\n",
      "         [0.0448, 0.0314, 0.0383,  ..., 0.0114, 0.6819, 0.0641]]]), tensor([[[0.0725, 0.0605, 0.0605,  ..., 0.0855, 0.2386, 0.1919],\n",
      "         [0.0727, 0.0369, 0.0392,  ..., 0.0314, 0.4604, 0.1301],\n",
      "         [0.1329, 0.0338, 0.0535,  ..., 0.0396, 0.2983, 0.1386],\n",
      "         ...,\n",
      "         [0.0767, 0.0620, 0.0711,  ..., 0.0670, 0.2793, 0.1557],\n",
      "         [0.0714, 0.0442, 0.0464,  ..., 0.0406, 0.3964, 0.1456],\n",
      "         [0.0679, 0.0282, 0.0307,  ..., 0.0248, 0.5240, 0.1264]]]), tensor([[[0.0701, 0.0625, 0.0565,  ..., 0.0791, 0.2421, 0.1859],\n",
      "         [0.0616, 0.0471, 0.0429,  ..., 0.0322, 0.4558, 0.1326],\n",
      "         [0.1908, 0.0188, 0.0621,  ..., 0.0410, 0.2737, 0.1434],\n",
      "         ...,\n",
      "         [0.0715, 0.0639, 0.0636,  ..., 0.0602, 0.2888, 0.1562],\n",
      "         [0.0736, 0.0490, 0.0487,  ..., 0.0407, 0.3447, 0.1686],\n",
      "         [0.0448, 0.0515, 0.0367,  ..., 0.0258, 0.5264, 0.1133]]]), tensor([[[0.0646, 0.0753, 0.0700,  ..., 0.0819, 0.2491, 0.1694],\n",
      "         [0.0488, 0.0357, 0.0395,  ..., 0.0289, 0.5168, 0.1291],\n",
      "         [0.1791, 0.0202, 0.0598,  ..., 0.0452, 0.2628, 0.1472],\n",
      "         ...,\n",
      "         [0.0717, 0.0522, 0.0600,  ..., 0.0536, 0.3536, 0.1483],\n",
      "         [0.0580, 0.0391, 0.0395,  ..., 0.0364, 0.4288, 0.1572],\n",
      "         [0.0414, 0.0352, 0.0382,  ..., 0.0245, 0.5635, 0.1160]]])]\n",
      "(Pdb) kls(scores)\n",
      "*** TypeError: cat(): argument 'tensors' (position 1) must be tuple of Tensors, not Tensor\n",
      "(Pdb) kls(preds)\n",
      "tensor([-inf, -inf, nan, -inf, -inf, -inf, -inf, -inf, -inf, -inf])\n",
      "(Pdb) quit()\n"
     ]
    },
    {
     "ename": "BdbQuit",
     "evalue": "",
     "output_type": "error",
     "traceback": [
      "\u001b[0;31m---------------------------------------------------------------------------\u001b[0m",
      "\u001b[0;31mBdbQuit\u001b[0m                                   Traceback (most recent call last)",
      "\u001b[0;32m<ipython-input-76-f9e1faf63e42>\u001b[0m in \u001b[0;36m<module>\u001b[0;34m\u001b[0m\n\u001b[1;32m     26\u001b[0m \u001b[0;34m\u001b[0m\u001b[0m\n\u001b[1;32m     27\u001b[0m     \u001b[0mscores\u001b[0m \u001b[0;34m=\u001b[0m \u001b[0mkls\u001b[0m\u001b[0;34m(\u001b[0m\u001b[0mpreds\u001b[0m\u001b[0;34m)\u001b[0m\u001b[0;34m\u001b[0m\u001b[0;34m\u001b[0m\u001b[0m\n\u001b[0;32m---> 28\u001b[0;31m     \u001b[0mmasks\u001b[0m \u001b[0;34m=\u001b[0m \u001b[0mtorch\u001b[0m\u001b[0;34m.\u001b[0m\u001b[0mcat\u001b[0m\u001b[0;34m(\u001b[0m\u001b[0mmasks\u001b[0m\u001b[0;34m,\u001b[0m\u001b[0mdim\u001b[0m\u001b[0;34m=\u001b[0m\u001b[0;36m1\u001b[0m\u001b[0;34m)\u001b[0m\u001b[0;34m\u001b[0m\u001b[0;34m\u001b[0m\u001b[0m\n\u001b[0m\u001b[1;32m     29\u001b[0m \u001b[0;34m\u001b[0m\u001b[0m\n\u001b[1;32m     30\u001b[0m     \u001b[0mu\u001b[0m \u001b[0;34m=\u001b[0m \u001b[0mtorch\u001b[0m\u001b[0;34m.\u001b[0m\u001b[0mclamp\u001b[0m\u001b[0;34m(\u001b[0m\u001b[0mmasks\u001b[0m \u001b[0;34m+\u001b[0m \u001b[0mtotal_mask\u001b[0m\u001b[0;34m,\u001b[0m\u001b[0;36m0\u001b[0m\u001b[0;34m,\u001b[0m\u001b[0;36m1\u001b[0m\u001b[0;34m)\u001b[0m\u001b[0;34m.\u001b[0m\u001b[0msum\u001b[0m\u001b[0;34m(\u001b[0m\u001b[0mdim\u001b[0m\u001b[0;34m=\u001b[0m\u001b[0;36m0\u001b[0m\u001b[0;34m)\u001b[0m\u001b[0;34m\u001b[0m\u001b[0;34m\u001b[0m\u001b[0m\n",
      "\u001b[0;32m<ipython-input-76-f9e1faf63e42>\u001b[0m in \u001b[0;36m<module>\u001b[0;34m\u001b[0m\n\u001b[1;32m     26\u001b[0m \u001b[0;34m\u001b[0m\u001b[0m\n\u001b[1;32m     27\u001b[0m     \u001b[0mscores\u001b[0m \u001b[0;34m=\u001b[0m \u001b[0mkls\u001b[0m\u001b[0;34m(\u001b[0m\u001b[0mpreds\u001b[0m\u001b[0;34m)\u001b[0m\u001b[0;34m\u001b[0m\u001b[0;34m\u001b[0m\u001b[0m\n\u001b[0;32m---> 28\u001b[0;31m     \u001b[0mmasks\u001b[0m \u001b[0;34m=\u001b[0m \u001b[0mtorch\u001b[0m\u001b[0;34m.\u001b[0m\u001b[0mcat\u001b[0m\u001b[0;34m(\u001b[0m\u001b[0mmasks\u001b[0m\u001b[0;34m,\u001b[0m\u001b[0mdim\u001b[0m\u001b[0;34m=\u001b[0m\u001b[0;36m1\u001b[0m\u001b[0;34m)\u001b[0m\u001b[0;34m\u001b[0m\u001b[0;34m\u001b[0m\u001b[0m\n\u001b[0m\u001b[1;32m     29\u001b[0m \u001b[0;34m\u001b[0m\u001b[0m\n\u001b[1;32m     30\u001b[0m     \u001b[0mu\u001b[0m \u001b[0;34m=\u001b[0m \u001b[0mtorch\u001b[0m\u001b[0;34m.\u001b[0m\u001b[0mclamp\u001b[0m\u001b[0;34m(\u001b[0m\u001b[0mmasks\u001b[0m \u001b[0;34m+\u001b[0m \u001b[0mtotal_mask\u001b[0m\u001b[0;34m,\u001b[0m\u001b[0;36m0\u001b[0m\u001b[0;34m,\u001b[0m\u001b[0;36m1\u001b[0m\u001b[0;34m)\u001b[0m\u001b[0;34m.\u001b[0m\u001b[0msum\u001b[0m\u001b[0;34m(\u001b[0m\u001b[0mdim\u001b[0m\u001b[0;34m=\u001b[0m\u001b[0;36m0\u001b[0m\u001b[0;34m)\u001b[0m\u001b[0;34m\u001b[0m\u001b[0;34m\u001b[0m\u001b[0m\n",
      "\u001b[0;32m/data/anaconda/envs/fastai/lib/python3.7/bdb.py\u001b[0m in \u001b[0;36mtrace_dispatch\u001b[0;34m(self, frame, event, arg)\u001b[0m\n\u001b[1;32m     86\u001b[0m             \u001b[0;32mreturn\u001b[0m \u001b[0;31m# None\u001b[0m\u001b[0;34m\u001b[0m\u001b[0;34m\u001b[0m\u001b[0m\n\u001b[1;32m     87\u001b[0m         \u001b[0;32mif\u001b[0m \u001b[0mevent\u001b[0m \u001b[0;34m==\u001b[0m \u001b[0;34m'line'\u001b[0m\u001b[0;34m:\u001b[0m\u001b[0;34m\u001b[0m\u001b[0;34m\u001b[0m\u001b[0m\n\u001b[0;32m---> 88\u001b[0;31m             \u001b[0;32mreturn\u001b[0m \u001b[0mself\u001b[0m\u001b[0;34m.\u001b[0m\u001b[0mdispatch_line\u001b[0m\u001b[0;34m(\u001b[0m\u001b[0mframe\u001b[0m\u001b[0;34m)\u001b[0m\u001b[0;34m\u001b[0m\u001b[0;34m\u001b[0m\u001b[0m\n\u001b[0m\u001b[1;32m     89\u001b[0m         \u001b[0;32mif\u001b[0m \u001b[0mevent\u001b[0m \u001b[0;34m==\u001b[0m \u001b[0;34m'call'\u001b[0m\u001b[0;34m:\u001b[0m\u001b[0;34m\u001b[0m\u001b[0;34m\u001b[0m\u001b[0m\n\u001b[1;32m     90\u001b[0m             \u001b[0;32mreturn\u001b[0m \u001b[0mself\u001b[0m\u001b[0;34m.\u001b[0m\u001b[0mdispatch_call\u001b[0m\u001b[0;34m(\u001b[0m\u001b[0mframe\u001b[0m\u001b[0;34m,\u001b[0m \u001b[0marg\u001b[0m\u001b[0;34m)\u001b[0m\u001b[0;34m\u001b[0m\u001b[0;34m\u001b[0m\u001b[0m\n",
      "\u001b[0;32m/data/anaconda/envs/fastai/lib/python3.7/bdb.py\u001b[0m in \u001b[0;36mdispatch_line\u001b[0;34m(self, frame)\u001b[0m\n\u001b[1;32m    111\u001b[0m         \u001b[0;32mif\u001b[0m \u001b[0mself\u001b[0m\u001b[0;34m.\u001b[0m\u001b[0mstop_here\u001b[0m\u001b[0;34m(\u001b[0m\u001b[0mframe\u001b[0m\u001b[0;34m)\u001b[0m \u001b[0;32mor\u001b[0m \u001b[0mself\u001b[0m\u001b[0;34m.\u001b[0m\u001b[0mbreak_here\u001b[0m\u001b[0;34m(\u001b[0m\u001b[0mframe\u001b[0m\u001b[0;34m)\u001b[0m\u001b[0;34m:\u001b[0m\u001b[0;34m\u001b[0m\u001b[0;34m\u001b[0m\u001b[0m\n\u001b[1;32m    112\u001b[0m             \u001b[0mself\u001b[0m\u001b[0;34m.\u001b[0m\u001b[0muser_line\u001b[0m\u001b[0;34m(\u001b[0m\u001b[0mframe\u001b[0m\u001b[0;34m)\u001b[0m\u001b[0;34m\u001b[0m\u001b[0;34m\u001b[0m\u001b[0m\n\u001b[0;32m--> 113\u001b[0;31m             \u001b[0;32mif\u001b[0m \u001b[0mself\u001b[0m\u001b[0;34m.\u001b[0m\u001b[0mquitting\u001b[0m\u001b[0;34m:\u001b[0m \u001b[0;32mraise\u001b[0m \u001b[0mBdbQuit\u001b[0m\u001b[0;34m\u001b[0m\u001b[0;34m\u001b[0m\u001b[0m\n\u001b[0m\u001b[1;32m    114\u001b[0m         \u001b[0;32mreturn\u001b[0m \u001b[0mself\u001b[0m\u001b[0;34m.\u001b[0m\u001b[0mtrace_dispatch\u001b[0m\u001b[0;34m\u001b[0m\u001b[0;34m\u001b[0m\u001b[0m\n\u001b[1;32m    115\u001b[0m \u001b[0;34m\u001b[0m\u001b[0m\n",
      "\u001b[0;31mBdbQuit\u001b[0m: "
     ]
    }
   ],
   "source": [
    "current_masks = []\n",
    "current_preds = []\n",
    "\n",
    "mask,pred = get_mask_preds(learn)\n",
    "\n",
    "current_masks.append(mask)\n",
    "current_preds.append(pred)\n",
    "\n",
    "T = 1\n",
    "n_iterations = 10\n",
    "\n",
    "total_mask = torch.cat(mask)\n",
    "\n",
    "for t in range(T):\n",
    "    masks = []\n",
    "    preds = []\n",
    "    for i in range(n_iterations):\n",
    "        mask,pred = get_mask_preds(learn)\n",
    "        mask = torch.cat(mask)\n",
    "        \n",
    "        masks.append(mask)\n",
    "        preds.append(pred)\n",
    "    \n",
    "    import pdb\n",
    "    pdb.set_trace()\n",
    "    \n",
    "    scores = kls(preds)\n",
    "    masks = torch.cat(masks,dim=1)\n",
    "    \n",
    "    u = torch.clamp(masks + total_mask,0,1).sum(dim=0)\n",
    "    i = (total_mask * masks).sum(dim=0)\n",
    "    \n",
    "    iou = i / u\n",
    "    \n",
    "    final_score = iou * scores\n",
    "    best_idx = final_score.argmax().item()\n",
    "    \n",
    "    best_mask = masks[:,best_idx][:,None]\n",
    "    best_pred = preds[best_idx]\n",
    "    \n",
    "    total_mask = torch.clamp(total_mask + best_mask,0,1)\n",
    "    \n",
    "    current_masks.append(best_mask)\n",
    "    current_preds.append(best_pred)"
   ]
  },
  {
   "cell_type": "code",
   "execution_count": 75,
   "metadata": {},
   "outputs": [
    {
     "data": {
      "text/plain": [
       "tensor(0.3151)"
      ]
     },
     "execution_count": 75,
     "metadata": {},
     "output_type": "execute_result"
    }
   ],
   "source": [
    "total_mask.mean()"
   ]
  },
  {
   "cell_type": "code",
   "execution_count": 30,
   "metadata": {},
   "outputs": [],
   "source": [
    "T = 5\n",
    "masks = []\n",
    "preds = []\n",
    "\n",
    "for t in range(T):\n",
    "    mask,pred = get_mask_preds(learn)\n",
    "    mask = torch.cat(mask)\n",
    "    masks.append(mask)\n",
    "    preds.append(pred)"
   ]
  },
  {
   "cell_type": "code",
   "execution_count": 33,
   "metadata": {},
   "outputs": [],
   "source": [
    "mask,_ = get_mask_preds(learn)\n",
    "mask = torch.cat(mask)"
   ]
  },
  {
   "cell_type": "code",
   "execution_count": 42,
   "metadata": {},
   "outputs": [],
   "source": [
    "u = torch.clamp(masks + mask,0,1).sum(dim=0)"
   ]
  },
  {
   "cell_type": "code",
   "execution_count": 43,
   "metadata": {},
   "outputs": [],
   "source": [
    "i = (mask * masks).sum(dim=0)"
   ]
  },
  {
   "cell_type": "code",
   "execution_count": 48,
   "metadata": {},
   "outputs": [
    {
     "data": {
      "text/plain": [
       "tensor([0.4085, 0.4116, 0.4034, 0.3728, 0.4077])"
      ]
     },
     "execution_count": 48,
     "metadata": {},
     "output_type": "execute_result"
    }
   ],
   "source": [
    "i / u"
   ]
  },
  {
   "cell_type": "code",
   "execution_count": 34,
   "metadata": {},
   "outputs": [],
   "source": [
    "masks = "
   ]
  },
  {
   "cell_type": "code",
   "execution_count": 448,
   "metadata": {},
   "outputs": [],
   "source": [
    "\n",
    "\n",
    "T = 5\n",
    "mean = []\n",
    "low = []\n",
    "high = []\n",
    "std = []\n",
    "\n",
    "masks = []\n",
    "preds = []\n",
    "for t in range(T):\n",
    "    mask,pred = get_mask_preds(learn)\n",
    "    masks.append(mask)\n",
    "    preds.append(pred)\n",
    "    \n",
    "n_iterations = 60\n",
    "\n",
    "for i in range(n_iterations):\n",
    "    scores = remove_lowest(masks,preds,kls,True)\n",
    "    mean.append(scores.mean().item())\n",
    "    low.append(scores.min().item())\n",
    "    high.append(scores.max().item())\n",
    "    std.append(scores.std().item())\n",
    "    \n",
    "    mask,pred = get_mask_preds(learn)\n",
    "    masks.append(mask)\n",
    "    preds.append(pred)"
   ]
  },
  {
   "cell_type": "code",
   "execution_count": 454,
   "metadata": {},
   "outputs": [
    {
     "data": {
      "text/plain": [
       "[<matplotlib.lines.Line2D at 0x7f60ce78bc10>]"
      ]
     },
     "execution_count": 454,
     "metadata": {},
     "output_type": "execute_result"
    },
    {
     "data": {
      "image/png": "[encoded data removed]",
      "text/plain": [
       "<Figure size 432x288 with 1 Axes>"
      ]
     },
     "metadata": {
      "needs_background": "light"
     },
     "output_type": "display_data"
    }
   ],
   "source": [
    "plt.plot(mean)"
   ]
  },
  {
   "cell_type": "code",
   "execution_count": 417,
   "metadata": {},
   "outputs": [],
   "source": [
    "import itertools"
   ]
  },
  {
   "cell_type": "code",
   "execution_count": 457,
   "metadata": {},
   "outputs": [],
   "source": [
    "p = torch.cat(preds).mean(dim=0)"
   ]
  },
  {
   "cell_type": "code",
   "execution_count": 458,
   "metadata": {},
   "outputs": [
    {
     "data": {
      "text/plain": [
       "tensor(0.9658)"
      ]
     },
     "execution_count": 458,
     "metadata": {},
     "output_type": "execute_result"
    }
   ],
   "source": [
    "accuracy(p,y)"
   ]
  },
  {
   "cell_type": "code",
   "execution_count": 427,
   "metadata": {},
   "outputs": [],
   "source": [
    "_,y = learn.get_preds(DatasetType.Fix)"
   ]
  },
  {
   "cell_type": "code",
   "execution_count": 429,
   "metadata": {},
   "outputs": [],
   "source": [
    "p,y = get_preds_sample(learn,DatasetType.Fix)"
   ]
  },
  {
   "cell_type": "code",
   "execution_count": 431,
   "metadata": {},
   "outputs": [],
   "source": [
    "p = (p).mean(dim=0)"
   ]
  },
  {
   "cell_type": "code",
   "execution_count": 434,
   "metadata": {},
   "outputs": [],
   "source": [
    "for m in learn.model:\n",
    "    if isinstance(m,DropLinear):\n",
    "        m.remove_mask()"
   ]
  },
  {
   "cell_type": "code",
   "execution_count": 437,
   "metadata": {},
   "outputs": [
    {
     "data": {
      "text/plain": [
       "[0.12555529, tensor(0.9631)]"
      ]
     },
     "execution_count": 437,
     "metadata": {},
     "output_type": "execute_result"
    }
   ],
   "source": [
    "learn.validate(learn.dl(DatasetType.Fix))"
   ]
  },
  {
   "cell_type": "code",
   "execution_count": 62,
   "metadata": {},
   "outputs": [
    {
     "ename": "TypeError",
     "evalue": "cat(): argument 'tensors' (position 1) must be tuple of Tensors, not Tensor",
     "output_type": "error",
     "traceback": [
      "\u001b[0;31m---------------------------------------------------------------------------\u001b[0m",
      "\u001b[0;31mTypeError\u001b[0m                                 Traceback (most recent call last)",
      "\u001b[0;32m<ipython-input-62-1446c3bb44a3>\u001b[0m in \u001b[0;36m<module>\u001b[0;34m\u001b[0m\n\u001b[1;32m      2\u001b[0m \u001b[0;34m\u001b[0m\u001b[0m\n\u001b[1;32m      3\u001b[0m \u001b[0;32mfor\u001b[0m \u001b[0mmask\u001b[0m \u001b[0;32min\u001b[0m \u001b[0mmasks\u001b[0m\u001b[0;34m:\u001b[0m\u001b[0;34m\u001b[0m\u001b[0;34m\u001b[0m\u001b[0m\n\u001b[0;32m----> 4\u001b[0;31m     \u001b[0mtotal\u001b[0m \u001b[0;34m+=\u001b[0m \u001b[0mtorch\u001b[0m\u001b[0;34m.\u001b[0m\u001b[0mcat\u001b[0m\u001b[0;34m(\u001b[0m\u001b[0mmask\u001b[0m\u001b[0;34m)\u001b[0m\u001b[0;34m\u001b[0m\u001b[0;34m\u001b[0m\u001b[0m\n\u001b[0m\u001b[1;32m      5\u001b[0m \u001b[0;34m\u001b[0m\u001b[0m\n\u001b[1;32m      6\u001b[0m \u001b[0mtotal\u001b[0m \u001b[0;34m=\u001b[0m \u001b[0mtorch\u001b[0m\u001b[0;34m.\u001b[0m\u001b[0mclamp\u001b[0m\u001b[0;34m(\u001b[0m\u001b[0mtotal\u001b[0m\u001b[0;34m,\u001b[0m\u001b[0;36m0\u001b[0m\u001b[0;34m,\u001b[0m\u001b[0;36m1\u001b[0m\u001b[0;34m)\u001b[0m\u001b[0;34m\u001b[0m\u001b[0;34m\u001b[0m\u001b[0m\n",
      "\u001b[0;31mTypeError\u001b[0m: cat(): argument 'tensors' (position 1) must be tuple of Tensors, not Tensor"
     ]
    }
   ],
   "source": [
    "total = torch.zeros(1536,1)\n",
    "\n",
    "for mask in masks:\n",
    "    total += torch.cat(mask)\n",
    "\n",
    "total = torch.clamp(total,0,1)\n",
    "\n",
    "total.mean()"
   ]
  },
  {
   "cell_type": "code",
   "execution_count": 395,
   "metadata": {},
   "outputs": [
    {
     "data": {
      "text/plain": [
       "tensor([39.3916, 32.5208, 41.0234, 61.9734, 45.3171, 76.7213, 58.6875, 59.2673,\n",
       "        30.5528, 55.3150])"
      ]
     },
     "execution_count": 395,
     "metadata": {},
     "output_type": "execute_result"
    }
   ],
   "source": [
    "kls"
   ]
  },
  {
   "cell_type": "code",
   "execution_count": 400,
   "metadata": {},
   "outputs": [],
   "source": []
  },
  {
   "cell_type": "code",
   "execution_count": 398,
   "metadata": {},
   "outputs": [],
   "source": [
    "del preds[idx]"
   ]
  },
  {
   "cell_type": "code",
   "execution_count": 240,
   "metadata": {},
   "outputs": [],
   "source": [
    "for tfm in learn.data.train_dl.tfms:\n",
    "    x,y = tfm((x,y))"
   ]
  },
  {
   "cell_type": "code",
   "execution_count": 243,
   "metadata": {},
   "outputs": [
    {
     "ename": "RuntimeError",
     "evalue": "Expected object of device type cuda but got device type cpu for argument #2 'mat1' in call to _th_addmm",
     "output_type": "error",
     "traceback": [
      "\u001b[0;31m---------------------------------------------------------------------------\u001b[0m",
      "\u001b[0;31mRuntimeError\u001b[0m                              Traceback (most recent call last)",
      "\u001b[0;32m<ipython-input-243-75d6aa28e95b>\u001b[0m in \u001b[0;36m<module>\u001b[0;34m\u001b[0m\n\u001b[0;32m----> 1\u001b[0;31m \u001b[0mlearn\u001b[0m\u001b[0;34m.\u001b[0m\u001b[0mmodel\u001b[0m\u001b[0;34m(\u001b[0m\u001b[0mx\u001b[0m\u001b[0;34m)\u001b[0m\u001b[0;34m\u001b[0m\u001b[0;34m\u001b[0m\u001b[0m\n\u001b[0m",
      "\u001b[0;32m/data/anaconda/envs/fastai/lib/python3.7/site-packages/torch/nn/modules/module.py\u001b[0m in \u001b[0;36m__call__\u001b[0;34m(self, *input, **kwargs)\u001b[0m\n\u001b[1;32m    539\u001b[0m             \u001b[0mresult\u001b[0m \u001b[0;34m=\u001b[0m \u001b[0mself\u001b[0m\u001b[0;34m.\u001b[0m\u001b[0m_slow_forward\u001b[0m\u001b[0;34m(\u001b[0m\u001b[0;34m*\u001b[0m\u001b[0minput\u001b[0m\u001b[0;34m,\u001b[0m \u001b[0;34m**\u001b[0m\u001b[0mkwargs\u001b[0m\u001b[0;34m)\u001b[0m\u001b[0;34m\u001b[0m\u001b[0;34m\u001b[0m\u001b[0m\n\u001b[1;32m    540\u001b[0m         \u001b[0;32melse\u001b[0m\u001b[0;34m:\u001b[0m\u001b[0;34m\u001b[0m\u001b[0;34m\u001b[0m\u001b[0m\n\u001b[0;32m--> 541\u001b[0;31m             \u001b[0mresult\u001b[0m \u001b[0;34m=\u001b[0m \u001b[0mself\u001b[0m\u001b[0;34m.\u001b[0m\u001b[0mforward\u001b[0m\u001b[0;34m(\u001b[0m\u001b[0;34m*\u001b[0m\u001b[0minput\u001b[0m\u001b[0;34m,\u001b[0m \u001b[0;34m**\u001b[0m\u001b[0mkwargs\u001b[0m\u001b[0;34m)\u001b[0m\u001b[0;34m\u001b[0m\u001b[0;34m\u001b[0m\u001b[0m\n\u001b[0m\u001b[1;32m    542\u001b[0m         \u001b[0;32mfor\u001b[0m \u001b[0mhook\u001b[0m \u001b[0;32min\u001b[0m \u001b[0mself\u001b[0m\u001b[0;34m.\u001b[0m\u001b[0m_forward_hooks\u001b[0m\u001b[0;34m.\u001b[0m\u001b[0mvalues\u001b[0m\u001b[0;34m(\u001b[0m\u001b[0;34m)\u001b[0m\u001b[0;34m:\u001b[0m\u001b[0;34m\u001b[0m\u001b[0;34m\u001b[0m\u001b[0m\n\u001b[1;32m    543\u001b[0m             \u001b[0mhook_result\u001b[0m \u001b[0;34m=\u001b[0m \u001b[0mhook\u001b[0m\u001b[0;34m(\u001b[0m\u001b[0mself\u001b[0m\u001b[0;34m,\u001b[0m \u001b[0minput\u001b[0m\u001b[0;34m,\u001b[0m \u001b[0mresult\u001b[0m\u001b[0;34m)\u001b[0m\u001b[0;34m\u001b[0m\u001b[0;34m\u001b[0m\u001b[0m\n",
      "\u001b[0;32m/data/anaconda/envs/fastai/lib/python3.7/site-packages/torch/nn/modules/container.py\u001b[0m in \u001b[0;36mforward\u001b[0;34m(self, input)\u001b[0m\n\u001b[1;32m     90\u001b[0m     \u001b[0;32mdef\u001b[0m \u001b[0mforward\u001b[0m\u001b[0;34m(\u001b[0m\u001b[0mself\u001b[0m\u001b[0;34m,\u001b[0m \u001b[0minput\u001b[0m\u001b[0;34m)\u001b[0m\u001b[0;34m:\u001b[0m\u001b[0;34m\u001b[0m\u001b[0;34m\u001b[0m\u001b[0m\n\u001b[1;32m     91\u001b[0m         \u001b[0;32mfor\u001b[0m \u001b[0mmodule\u001b[0m \u001b[0;32min\u001b[0m \u001b[0mself\u001b[0m\u001b[0;34m.\u001b[0m\u001b[0m_modules\u001b[0m\u001b[0;34m.\u001b[0m\u001b[0mvalues\u001b[0m\u001b[0;34m(\u001b[0m\u001b[0;34m)\u001b[0m\u001b[0;34m:\u001b[0m\u001b[0;34m\u001b[0m\u001b[0;34m\u001b[0m\u001b[0m\n\u001b[0;32m---> 92\u001b[0;31m             \u001b[0minput\u001b[0m \u001b[0;34m=\u001b[0m \u001b[0mmodule\u001b[0m\u001b[0;34m(\u001b[0m\u001b[0minput\u001b[0m\u001b[0;34m)\u001b[0m\u001b[0;34m\u001b[0m\u001b[0;34m\u001b[0m\u001b[0m\n\u001b[0m\u001b[1;32m     93\u001b[0m         \u001b[0;32mreturn\u001b[0m \u001b[0minput\u001b[0m\u001b[0;34m\u001b[0m\u001b[0;34m\u001b[0m\u001b[0m\n\u001b[1;32m     94\u001b[0m \u001b[0;34m\u001b[0m\u001b[0m\n",
      "\u001b[0;32m/data/anaconda/envs/fastai/lib/python3.7/site-packages/torch/nn/modules/module.py\u001b[0m in \u001b[0;36m__call__\u001b[0;34m(self, *input, **kwargs)\u001b[0m\n\u001b[1;32m    539\u001b[0m             \u001b[0mresult\u001b[0m \u001b[0;34m=\u001b[0m \u001b[0mself\u001b[0m\u001b[0;34m.\u001b[0m\u001b[0m_slow_forward\u001b[0m\u001b[0;34m(\u001b[0m\u001b[0;34m*\u001b[0m\u001b[0minput\u001b[0m\u001b[0;34m,\u001b[0m \u001b[0;34m**\u001b[0m\u001b[0mkwargs\u001b[0m\u001b[0;34m)\u001b[0m\u001b[0;34m\u001b[0m\u001b[0;34m\u001b[0m\u001b[0m\n\u001b[1;32m    540\u001b[0m         \u001b[0;32melse\u001b[0m\u001b[0;34m:\u001b[0m\u001b[0;34m\u001b[0m\u001b[0;34m\u001b[0m\u001b[0m\n\u001b[0;32m--> 541\u001b[0;31m             \u001b[0mresult\u001b[0m \u001b[0;34m=\u001b[0m \u001b[0mself\u001b[0m\u001b[0;34m.\u001b[0m\u001b[0mforward\u001b[0m\u001b[0;34m(\u001b[0m\u001b[0;34m*\u001b[0m\u001b[0minput\u001b[0m\u001b[0;34m,\u001b[0m \u001b[0;34m**\u001b[0m\u001b[0mkwargs\u001b[0m\u001b[0;34m)\u001b[0m\u001b[0;34m\u001b[0m\u001b[0;34m\u001b[0m\u001b[0m\n\u001b[0m\u001b[1;32m    542\u001b[0m         \u001b[0;32mfor\u001b[0m \u001b[0mhook\u001b[0m \u001b[0;32min\u001b[0m \u001b[0mself\u001b[0m\u001b[0;34m.\u001b[0m\u001b[0m_forward_hooks\u001b[0m\u001b[0;34m.\u001b[0m\u001b[0mvalues\u001b[0m\u001b[0;34m(\u001b[0m\u001b[0;34m)\u001b[0m\u001b[0;34m:\u001b[0m\u001b[0;34m\u001b[0m\u001b[0;34m\u001b[0m\u001b[0m\n\u001b[1;32m    543\u001b[0m             \u001b[0mhook_result\u001b[0m \u001b[0;34m=\u001b[0m \u001b[0mhook\u001b[0m\u001b[0;34m(\u001b[0m\u001b[0mself\u001b[0m\u001b[0;34m,\u001b[0m \u001b[0minput\u001b[0m\u001b[0;34m,\u001b[0m \u001b[0mresult\u001b[0m\u001b[0;34m)\u001b[0m\u001b[0;34m\u001b[0m\u001b[0;34m\u001b[0m\u001b[0m\n",
      "\u001b[0;32m/data/anaconda/envs/fastai/lib/python3.7/site-packages/torch/nn/modules/linear.py\u001b[0m in \u001b[0;36mforward\u001b[0;34m(self, input)\u001b[0m\n\u001b[1;32m     85\u001b[0m \u001b[0;34m\u001b[0m\u001b[0m\n\u001b[1;32m     86\u001b[0m     \u001b[0;32mdef\u001b[0m \u001b[0mforward\u001b[0m\u001b[0;34m(\u001b[0m\u001b[0mself\u001b[0m\u001b[0;34m,\u001b[0m \u001b[0minput\u001b[0m\u001b[0;34m)\u001b[0m\u001b[0;34m:\u001b[0m\u001b[0;34m\u001b[0m\u001b[0;34m\u001b[0m\u001b[0m\n\u001b[0;32m---> 87\u001b[0;31m         \u001b[0;32mreturn\u001b[0m \u001b[0mF\u001b[0m\u001b[0;34m.\u001b[0m\u001b[0mlinear\u001b[0m\u001b[0;34m(\u001b[0m\u001b[0minput\u001b[0m\u001b[0;34m,\u001b[0m \u001b[0mself\u001b[0m\u001b[0;34m.\u001b[0m\u001b[0mweight\u001b[0m\u001b[0;34m,\u001b[0m \u001b[0mself\u001b[0m\u001b[0;34m.\u001b[0m\u001b[0mbias\u001b[0m\u001b[0;34m)\u001b[0m\u001b[0;34m\u001b[0m\u001b[0;34m\u001b[0m\u001b[0m\n\u001b[0m\u001b[1;32m     88\u001b[0m \u001b[0;34m\u001b[0m\u001b[0m\n\u001b[1;32m     89\u001b[0m     \u001b[0;32mdef\u001b[0m \u001b[0mextra_repr\u001b[0m\u001b[0;34m(\u001b[0m\u001b[0mself\u001b[0m\u001b[0;34m)\u001b[0m\u001b[0;34m:\u001b[0m\u001b[0;34m\u001b[0m\u001b[0;34m\u001b[0m\u001b[0m\n",
      "\u001b[0;32m/data/anaconda/envs/fastai/lib/python3.7/site-packages/torch/nn/functional.py\u001b[0m in \u001b[0;36mlinear\u001b[0;34m(input, weight, bias)\u001b[0m\n\u001b[1;32m   1368\u001b[0m     \u001b[0;32mif\u001b[0m \u001b[0minput\u001b[0m\u001b[0;34m.\u001b[0m\u001b[0mdim\u001b[0m\u001b[0;34m(\u001b[0m\u001b[0;34m)\u001b[0m \u001b[0;34m==\u001b[0m \u001b[0;36m2\u001b[0m \u001b[0;32mand\u001b[0m \u001b[0mbias\u001b[0m \u001b[0;32mis\u001b[0m \u001b[0;32mnot\u001b[0m \u001b[0;32mNone\u001b[0m\u001b[0;34m:\u001b[0m\u001b[0;34m\u001b[0m\u001b[0;34m\u001b[0m\u001b[0m\n\u001b[1;32m   1369\u001b[0m         \u001b[0;31m# fused op is marginally faster\u001b[0m\u001b[0;34m\u001b[0m\u001b[0;34m\u001b[0m\u001b[0;34m\u001b[0m\u001b[0m\n\u001b[0;32m-> 1370\u001b[0;31m         \u001b[0mret\u001b[0m \u001b[0;34m=\u001b[0m \u001b[0mtorch\u001b[0m\u001b[0;34m.\u001b[0m\u001b[0maddmm\u001b[0m\u001b[0;34m(\u001b[0m\u001b[0mbias\u001b[0m\u001b[0;34m,\u001b[0m \u001b[0minput\u001b[0m\u001b[0;34m,\u001b[0m \u001b[0mweight\u001b[0m\u001b[0;34m.\u001b[0m\u001b[0mt\u001b[0m\u001b[0;34m(\u001b[0m\u001b[0;34m)\u001b[0m\u001b[0;34m)\u001b[0m\u001b[0;34m\u001b[0m\u001b[0;34m\u001b[0m\u001b[0m\n\u001b[0m\u001b[1;32m   1371\u001b[0m     \u001b[0;32melse\u001b[0m\u001b[0;34m:\u001b[0m\u001b[0;34m\u001b[0m\u001b[0;34m\u001b[0m\u001b[0m\n\u001b[1;32m   1372\u001b[0m         \u001b[0moutput\u001b[0m \u001b[0;34m=\u001b[0m \u001b[0minput\u001b[0m\u001b[0;34m.\u001b[0m\u001b[0mmatmul\u001b[0m\u001b[0;34m(\u001b[0m\u001b[0mweight\u001b[0m\u001b[0;34m.\u001b[0m\u001b[0mt\u001b[0m\u001b[0;34m(\u001b[0m\u001b[0;34m)\u001b[0m\u001b[0;34m)\u001b[0m\u001b[0;34m\u001b[0m\u001b[0;34m\u001b[0m\u001b[0m\n",
      "\u001b[0;31mRuntimeError\u001b[0m: Expected object of device type cuda but got device type cpu for argument #2 'mat1' in call to _th_addmm"
     ]
    }
   ],
   "source": [
    "learn.model(x)"
   ]
  },
  {
   "cell_type": "code",
   "execution_count": 217,
   "metadata": {},
   "outputs": [],
   "source": [
    "l = DropLinear(20,10,0.5)"
   ]
  },
  {
   "cell_type": "code",
   "execution_count": 184,
   "metadata": {},
   "outputs": [],
   "source": [
    "mask = l.sample()"
   ]
  },
  {
   "cell_type": "code",
   "execution_count": 185,
   "metadata": {},
   "outputs": [],
   "source": [
    "l.set_mask(mask)"
   ]
  },
  {
   "cell_type": "code",
   "execution_count": 186,
   "metadata": {},
   "outputs": [
    {
     "data": {
      "text/plain": [
       "tensor([[1.],\n",
       "        [0.],\n",
       "        [1.],\n",
       "        [1.],\n",
       "        [0.],\n",
       "        [0.],\n",
       "        [0.],\n",
       "        [1.],\n",
       "        [1.],\n",
       "        [1.]])"
      ]
     },
     "execution_count": 186,
     "metadata": {},
     "output_type": "execute_result"
    }
   ],
   "source": [
    "mask"
   ]
  },
  {
   "cell_type": "code",
   "execution_count": 197,
   "metadata": {},
   "outputs": [],
   "source": [
    "l.remove_mask()"
   ]
  },
  {
   "cell_type": "code",
   "execution_count": 141,
   "metadata": {},
   "outputs": [],
   "source": [
    "import types"
   ]
  },
  {
   "cell_type": "code",
   "execution_count": 155,
   "metadata": {},
   "outputs": [
    {
     "ename": "TypeError",
     "evalue": "is_nonzero(): argument 'input' (position 1) must be Tensor, not NoneType",
     "output_type": "error",
     "traceback": [
      "\u001b[0;31m---------------------------------------------------------------------------\u001b[0m",
      "\u001b[0;31mTypeError\u001b[0m                                 Traceback (most recent call last)",
      "\u001b[0;32m<ipython-input-155-fea5d82bebbb>\u001b[0m in \u001b[0;36m<module>\u001b[0;34m\u001b[0m\n\u001b[0;32m----> 1\u001b[0;31m \u001b[0mtorch\u001b[0m\u001b[0;34m.\u001b[0m\u001b[0mis_nonzero\u001b[0m\u001b[0;34m(\u001b[0m\u001b[0;32mNone\u001b[0m\u001b[0;34m)\u001b[0m\u001b[0;34m\u001b[0m\u001b[0;34m\u001b[0m\u001b[0m\n\u001b[0m",
      "\u001b[0;31mTypeError\u001b[0m: is_nonzero(): argument 'input' (position 1) must be Tensor, not NoneType"
     ]
    }
   ],
   "source": [
    "torch.is_nonzero(None)"
   ]
  },
  {
   "cell_type": "code",
   "execution_count": 152,
   "metadata": {},
   "outputs": [],
   "source": [
    "x = torch.randn(20)"
   ]
  }
 ],
 "metadata": {
  "kernelspec": {
   "display_name": "Python 3",
   "language": "python",
   "name": "python3"
  },
  "language_info": {
   "codemirror_mode": {
    "name": "ipython",
    "version": 3
   },
   "file_extension": ".py",
   "mimetype": "text/x-python",
   "name": "python",
   "nbconvert_exporter": "python",
   "pygments_lexer": "ipython3",
   "version": "3.7.5"
  }
 },
 "nbformat": 4,
 "nbformat_minor": 2
}
