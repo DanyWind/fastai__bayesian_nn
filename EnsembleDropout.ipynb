{
 "cells": [
  {
   "cell_type": "code",
   "execution_count": 1,
   "metadata": {},
   "outputs": [],
   "source": [
    "from fastai.vision import *\n",
    "from sklearn.model_selection import train_test_split\n",
    "\n",
    "from fastai_bayesian.custom_dropout import CustomDropout, switch_custom_dropout, convert_layers\n",
    "from fastai_bayesian.metrics import (entropy, BALD, uncertainty_best_probability,\n",
    "                      get_preds_sample, plot_hist_groups, top_k_uncertainty)\n",
    "\n",
    "import seaborn as sns"
   ]
  },
  {
   "cell_type": "code",
   "execution_count": 2,
   "metadata": {},
   "outputs": [],
   "source": [
    "class ImageActiveLearner:\n",
    "    def __init__(self,path,train_df,get_model,acq_fn=None,label_fn=None,**kwargs):\n",
    "        \"\"\"Initialiaze the Learner with the train and test data, and create it with the given params. \n",
    "        data_params are the parameters of the TabularDatabunch.\n",
    "        learn_params are the parameters of the tabular learner other than the Databunch.\n",
    "        acq_fn is the acq_fn to use. Its signature is :\n",
    "        acq_fn(learn:Learner,k)\n",
    "        \n",
    "        label_fn()\n",
    "        \n",
    "        \"\"\"\n",
    "        self.path = path\n",
    "        \n",
    "        # We store the functions we will use\n",
    "        self.acq_fn = acq_fn\n",
    "        self.label_fn = label_fn\n",
    "        self.get_model = get_model\n",
    "        \n",
    "        # Create the Learner\n",
    "        self.add_learn(train_df,**kwargs)\n",
    "    \n",
    "    @classmethod\n",
    "    def create_databunch(cls,df,valid_pct = 0.2,bs = 32,size = 28,gray = True):\n",
    "        path = Path(\"/\")\n",
    "\n",
    "        tfms = get_transforms(do_flip = False)\n",
    "\n",
    "        data = (ImageList.from_df(df,path)\n",
    "                .split_by_rand_pct(valid_pct=valid_pct,seed=42)\n",
    "                .label_from_df()\n",
    "                .transform(tfms,size = size)\n",
    "                .databunch(bs = bs)\n",
    "                .normalize())\n",
    "\n",
    "        def get_one_channel(batch):\n",
    "            x,y = batch\n",
    "            return x[:,0,:,:].unsqueeze(1),y\n",
    "        get_one_channel._order = 99\n",
    "\n",
    "        if gray:\n",
    "            data.add_tfm(get_one_channel)\n",
    "        data.path = Path()\n",
    "\n",
    "        return data\n",
    "        \n",
    "    def add_learn(self,train_df,**kwargs):\n",
    "\n",
    "        # Create a Learner \n",
    "        path = self.path\n",
    "        train_data = ImageActiveLearner.create_databunch(df=train_df, **kwargs)\n",
    "        model = self.get_model()\n",
    "        learn = Learner(train_data,model,metrics=accuracy)\n",
    "        \n",
    "        # Add the Custom Dropout to do MC Dropout\n",
    "        get_args = lambda dp : {\"p\" : dp.p}\n",
    "        convert_layers(learn.model,nn.Dropout,CustomDropout,get_args)\n",
    "        switch_custom_dropout(learn.model,True)\n",
    "        \n",
    "        self.learn = learn\n",
    "        \n",
    "    def fit(self,n_epoch,lr):\n",
    "        \"\"\"Train the model using one cycle policy and with the training params\"\"\"\n",
    "        n_epoch = listify(n_epoch)\n",
    "        lr = listify(lr)\n",
    "        \n",
    "        for n,l in zip(n_epoch,lr):\n",
    "            self.learn.fit_one_cycle(n, l)\n",
    "    \n",
    "    def inspect(self):\n",
    "        \"\"\"Inspect the results of the learning\"\"\"\n",
    "        pass\n",
    "    \n",
    "    def acquire(self,acq_df,k,bs=512):\n",
    "        \"\"\"Get indexes of the k most interesting labels to acquire from the test set\"\"\"\n",
    "        \n",
    "        # We add a acquisition Databunch\n",
    "        acq_data = ImageActiveLearner.create_databunch(df=acq_df, valid_pct=0.,bs=bs)\n",
    "        idx = self.acq_fn(self.learn,acq_data,k)\n",
    "        \n",
    "        return idx\n",
    "    \n",
    "    def validate(self,metric,test_df,bs=512,MC_dropout=False):\n",
    "        \"\"\"Return a validation score on the test set\"\"\"\n",
    "        learn = self.learn\n",
    "        \n",
    "        test_data = ImageActiveLearner.create_databunch(df=test_df, valid_pct=0.,bs=bs)\n",
    "        \n",
    "        learn.data = test_data\n",
    "        \n",
    "        if MC_dropout:\n",
    "            preds,y = get_preds_sample(learn,DatasetType.Fix)\n",
    "            pred = preds.mean(dim=0)\n",
    "        else:\n",
    "            pred,y = learn.get_preds(DatasetType.Fix)\n",
    "        \n",
    "        score = metric(pred,y)\n",
    "        return score\n",
    "        \n",
    "    def label(self,idx,acq_df):\n",
    "        \"\"\"Label the indexes of the acquisition dataset\"\"\"\n",
    "        df_to_label = acq_df.iloc[idx]        \n",
    "        labeled_df = self.label_fn(df_to_label)\n",
    "        return labeled_df\n",
    "    \n",
    "    @classmethod\n",
    "    def transfer_rows(cls,train_df,acq_df,idx):\n",
    "        \"\"\"Transfer the rows of the acq_df to the train_df\"\"\"\n",
    "        rows = acq_df.iloc[idx]\n",
    "\n",
    "        train_df = pd.concat([train_df,rows])\n",
    "        acq_df = acq_df.drop(acq_df.index[idx])\n",
    "        \n",
    "        return train_df, acq_df"
   ]
  },
  {
   "cell_type": "code",
   "execution_count": 3,
   "metadata": {},
   "outputs": [],
   "source": [
    "from torch.distributions import Bernoulli\n",
    "\n",
    "class DropLinear(nn.Module):\n",
    "    def __init__(self, in_features, out_features, dp=0.):\n",
    "        \"\"\"Wrapper of a linear layer with a dropout module\"\"\"\n",
    "        super(DropLinear, self).__init__()\n",
    "\n",
    "        self.dropout = CustomDropout(dp)\n",
    "        self.W = nn.Linear(in_features=in_features,out_features=out_features)\n",
    "        \n",
    "        self._mask = None\n",
    "    \n",
    "    @classmethod\n",
    "    def sample_mask(cls,p,n):\n",
    "        \"\"\"Returns the mask of the weights\"\"\"\n",
    "        \n",
    "        bn = Bernoulli(p)\n",
    "        mask = bn.sample((n,1))\n",
    "        \n",
    "        return mask\n",
    "    \n",
    "    def sample(self):\n",
    "        \"\"\"Sample a mask from the dropout module and the weight matrix\"\"\"\n",
    "        p = 1 - self.dropout.dp\n",
    "        shape = self.W.weight.data.shape\n",
    "        n = shape[0]\n",
    "        \n",
    "        mask = DropLinear.sample_mask(p,n)\n",
    "        \n",
    "        return mask\n",
    "    \n",
    "    def topk_sample(self,n:int,k:int,p:float):\n",
    "        \"\"\"Sample a mask where only the top k weights of the matrix are considered for the dropout.\n",
    "        The other weights will be necessarily dropped.\n",
    "        \n",
    "        Args:\n",
    "            n: Total number of weights\n",
    "            k: Number of weights with the best magnitude to consider for the dropout\n",
    "            p: Probability to keep a neuron\n",
    "            \n",
    "        Returns:\n",
    "            A mask where only the top k neurons will be used to sample from\n",
    "        \"\"\"\n",
    "        \n",
    "        # We compute the indexes of the rows with highest norm\n",
    "        norm = self.W.weight.data.norm(dim=1)\n",
    "        idx = torch.topk(norm,k).indices\n",
    "        \n",
    "        # We create a mask with only zeros first\n",
    "        mask = torch.zeros(n)\n",
    "        \n",
    "        # Then we eventually allow the top k neurons to be kept depending on p\n",
    "        small_mask = DropLinear.sample_mask(p,k).view(-1)\n",
    "        mask[idx] = small_mask\n",
    "        \n",
    "        return mask \n",
    "        \n",
    "    def set_mask(self,mask):\n",
    "        self._mask = mask\n",
    "        \n",
    "    def remove_mask(self):\n",
    "        self._mask = None\n",
    "    \n",
    "    def forward(self, x):\n",
    "        if torch.is_tensor(self._mask):\n",
    "            # We fix the weights with respect to the mask\n",
    "            weight = self.W.weight.data\n",
    "            bias = self.W.bias.data\n",
    "            \n",
    "            # We normalize as during training by dividing by the probability to keep a neuron\n",
    "            dp = self.dropout.dp\n",
    "            p = 1 - dp\n",
    "            \n",
    "            mask = self._mask\n",
    "            if len(mask.shape) == 1:\n",
    "                mask = mask.view(-1,1)\n",
    "                \n",
    "            # We apply our mask to the weights \n",
    "            masked_weight = mask.to(weight.device) * weight\n",
    "            z = F.linear(x,masked_weight,bias)\n",
    "            \n",
    "            # Because we manually mask our weights we need to divide by the probability to keep a neuron\n",
    "            z = z / p\n",
    "        else:\n",
    "            # We keep the stochasticity here so we do as usual\n",
    "            z = self.W(x)\n",
    "            z = self.dropout(z)\n",
    "        return z"
   ]
  },
  {
   "cell_type": "code",
   "execution_count": 4,
   "metadata": {},
   "outputs": [],
   "source": [
    "def get_model():\n",
    "    model = nn.Sequential(\n",
    "        nn.Flatten(),\n",
    "        DropLinear(784,512,0.7),\n",
    "        nn.ReLU(),\n",
    "        DropLinear(512,512,0.7),\n",
    "        nn.ReLU(),\n",
    "        DropLinear(512,512,0.7),\n",
    "        nn.ReLU(),\n",
    "        nn.Linear(512,10)\n",
    "    )\n",
    "    return model"
   ]
  },
  {
   "cell_type": "code",
   "execution_count": 5,
   "metadata": {},
   "outputs": [],
   "source": [
    "def train_test_split_image(train_size):\n",
    "    # Create two data bunchs, one for training the unsupervised model, one for testing\n",
    "    # the results of the semi supervised model\n",
    "    \n",
    "    # We first load the whole data set \n",
    "    path = untar_data(URLs.MNIST)\n",
    "    tfms = get_transforms(do_flip = False)\n",
    "    data = (ImageList.from_folder(path/\"training\")\n",
    "            .split_none()\n",
    "            .label_from_folder()\n",
    "            .transform()\n",
    "            .databunch())\n",
    "\n",
    "    # We then randomly select train_size samples from the whole MNIST and put in train\n",
    "    # for the unsupervised, and semi supervised training, and the rest will be used \n",
    "    # as a test set for the semi supervised model evaluation\n",
    "    \n",
    "    n = len(data.train_ds.x.items)\n",
    "    \n",
    "    # We create two data frames which will be used to create the data bunches\n",
    "    train_idx = np.random.choice(n,train_size,replace = False)\n",
    "    x_train,y_train = data.train_ds.x.items[train_idx],data.train_ds.y.items[train_idx]\n",
    "    train_df = pd.DataFrame({\"name\":x_train,\"label\":y_train})\n",
    "    \n",
    "    test_idx = np.array(list(set(np.arange(n)) - set(train_idx)))\n",
    "    x_test,y_test = data.train_ds.x.items[test_idx],data.train_ds.y.items[test_idx]\n",
    "    test_df = pd.DataFrame({\"name\" : x_test,\"label\":y_test})\n",
    "    \n",
    "    return train_df, test_df"
   ]
  },
  {
   "cell_type": "code",
   "execution_count": 6,
   "metadata": {},
   "outputs": [],
   "source": [
    "path = untar_data(URLs.MNIST)"
   ]
  },
  {
   "cell_type": "code",
   "execution_count": 7,
   "metadata": {},
   "outputs": [],
   "source": [
    "total_train_size = 50000\n",
    "\n",
    "train_df, test_df = train_test_split_image(total_train_size)"
   ]
  },
  {
   "cell_type": "code",
   "execution_count": 8,
   "metadata": {},
   "outputs": [],
   "source": [
    "data = ImageActiveLearner.create_databunch(train_df,bs=512)"
   ]
  },
  {
   "cell_type": "code",
   "execution_count": 32,
   "metadata": {},
   "outputs": [],
   "source": [
    "model = get_model()\n",
    "learn = Learner(data,model,metrics=accuracy)"
   ]
  },
  {
   "cell_type": "code",
   "execution_count": 106,
   "metadata": {},
   "outputs": [
    {
     "data": {
      "text/html": [],
      "text/plain": [
       "<IPython.core.display.HTML object>"
      ]
     },
     "metadata": {},
     "output_type": "display_data"
    },
    {
     "name": "stdout",
     "output_type": "stream",
     "text": [
      "LR Finder is complete, type {learner_name}.recorder.plot() to see the graph.\n"
     ]
    },
    {
     "data": {
      "image/png": "[encoded data removed]",
      "text/plain": [
       "<Figure size 432x288 with 1 Axes>"
      ]
     },
     "metadata": {
      "needs_background": "light"
     },
     "output_type": "display_data"
    }
   ],
   "source": [
    "learn.lr_find()\n",
    "learn.recorder.plot()"
   ]
  },
  {
   "cell_type": "code",
   "execution_count": 107,
   "metadata": {},
   "outputs": [
    {
     "data": {
      "text/html": [
       "<table border=\"1\" class=\"dataframe\">\n",
       "  <thead>\n",
       "    <tr style=\"text-align: left;\">\n",
       "      <th>epoch</th>\n",
       "      <th>train_loss</th>\n",
       "      <th>valid_loss</th>\n",
       "      <th>accuracy</th>\n",
       "      <th>time</th>\n",
       "    </tr>\n",
       "  </thead>\n",
       "  <tbody>\n",
       "    <tr>\n",
       "      <td>0</td>\n",
       "      <td>1.279325</td>\n",
       "      <td>0.551596</td>\n",
       "      <td>0.842400</td>\n",
       "      <td>00:17</td>\n",
       "    </tr>\n",
       "    <tr>\n",
       "      <td>1</td>\n",
       "      <td>0.690954</td>\n",
       "      <td>0.268827</td>\n",
       "      <td>0.921100</td>\n",
       "      <td>00:11</td>\n",
       "    </tr>\n",
       "    <tr>\n",
       "      <td>2</td>\n",
       "      <td>0.463190</td>\n",
       "      <td>0.238598</td>\n",
       "      <td>0.928400</td>\n",
       "      <td>00:11</td>\n",
       "    </tr>\n",
       "    <tr>\n",
       "      <td>3</td>\n",
       "      <td>0.411237</td>\n",
       "      <td>0.262793</td>\n",
       "      <td>0.923000</td>\n",
       "      <td>00:11</td>\n",
       "    </tr>\n",
       "    <tr>\n",
       "      <td>4</td>\n",
       "      <td>0.402150</td>\n",
       "      <td>0.234157</td>\n",
       "      <td>0.929100</td>\n",
       "      <td>00:11</td>\n",
       "    </tr>\n",
       "    <tr>\n",
       "      <td>5</td>\n",
       "      <td>0.403266</td>\n",
       "      <td>0.246488</td>\n",
       "      <td>0.926000</td>\n",
       "      <td>00:11</td>\n",
       "    </tr>\n",
       "    <tr>\n",
       "      <td>6</td>\n",
       "      <td>0.400598</td>\n",
       "      <td>0.286969</td>\n",
       "      <td>0.921500</td>\n",
       "      <td>00:12</td>\n",
       "    </tr>\n",
       "    <tr>\n",
       "      <td>7</td>\n",
       "      <td>0.399567</td>\n",
       "      <td>0.227984</td>\n",
       "      <td>0.938800</td>\n",
       "      <td>00:12</td>\n",
       "    </tr>\n",
       "    <tr>\n",
       "      <td>8</td>\n",
       "      <td>0.376658</td>\n",
       "      <td>0.236243</td>\n",
       "      <td>0.939900</td>\n",
       "      <td>00:11</td>\n",
       "    </tr>\n",
       "    <tr>\n",
       "      <td>9</td>\n",
       "      <td>0.367457</td>\n",
       "      <td>0.224974</td>\n",
       "      <td>0.939100</td>\n",
       "      <td>00:12</td>\n",
       "    </tr>\n",
       "    <tr>\n",
       "      <td>10</td>\n",
       "      <td>0.342151</td>\n",
       "      <td>0.197179</td>\n",
       "      <td>0.945700</td>\n",
       "      <td>00:11</td>\n",
       "    </tr>\n",
       "    <tr>\n",
       "      <td>11</td>\n",
       "      <td>0.325877</td>\n",
       "      <td>0.190651</td>\n",
       "      <td>0.946100</td>\n",
       "      <td>00:12</td>\n",
       "    </tr>\n",
       "    <tr>\n",
       "      <td>12</td>\n",
       "      <td>0.296386</td>\n",
       "      <td>0.162656</td>\n",
       "      <td>0.955700</td>\n",
       "      <td>00:11</td>\n",
       "    </tr>\n",
       "    <tr>\n",
       "      <td>13</td>\n",
       "      <td>0.264668</td>\n",
       "      <td>0.154759</td>\n",
       "      <td>0.957000</td>\n",
       "      <td>00:11</td>\n",
       "    </tr>\n",
       "    <tr>\n",
       "      <td>14</td>\n",
       "      <td>0.243734</td>\n",
       "      <td>0.142931</td>\n",
       "      <td>0.962500</td>\n",
       "      <td>00:12</td>\n",
       "    </tr>\n",
       "    <tr>\n",
       "      <td>15</td>\n",
       "      <td>0.224253</td>\n",
       "      <td>0.128636</td>\n",
       "      <td>0.964000</td>\n",
       "      <td>00:11</td>\n",
       "    </tr>\n",
       "    <tr>\n",
       "      <td>16</td>\n",
       "      <td>0.209272</td>\n",
       "      <td>0.115168</td>\n",
       "      <td>0.968100</td>\n",
       "      <td>00:11</td>\n",
       "    </tr>\n",
       "    <tr>\n",
       "      <td>17</td>\n",
       "      <td>0.193506</td>\n",
       "      <td>0.120622</td>\n",
       "      <td>0.968600</td>\n",
       "      <td>00:11</td>\n",
       "    </tr>\n",
       "    <tr>\n",
       "      <td>18</td>\n",
       "      <td>0.185464</td>\n",
       "      <td>0.116686</td>\n",
       "      <td>0.969100</td>\n",
       "      <td>00:11</td>\n",
       "    </tr>\n",
       "    <tr>\n",
       "      <td>19</td>\n",
       "      <td>0.186462</td>\n",
       "      <td>0.104139</td>\n",
       "      <td>0.970600</td>\n",
       "      <td>00:11</td>\n",
       "    </tr>\n",
       "  </tbody>\n",
       "</table>"
      ],
      "text/plain": [
       "<IPython.core.display.HTML object>"
      ]
     },
     "metadata": {},
     "output_type": "display_data"
    }
   ],
   "source": [
    "learn.fit_one_cycle(20,1e-2/2)"
   ]
  },
  {
   "cell_type": "code",
   "execution_count": 191,
   "metadata": {},
   "outputs": [
    {
     "data": {
      "text/html": [],
      "text/plain": [
       "<IPython.core.display.HTML object>"
      ]
     },
     "metadata": {},
     "output_type": "display_data"
    },
    {
     "name": "stdout",
     "output_type": "stream",
     "text": [
      "LR Finder is complete, type {learner_name}.recorder.plot() to see the graph.\n"
     ]
    },
    {
     "data": {
      "image/png": "[encoded data removed]",
      "text/plain": [
       "<Figure size 432x288 with 1 Axes>"
      ]
     },
     "metadata": {
      "needs_background": "light"
     },
     "output_type": "display_data"
    }
   ],
   "source": [
    "learn.lr_find()\n",
    "learn.recorder.plot()"
   ]
  },
  {
   "cell_type": "code",
   "execution_count": 108,
   "metadata": {},
   "outputs": [
    {
     "data": {
      "text/html": [
       "<table border=\"1\" class=\"dataframe\">\n",
       "  <thead>\n",
       "    <tr style=\"text-align: left;\">\n",
       "      <th>epoch</th>\n",
       "      <th>train_loss</th>\n",
       "      <th>valid_loss</th>\n",
       "      <th>accuracy</th>\n",
       "      <th>time</th>\n",
       "    </tr>\n",
       "  </thead>\n",
       "  <tbody>\n",
       "    <tr>\n",
       "      <td>0</td>\n",
       "      <td>0.176191</td>\n",
       "      <td>0.109510</td>\n",
       "      <td>0.969600</td>\n",
       "      <td>00:12</td>\n",
       "    </tr>\n",
       "    <tr>\n",
       "      <td>1</td>\n",
       "      <td>0.184808</td>\n",
       "      <td>0.116177</td>\n",
       "      <td>0.971100</td>\n",
       "      <td>00:11</td>\n",
       "    </tr>\n",
       "    <tr>\n",
       "      <td>2</td>\n",
       "      <td>0.189888</td>\n",
       "      <td>0.117187</td>\n",
       "      <td>0.970200</td>\n",
       "      <td>00:11</td>\n",
       "    </tr>\n",
       "    <tr>\n",
       "      <td>3</td>\n",
       "      <td>0.190987</td>\n",
       "      <td>0.113121</td>\n",
       "      <td>0.966700</td>\n",
       "      <td>00:11</td>\n",
       "    </tr>\n",
       "    <tr>\n",
       "      <td>4</td>\n",
       "      <td>0.195815</td>\n",
       "      <td>0.113341</td>\n",
       "      <td>0.970600</td>\n",
       "      <td>00:11</td>\n",
       "    </tr>\n",
       "    <tr>\n",
       "      <td>5</td>\n",
       "      <td>0.180327</td>\n",
       "      <td>0.106683</td>\n",
       "      <td>0.971400</td>\n",
       "      <td>00:11</td>\n",
       "    </tr>\n",
       "    <tr>\n",
       "      <td>6</td>\n",
       "      <td>0.182702</td>\n",
       "      <td>0.099457</td>\n",
       "      <td>0.972700</td>\n",
       "      <td>00:11</td>\n",
       "    </tr>\n",
       "    <tr>\n",
       "      <td>7</td>\n",
       "      <td>0.172066</td>\n",
       "      <td>0.094839</td>\n",
       "      <td>0.974400</td>\n",
       "      <td>00:12</td>\n",
       "    </tr>\n",
       "    <tr>\n",
       "      <td>8</td>\n",
       "      <td>0.166393</td>\n",
       "      <td>0.103262</td>\n",
       "      <td>0.973800</td>\n",
       "      <td>00:11</td>\n",
       "    </tr>\n",
       "    <tr>\n",
       "      <td>9</td>\n",
       "      <td>0.164565</td>\n",
       "      <td>0.101989</td>\n",
       "      <td>0.973000</td>\n",
       "      <td>00:11</td>\n",
       "    </tr>\n",
       "  </tbody>\n",
       "</table>"
      ],
      "text/plain": [
       "<IPython.core.display.HTML object>"
      ]
     },
     "metadata": {},
     "output_type": "display_data"
    }
   ],
   "source": [
    "learn.fit_one_cycle(10,1e-3)"
   ]
  },
  {
   "cell_type": "code",
   "execution_count": 99,
   "metadata": {},
   "outputs": [],
   "source": [
    "learn.save(\"model_dp_70\")"
   ]
  },
  {
   "cell_type": "code",
   "execution_count": 33,
   "metadata": {},
   "outputs": [
    {
     "data": {
      "text/plain": [
       "Learner(data=ImageDataBunch;\n",
       "\n",
       "Train: LabelList (40000 items)\n",
       "x: ImageList\n",
       "Image (3, 28, 28),Image (3, 28, 28),Image (3, 28, 28),Image (3, 28, 28),Image (3, 28, 28)\n",
       "y: CategoryList\n",
       "0,6,0,3,9\n",
       "Path: /;\n",
       "\n",
       "Valid: LabelList (10000 items)\n",
       "x: ImageList\n",
       "Image (3, 28, 28),Image (3, 28, 28),Image (3, 28, 28),Image (3, 28, 28),Image (3, 28, 28)\n",
       "y: CategoryList\n",
       "6,4,6,1,6\n",
       "Path: /;\n",
       "\n",
       "Test: None, model=Sequential(\n",
       "  (0): Flatten()\n",
       "  (1): DropLinear(\n",
       "    (dropout): CustomDropout(dp=0.7, activate_stochasticity=True)\n",
       "    (W): Linear(in_features=784, out_features=512, bias=True)\n",
       "  )\n",
       "  (2): ReLU()\n",
       "  (3): DropLinear(\n",
       "    (dropout): CustomDropout(dp=0.7, activate_stochasticity=True)\n",
       "    (W): Linear(in_features=512, out_features=512, bias=True)\n",
       "  )\n",
       "  (4): ReLU()\n",
       "  (5): DropLinear(\n",
       "    (dropout): CustomDropout(dp=0.7, activate_stochasticity=True)\n",
       "    (W): Linear(in_features=512, out_features=512, bias=True)\n",
       "  )\n",
       "  (6): ReLU()\n",
       "  (7): Linear(in_features=512, out_features=10, bias=True)\n",
       "), opt_func=functools.partial(<class 'torch.optim.adam.Adam'>, betas=(0.9, 0.99)), loss_func=FlattenedLoss of CrossEntropyLoss(), metrics=[<function accuracy at 0x7fc54c5638c0>], true_wd=True, bn_wd=True, wd=0.01, train_bn=True, path=PosixPath('.'), model_dir='models', callback_fns=[functools.partial(<class 'fastai.basic_train.Recorder'>, add_time=True, silent=False)], callbacks=[], layer_groups=[Sequential(\n",
       "  (0): Flatten()\n",
       "  (1): CustomDropout(dp=0.7, activate_stochasticity=True)\n",
       "  (2): Linear(in_features=784, out_features=512, bias=True)\n",
       "  (3): ReLU()\n",
       "  (4): CustomDropout(dp=0.7, activate_stochasticity=True)\n",
       "  (5): Linear(in_features=512, out_features=512, bias=True)\n",
       "  (6): ReLU()\n",
       "  (7): CustomDropout(dp=0.7, activate_stochasticity=True)\n",
       "  (8): Linear(in_features=512, out_features=512, bias=True)\n",
       "  (9): ReLU()\n",
       "  (10): Linear(in_features=512, out_features=10, bias=True)\n",
       ")], add_time=True, silent=False)"
      ]
     },
     "execution_count": 33,
     "metadata": {},
     "output_type": "execute_result"
    }
   ],
   "source": [
    "learn.load(\"model_dp_70\")"
   ]
  },
  {
   "cell_type": "code",
   "execution_count": 109,
   "metadata": {},
   "outputs": [],
   "source": [
    "learn.save(\"model_dp_50\")"
   ]
  },
  {
   "cell_type": "code",
   "execution_count": 100,
   "metadata": {},
   "outputs": [
    {
     "data": {
      "text/plain": [
       "Learner(data=ImageDataBunch;\n",
       "\n",
       "Train: LabelList (40000 items)\n",
       "x: ImageList\n",
       "Image (3, 28, 28),Image (3, 28, 28),Image (3, 28, 28),Image (3, 28, 28),Image (3, 28, 28)\n",
       "y: CategoryList\n",
       "0,3,6,9,8\n",
       "Path: /;\n",
       "\n",
       "Valid: LabelList (10000 items)\n",
       "x: ImageList\n",
       "Image (3, 28, 28),Image (3, 28, 28),Image (3, 28, 28),Image (3, 28, 28),Image (3, 28, 28)\n",
       "y: CategoryList\n",
       "7,7,1,4,2\n",
       "Path: /;\n",
       "\n",
       "Test: None, model=Sequential(\n",
       "  (0): Flatten()\n",
       "  (1): DropLinear(\n",
       "    (dropout): CustomDropout(dp=0.5, activate_stochasticity=True)\n",
       "    (W): Linear(in_features=784, out_features=512, bias=True)\n",
       "  )\n",
       "  (2): ReLU()\n",
       "  (3): DropLinear(\n",
       "    (dropout): CustomDropout(dp=0.5, activate_stochasticity=True)\n",
       "    (W): Linear(in_features=512, out_features=512, bias=True)\n",
       "  )\n",
       "  (4): ReLU()\n",
       "  (5): DropLinear(\n",
       "    (dropout): CustomDropout(dp=0.5, activate_stochasticity=True)\n",
       "    (W): Linear(in_features=512, out_features=512, bias=True)\n",
       "  )\n",
       "  (6): ReLU()\n",
       "  (7): Linear(in_features=512, out_features=10, bias=True)\n",
       "), opt_func=functools.partial(<class 'torch.optim.adam.Adam'>, betas=(0.9, 0.99)), loss_func=FlattenedLoss of CrossEntropyLoss(), metrics=[<function accuracy at 0x7f370dcdb5f0>], true_wd=True, bn_wd=True, wd=0.01, train_bn=True, path=PosixPath('.'), model_dir='models', callback_fns=[functools.partial(<class 'fastai.basic_train.Recorder'>, add_time=True, silent=False)], callbacks=[], layer_groups=[Sequential(\n",
       "  (0): Flatten()\n",
       "  (1): CustomDropout(dp=0.5, activate_stochasticity=True)\n",
       "  (2): Linear(in_features=784, out_features=512, bias=True)\n",
       "  (3): ReLU()\n",
       "  (4): CustomDropout(dp=0.5, activate_stochasticity=True)\n",
       "  (5): Linear(in_features=512, out_features=512, bias=True)\n",
       "  (6): ReLU()\n",
       "  (7): CustomDropout(dp=0.5, activate_stochasticity=True)\n",
       "  (8): Linear(in_features=512, out_features=512, bias=True)\n",
       "  (9): ReLU()\n",
       "  (10): Linear(in_features=512, out_features=10, bias=True)\n",
       ")], add_time=True, silent=False)"
      ]
     },
     "execution_count": 100,
     "metadata": {},
     "output_type": "execute_result"
    }
   ],
   "source": [
    "learn.load(\"model_dp_50\")"
   ]
  },
  {
   "cell_type": "code",
   "execution_count": 34,
   "metadata": {},
   "outputs": [
    {
     "data": {
      "text/plain": [
       "tensor(0.9730)"
      ]
     },
     "execution_count": 34,
     "metadata": {},
     "output_type": "execute_result"
    }
   ],
   "source": [
    "preds,y = get_preds_sample(learn)\n",
    "pred = preds.mean(dim=0)\n",
    "accuracy(pred,y)"
   ]
  },
  {
   "cell_type": "code",
   "execution_count": 16,
   "metadata": {},
   "outputs": [],
   "source": [
    "class Identity(nn.Module):\n",
    "    def __init__(self):\n",
    "        super(Identity,self).__init__()\n",
    "        \n",
    "    def forward(self,x):\n",
    "        return x\n",
    "\n",
    "def topk_sample_model(model,margin=0.05,set_mask=True):\n",
    "    \"\"\"Sample a mask for each Droplinear and set it\"\"\"\n",
    "    masks = []\n",
    "    for m in model:\n",
    "        if isinstance(m,DropLinear):\n",
    "            dp = m.dropout.dp\n",
    "            p = 1-dp\n",
    "            \n",
    "            upper_p = p + margin\n",
    "            scaled_p = p / (p + margin)\n",
    "\n",
    "            n = m.W.weight.data.shape[0]\n",
    "            k = int(upper_p * n)\n",
    "\n",
    "            mask = m.topk_sample(n,k,scaled_p)\n",
    "            if set_mask:\n",
    "                m.set_mask(mask) \n",
    "            masks.append(mask)\n",
    "    return masks\n",
    "\n",
    "def sample_model(model,set_mask=True):\n",
    "    \"\"\"Sample a mask for each Droplinear and set it\"\"\"\n",
    "    masks = []\n",
    "    for m in model:\n",
    "        if isinstance(m,DropLinear):\n",
    "            mask = m.sample()\n",
    "            if set_mask:\n",
    "                m.set_mask(mask) \n",
    "            masks.append(mask)\n",
    "    return masks\n",
    "\n",
    "def get_mask_preds(learn,sample_model_fn,activ=None,ds_type=DatasetType.Fix):\n",
    "    \"\"\"Sample a mask and get preds\"\"\"\n",
    "    mask = sample_model_fn(learn.model)\n",
    "    pred,y = learn.get_preds(ds_type=ds_type,activ=activ)\n",
    "    pred = pred.view((1,) + pred.shape)\n",
    "    return mask,pred\n",
    "\n",
    "def remove_lowest(masks,preds,score_fn,return_score=False):\n",
    "    \"\"\"Removes the lowest mask for a given score function\"\"\"\n",
    "    scores = score_fn(preds)\n",
    "    idx = scores.argmin().item()\n",
    "    \n",
    "    del masks[idx]\n",
    "    del preds[idx]\n",
    "    \n",
    "    if return_score:\n",
    "        return scores\n",
    "\n",
    "def kls(preds):\n",
    "    \"\"\"Return the KL between the overall mean and the means without each mask\"\"\"\n",
    "    mean_pred = torch.cat(preds).mean(dim=0)\n",
    "    pred = torch.cat(preds)\n",
    "    means_pred = (mean_pred[None] * T - pred)/ (T-1)\n",
    "\n",
    "    logs = torch.log(mean_pred[None] / means_pred)\n",
    "\n",
    "    kls = torch.einsum(\"tic,ic -> t\",logs,mean_pred)\n",
    "    \n",
    "    return kls    \n",
    "\n",
    "def MC_cross_entropy(x_logits,y_logits):\n",
    "    \"\"\"Computes the MC cross entropy\"\"\"\n",
    "    T = y_logits.shape[0]\n",
    "    \n",
    "    normalized_logits = y_logits - torch.logsumexp(y_logits,dim=2,keepdim=True)\n",
    "    log_y_prob = torch.logsumexp(normalized_logits,dim=0) - torch.log(torch.tensor(T).float())\n",
    "\n",
    "    x_prob = torch.softmax(x_logits,dim=2).mean(dim=0)\n",
    "\n",
    "    cross_entropy = (-x_prob * log_y_prob).sum(dim=1).mean(dim=0)\n",
    "    return cross_entropy\n",
    "\n",
    "def MC_entropy(x_logits):\n",
    "    \n",
    "    return MC_cross_entropy(x_logits,x_logits)\n",
    "\n",
    "def MC_kl(x_logits,y_logits):\n",
    "    cross_entropy = MC_cross_entropy(x_logits,y_logits)\n",
    "    entropy = MC_entropy(x_logits)\n",
    "    \n",
    "    kl = cross_entropy - entropy\n",
    "    \n",
    "    return kl"
   ]
  },
  {
   "cell_type": "code",
   "execution_count": 76,
   "metadata": {},
   "outputs": [
    {
     "name": "stdout",
     "output_type": "stream",
     "text": [
      "> <ipython-input-76-f9e1faf63e42>(27)<module>()\n",
      "-> scores = kls(preds)\n",
      "(Pdb) n\n",
      "> <ipython-input-76-f9e1faf63e42>(28)<module>()\n",
      "-> masks = torch.cat(masks,dim=1)\n",
      "(Pdb) scores\n",
      "tensor([-inf, -inf, nan, -inf, -inf, -inf, -inf, -inf, -inf, -inf])\n",
      "(Pdb) scores\n",
      "tensor([-inf, -inf, nan, -inf, -inf, -inf, -inf, -inf, -inf, -inf])\n",
      "(Pdb) preds\n",
      "[tensor([[[0.0923, 0.0525, 0.0743,  ..., 0.0816, 0.2460, 0.1618],\n",
      "         [0.0544, 0.0344, 0.0347,  ..., 0.0287, 0.5146, 0.1237],\n",
      "         [0.1596, 0.0220, 0.0573,  ..., 0.0573, 0.2662, 0.1689],\n",
      "         ...,\n",
      "         [0.0866, 0.0622, 0.0824,  ..., 0.0648, 0.2785, 0.1392],\n",
      "         [0.0669, 0.0461, 0.0522,  ..., 0.0432, 0.3651, 0.1524],\n",
      "         [0.0519, 0.0390, 0.0324,  ..., 0.0228, 0.5522, 0.1034]]]), tensor([[[0.0738, 0.0563, 0.0492,  ..., 0.0659, 0.2965, 0.1893],\n",
      "         [0.0605, 0.0365, 0.0434,  ..., 0.0304, 0.5244, 0.1076],\n",
      "         [0.1691, 0.0268, 0.0551,  ..., 0.0395, 0.2681, 0.1597],\n",
      "         ...,\n",
      "         [0.0801, 0.0588, 0.0671,  ..., 0.0563, 0.2986, 0.1582],\n",
      "         [0.0640, 0.0508, 0.0585,  ..., 0.0494, 0.3159, 0.1668],\n",
      "         [0.0589, 0.0372, 0.0431,  ..., 0.0247, 0.5883, 0.0797]]]), tensor([[[0.0716, 0.0493, 0.0542,  ..., 0.0607, 0.3206, 0.1740],\n",
      "         [0.0639, 0.0346, 0.0473,  ..., 0.0298, 0.4703, 0.1225],\n",
      "         [0.1398, 0.0345, 0.0724,  ..., 0.0432, 0.2740, 0.1441],\n",
      "         ...,\n",
      "         [0.0755, 0.0573, 0.0639,  ..., 0.0618, 0.3030, 0.1601],\n",
      "         [0.0741, 0.0495, 0.0587,  ..., 0.0499, 0.3321, 0.1551],\n",
      "         [0.0648, 0.0350, 0.0461,  ..., 0.0295, 0.4709, 0.1206]]]), tensor([[[0.0647, 0.0441, 0.0644,  ..., 0.0995, 0.2783, 0.1950],\n",
      "         [0.0638, 0.0302, 0.0513,  ..., 0.0229, 0.4856, 0.1185],\n",
      "         [0.1776, 0.0207, 0.0662,  ..., 0.0400, 0.2840, 0.1293],\n",
      "         ...,\n",
      "         [0.0650, 0.0498, 0.0608,  ..., 0.0669, 0.3186, 0.1606],\n",
      "         [0.0541, 0.0431, 0.0475,  ..., 0.0437, 0.3404, 0.1623],\n",
      "         [0.0589, 0.0312, 0.0467,  ..., 0.0224, 0.4930, 0.1191]]]), tensor([[[0.0739, 0.0441, 0.0482,  ..., 0.0497, 0.3611, 0.1653],\n",
      "         [0.0685, 0.0386, 0.0460,  ..., 0.0318, 0.4582, 0.1238],\n",
      "         [0.1294, 0.0283, 0.0769,  ..., 0.0491, 0.3167, 0.1360],\n",
      "         ...,\n",
      "         [0.0873, 0.0470, 0.0663,  ..., 0.0513, 0.3441, 0.1393],\n",
      "         [0.0762, 0.0406, 0.0461,  ..., 0.0406, 0.3742, 0.1539],\n",
      "         [0.0514, 0.0375, 0.0424,  ..., 0.0249, 0.5389, 0.1022]]]), tensor([[[0.0796, 0.0542, 0.0649,  ..., 0.0692, 0.2604, 0.1764],\n",
      "         [0.0658, 0.0615, 0.0536,  ..., 0.0287, 0.4480, 0.0958],\n",
      "         [0.1050, 0.0555, 0.0647,  ..., 0.0533, 0.2851, 0.1418],\n",
      "         ...,\n",
      "         [0.0843, 0.0620, 0.0656,  ..., 0.0487, 0.3101, 0.1347],\n",
      "         [0.0799, 0.0562, 0.0576,  ..., 0.0518, 0.2945, 0.1592],\n",
      "         [0.0594, 0.0592, 0.0473,  ..., 0.0247, 0.4980, 0.0866]]]), tensor([[[0.0816, 0.0619, 0.0634,  ..., 0.0761, 0.2335, 0.1687],\n",
      "         [0.0559, 0.0382, 0.0410,  ..., 0.0172, 0.5844, 0.0914],\n",
      "         [0.1445, 0.0407, 0.0672,  ..., 0.0422, 0.2988, 0.1269],\n",
      "         ...,\n",
      "         [0.0693, 0.0608, 0.0583,  ..., 0.0662, 0.3004, 0.1685],\n",
      "         [0.0567, 0.0522, 0.0530,  ..., 0.0413, 0.3293, 0.1814],\n",
      "         [0.0448, 0.0314, 0.0383,  ..., 0.0114, 0.6819, 0.0641]]]), tensor([[[0.0725, 0.0605, 0.0605,  ..., 0.0855, 0.2386, 0.1919],\n",
      "         [0.0727, 0.0369, 0.0392,  ..., 0.0314, 0.4604, 0.1301],\n",
      "         [0.1329, 0.0338, 0.0535,  ..., 0.0396, 0.2983, 0.1386],\n",
      "         ...,\n",
      "         [0.0767, 0.0620, 0.0711,  ..., 0.0670, 0.2793, 0.1557],\n",
      "         [0.0714, 0.0442, 0.0464,  ..., 0.0406, 0.3964, 0.1456],\n",
      "         [0.0679, 0.0282, 0.0307,  ..., 0.0248, 0.5240, 0.1264]]]), tensor([[[0.0701, 0.0625, 0.0565,  ..., 0.0791, 0.2421, 0.1859],\n",
      "         [0.0616, 0.0471, 0.0429,  ..., 0.0322, 0.4558, 0.1326],\n",
      "         [0.1908, 0.0188, 0.0621,  ..., 0.0410, 0.2737, 0.1434],\n",
      "         ...,\n",
      "         [0.0715, 0.0639, 0.0636,  ..., 0.0602, 0.2888, 0.1562],\n",
      "         [0.0736, 0.0490, 0.0487,  ..., 0.0407, 0.3447, 0.1686],\n",
      "         [0.0448, 0.0515, 0.0367,  ..., 0.0258, 0.5264, 0.1133]]]), tensor([[[0.0646, 0.0753, 0.0700,  ..., 0.0819, 0.2491, 0.1694],\n",
      "         [0.0488, 0.0357, 0.0395,  ..., 0.0289, 0.5168, 0.1291],\n",
      "         [0.1791, 0.0202, 0.0598,  ..., 0.0452, 0.2628, 0.1472],\n",
      "         ...,\n",
      "         [0.0717, 0.0522, 0.0600,  ..., 0.0536, 0.3536, 0.1483],\n",
      "         [0.0580, 0.0391, 0.0395,  ..., 0.0364, 0.4288, 0.1572],\n",
      "         [0.0414, 0.0352, 0.0382,  ..., 0.0245, 0.5635, 0.1160]]])]\n",
      "(Pdb) kls(scores)\n",
      "*** TypeError: cat(): argument 'tensors' (position 1) must be tuple of Tensors, not Tensor\n",
      "(Pdb) kls(preds)\n",
      "tensor([-inf, -inf, nan, -inf, -inf, -inf, -inf, -inf, -inf, -inf])\n",
      "(Pdb) quit()\n"
     ]
    },
    {
     "ename": "BdbQuit",
     "evalue": "",
     "output_type": "error",
     "traceback": [
      "\u001b[0;31m---------------------------------------------------------------------------\u001b[0m",
      "\u001b[0;31mBdbQuit\u001b[0m                                   Traceback (most recent call last)",
      "\u001b[0;32m<ipython-input-76-f9e1faf63e42>\u001b[0m in \u001b[0;36m<module>\u001b[0;34m\u001b[0m\n\u001b[1;32m     26\u001b[0m \u001b[0;34m\u001b[0m\u001b[0m\n\u001b[1;32m     27\u001b[0m     \u001b[0mscores\u001b[0m \u001b[0;34m=\u001b[0m \u001b[0mkls\u001b[0m\u001b[0;34m(\u001b[0m\u001b[0mpreds\u001b[0m\u001b[0;34m)\u001b[0m\u001b[0;34m\u001b[0m\u001b[0;34m\u001b[0m\u001b[0m\n\u001b[0;32m---> 28\u001b[0;31m     \u001b[0mmasks\u001b[0m \u001b[0;34m=\u001b[0m \u001b[0mtorch\u001b[0m\u001b[0;34m.\u001b[0m\u001b[0mcat\u001b[0m\u001b[0;34m(\u001b[0m\u001b[0mmasks\u001b[0m\u001b[0;34m,\u001b[0m\u001b[0mdim\u001b[0m\u001b[0;34m=\u001b[0m\u001b[0;36m1\u001b[0m\u001b[0;34m)\u001b[0m\u001b[0;34m\u001b[0m\u001b[0;34m\u001b[0m\u001b[0m\n\u001b[0m\u001b[1;32m     29\u001b[0m \u001b[0;34m\u001b[0m\u001b[0m\n\u001b[1;32m     30\u001b[0m     \u001b[0mu\u001b[0m \u001b[0;34m=\u001b[0m \u001b[0mtorch\u001b[0m\u001b[0;34m.\u001b[0m\u001b[0mclamp\u001b[0m\u001b[0;34m(\u001b[0m\u001b[0mmasks\u001b[0m \u001b[0;34m+\u001b[0m \u001b[0mtotal_mask\u001b[0m\u001b[0;34m,\u001b[0m\u001b[0;36m0\u001b[0m\u001b[0;34m,\u001b[0m\u001b[0;36m1\u001b[0m\u001b[0;34m)\u001b[0m\u001b[0;34m.\u001b[0m\u001b[0msum\u001b[0m\u001b[0;34m(\u001b[0m\u001b[0mdim\u001b[0m\u001b[0;34m=\u001b[0m\u001b[0;36m0\u001b[0m\u001b[0;34m)\u001b[0m\u001b[0;34m\u001b[0m\u001b[0;34m\u001b[0m\u001b[0m\n",
      "\u001b[0;32m<ipython-input-76-f9e1faf63e42>\u001b[0m in \u001b[0;36m<module>\u001b[0;34m\u001b[0m\n\u001b[1;32m     26\u001b[0m \u001b[0;34m\u001b[0m\u001b[0m\n\u001b[1;32m     27\u001b[0m     \u001b[0mscores\u001b[0m \u001b[0;34m=\u001b[0m \u001b[0mkls\u001b[0m\u001b[0;34m(\u001b[0m\u001b[0mpreds\u001b[0m\u001b[0;34m)\u001b[0m\u001b[0;34m\u001b[0m\u001b[0;34m\u001b[0m\u001b[0m\n\u001b[0;32m---> 28\u001b[0;31m     \u001b[0mmasks\u001b[0m \u001b[0;34m=\u001b[0m \u001b[0mtorch\u001b[0m\u001b[0;34m.\u001b[0m\u001b[0mcat\u001b[0m\u001b[0;34m(\u001b[0m\u001b[0mmasks\u001b[0m\u001b[0;34m,\u001b[0m\u001b[0mdim\u001b[0m\u001b[0;34m=\u001b[0m\u001b[0;36m1\u001b[0m\u001b[0;34m)\u001b[0m\u001b[0;34m\u001b[0m\u001b[0;34m\u001b[0m\u001b[0m\n\u001b[0m\u001b[1;32m     29\u001b[0m \u001b[0;34m\u001b[0m\u001b[0m\n\u001b[1;32m     30\u001b[0m     \u001b[0mu\u001b[0m \u001b[0;34m=\u001b[0m \u001b[0mtorch\u001b[0m\u001b[0;34m.\u001b[0m\u001b[0mclamp\u001b[0m\u001b[0;34m(\u001b[0m\u001b[0mmasks\u001b[0m \u001b[0;34m+\u001b[0m \u001b[0mtotal_mask\u001b[0m\u001b[0;34m,\u001b[0m\u001b[0;36m0\u001b[0m\u001b[0;34m,\u001b[0m\u001b[0;36m1\u001b[0m\u001b[0;34m)\u001b[0m\u001b[0;34m.\u001b[0m\u001b[0msum\u001b[0m\u001b[0;34m(\u001b[0m\u001b[0mdim\u001b[0m\u001b[0;34m=\u001b[0m\u001b[0;36m0\u001b[0m\u001b[0;34m)\u001b[0m\u001b[0;34m\u001b[0m\u001b[0;34m\u001b[0m\u001b[0m\n",
      "\u001b[0;32m/data/anaconda/envs/fastai/lib/python3.7/bdb.py\u001b[0m in \u001b[0;36mtrace_dispatch\u001b[0;34m(self, frame, event, arg)\u001b[0m\n\u001b[1;32m     86\u001b[0m             \u001b[0;32mreturn\u001b[0m \u001b[0;31m# None\u001b[0m\u001b[0;34m\u001b[0m\u001b[0;34m\u001b[0m\u001b[0m\n\u001b[1;32m     87\u001b[0m         \u001b[0;32mif\u001b[0m \u001b[0mevent\u001b[0m \u001b[0;34m==\u001b[0m \u001b[0;34m'line'\u001b[0m\u001b[0;34m:\u001b[0m\u001b[0;34m\u001b[0m\u001b[0;34m\u001b[0m\u001b[0m\n\u001b[0;32m---> 88\u001b[0;31m             \u001b[0;32mreturn\u001b[0m \u001b[0mself\u001b[0m\u001b[0;34m.\u001b[0m\u001b[0mdispatch_line\u001b[0m\u001b[0;34m(\u001b[0m\u001b[0mframe\u001b[0m\u001b[0;34m)\u001b[0m\u001b[0;34m\u001b[0m\u001b[0;34m\u001b[0m\u001b[0m\n\u001b[0m\u001b[1;32m     89\u001b[0m         \u001b[0;32mif\u001b[0m \u001b[0mevent\u001b[0m \u001b[0;34m==\u001b[0m \u001b[0;34m'call'\u001b[0m\u001b[0;34m:\u001b[0m\u001b[0;34m\u001b[0m\u001b[0;34m\u001b[0m\u001b[0m\n\u001b[1;32m     90\u001b[0m             \u001b[0;32mreturn\u001b[0m \u001b[0mself\u001b[0m\u001b[0;34m.\u001b[0m\u001b[0mdispatch_call\u001b[0m\u001b[0;34m(\u001b[0m\u001b[0mframe\u001b[0m\u001b[0;34m,\u001b[0m \u001b[0marg\u001b[0m\u001b[0;34m)\u001b[0m\u001b[0;34m\u001b[0m\u001b[0;34m\u001b[0m\u001b[0m\n",
      "\u001b[0;32m/data/anaconda/envs/fastai/lib/python3.7/bdb.py\u001b[0m in \u001b[0;36mdispatch_line\u001b[0;34m(self, frame)\u001b[0m\n\u001b[1;32m    111\u001b[0m         \u001b[0;32mif\u001b[0m \u001b[0mself\u001b[0m\u001b[0;34m.\u001b[0m\u001b[0mstop_here\u001b[0m\u001b[0;34m(\u001b[0m\u001b[0mframe\u001b[0m\u001b[0;34m)\u001b[0m \u001b[0;32mor\u001b[0m \u001b[0mself\u001b[0m\u001b[0;34m.\u001b[0m\u001b[0mbreak_here\u001b[0m\u001b[0;34m(\u001b[0m\u001b[0mframe\u001b[0m\u001b[0;34m)\u001b[0m\u001b[0;34m:\u001b[0m\u001b[0;34m\u001b[0m\u001b[0;34m\u001b[0m\u001b[0m\n\u001b[1;32m    112\u001b[0m             \u001b[0mself\u001b[0m\u001b[0;34m.\u001b[0m\u001b[0muser_line\u001b[0m\u001b[0;34m(\u001b[0m\u001b[0mframe\u001b[0m\u001b[0;34m)\u001b[0m\u001b[0;34m\u001b[0m\u001b[0;34m\u001b[0m\u001b[0m\n\u001b[0;32m--> 113\u001b[0;31m             \u001b[0;32mif\u001b[0m \u001b[0mself\u001b[0m\u001b[0;34m.\u001b[0m\u001b[0mquitting\u001b[0m\u001b[0;34m:\u001b[0m \u001b[0;32mraise\u001b[0m \u001b[0mBdbQuit\u001b[0m\u001b[0;34m\u001b[0m\u001b[0;34m\u001b[0m\u001b[0m\n\u001b[0m\u001b[1;32m    114\u001b[0m         \u001b[0;32mreturn\u001b[0m \u001b[0mself\u001b[0m\u001b[0;34m.\u001b[0m\u001b[0mtrace_dispatch\u001b[0m\u001b[0;34m\u001b[0m\u001b[0;34m\u001b[0m\u001b[0m\n\u001b[1;32m    115\u001b[0m \u001b[0;34m\u001b[0m\u001b[0m\n",
      "\u001b[0;31mBdbQuit\u001b[0m: "
     ]
    }
   ],
   "source": [
    "current_masks = []\n",
    "current_preds = []\n",
    "\n",
    "mask,pred = get_mask_preds(learn)\n",
    "\n",
    "current_masks.append(mask)\n",
    "current_preds.append(pred)\n",
    "\n",
    "T = 1\n",
    "n_iterations = 10\n",
    "\n",
    "total_mask = torch.cat(mask)\n",
    "\n",
    "for t in range(T):\n",
    "    masks = []\n",
    "    preds = []\n",
    "    for i in range(n_iterations):\n",
    "        mask,pred = get_mask_preds(learn)\n",
    "        mask = torch.cat(mask)\n",
    "        \n",
    "        masks.append(mask)\n",
    "        preds.append(pred)\n",
    "    \n",
    "    import pdb\n",
    "    pdb.set_trace()\n",
    "    \n",
    "    scores = kls(preds)\n",
    "    masks = torch.cat(masks,dim=1)\n",
    "    \n",
    "    u = torch.clamp(masks + total_mask,0,1).sum(dim=0)\n",
    "    i = (total_mask * masks).sum(dim=0)\n",
    "    \n",
    "    iou = i / u\n",
    "    \n",
    "    final_score = iou * scores\n",
    "    best_idx = final_score.argmax().item()\n",
    "    \n",
    "    best_mask = masks[:,best_idx][:,None]\n",
    "    best_pred = preds[best_idx]\n",
    "    \n",
    "    total_mask = torch.clamp(total_mask + best_mask,0,1)\n",
    "    \n",
    "    current_masks.append(best_mask)\n",
    "    current_preds.append(best_pred)"
   ]
  },
  {
   "cell_type": "code",
   "execution_count": 13,
   "metadata": {},
   "outputs": [
    {
     "name": "stdout",
     "output_type": "stream",
     "text": [
      "Please enter your NeptuneML API token : ········\n"
     ]
    },
    {
     "name": "stderr",
     "output_type": "stream",
     "text": [
      "WARNING: Instantiating Session without specifying a backend is deprecated and will be removed in future versions. For current behaviour use `neptune.init(...)` or `Session.with_default_backend(...)\n",
      "WARNING: It is not secure to place API token in your source code. You should treat it as a password to your account. It is strongly recommended to use NEPTUNE_API_TOKEN environment variable instead. Remember not to upload source file with API token to any public repository.\n"
     ]
    }
   ],
   "source": [
    "from neptune.sessions import Session\n",
    "import getpass\n",
    "\n",
    "api_token = getpass.getpass(\"Please enter your NeptuneML API token : \")\n",
    "session = Session(api_token=api_token)\n",
    "project = session.get_project(project_qualified_name='danywin/EnsembleDropout')"
   ]
  },
  {
   "cell_type": "code",
   "execution_count": null,
   "metadata": {},
   "outputs": [
    {
     "data": {
      "text/html": [
       "\n",
       "    <div>\n",
       "        <style>\n",
       "            /* Turns off some styling */\n",
       "            progress {\n",
       "                /* gets rid of default border in Firefox and Opera. */\n",
       "                border: none;\n",
       "                /* Needs to be in here for Safari polyfill so background images work as expected. */\n",
       "                background-size: auto;\n",
       "            }\n",
       "            .progress-bar-interrupted, .progress-bar-interrupted::-webkit-progress-bar {\n",
       "                background: #F44336;\n",
       "            }\n",
       "        </style>\n",
       "      <progress value='22' class='' max='79', style='width:300px; height:20px; vertical-align: middle;'></progress>\n",
       "      27.85% [22/79 00:01<00:02]\n",
       "    </div>\n",
       "    "
      ],
      "text/plain": [
       "<IPython.core.display.HTML object>"
      ]
     },
     "metadata": {},
     "output_type": "display_data"
    }
   ],
   "source": [
    "T = 10\n",
    "n_steps = 100\n",
    "activ = Identity()\n",
    "sample_model_fn = sample_model\n",
    "model_name = \"model_dp_70\"\n",
    "\n",
    "model = get_model()\n",
    "learn = Learner(data,model,metrics=accuracy)\n",
    "learn = learn.load(model_name)\n",
    "\n",
    "p,y = get_preds_sample(learn,DatasetType.Fix,n_sample=T)\n",
    "p = p.mean(dim=0)\n",
    "inital_score = accuracy(p,y).item()\n",
    "\n",
    "masks = []\n",
    "preds = []\n",
    "\n",
    "for t in range(T):\n",
    "    mask,pred = get_mask_preds(learn,sample_model_fn=sample_model,activ=activ)\n",
    "    mask = torch.cat(mask)\n",
    "    masks.append(mask)\n",
    "    preds.append(pred)\n",
    "    \n",
    "initial_coverage = torch.clamp(torch.cat(masks,dim=1).sum(dim=1),0,1).mean().item()\n",
    "\n",
    "params = {\"T\":T,\"n_steps\":n_steps,\"activ\":str(activ),\"sample_model_fn\":str(sample_model_fn),\n",
    "         \"model_name\":model_name,\"initial_score\":inital_score,\"initial_coverage\":initial_coverage}\n",
    "\n",
    "exp_name = model_name + \"_\" + str(sample_model_fn)"
   ]
  },
  {
   "cell_type": "code",
   "execution_count": null,
   "metadata": {},
   "outputs": [],
   "source": [
    "params"
   ]
  },
  {
   "cell_type": "code",
   "execution_count": null,
   "metadata": {},
   "outputs": [],
   "source": [
    "x_logits = torch.cat(preds)\n",
    "\n",
    "current_kl = []\n",
    "for t in range(T):\n",
    "    y = preds.copy()\n",
    "    del y[t]\n",
    "    y_logits = torch.cat(y)\n",
    "    kl = MC_kl(x_logits,y_logits)\n",
    "    current_kl.append(kl)\n",
    "    \n",
    "current_kl = torch.stack(current_kl)"
   ]
  },
  {
   "cell_type": "code",
   "execution_count": null,
   "metadata": {},
   "outputs": [],
   "source": [
    "_,y = learn.get_preds(DatasetType.Fix)"
   ]
  },
  {
   "cell_type": "code",
   "execution_count": null,
   "metadata": {},
   "outputs": [],
   "source": [
    "outputs = []\n",
    "changes = []\n",
    "\n",
    "with project.create_experiment(name=exp_name,params=params) as exp:\n",
    "\n",
    "    for i in range(n_steps):\n",
    "\n",
    "        candidate_mask, candidate_pred = get_mask_preds(learn,sample_model_fn=sample_model_fn,activ=activ)\n",
    "        candidate_mask = torch.cat(candidate_mask)\n",
    "\n",
    "        candidate_kl = []\n",
    "        for t in range(T):\n",
    "            pool = preds.copy()\n",
    "            del pool[t]\n",
    "\n",
    "            y_logits = torch.cat(pool)\n",
    "\n",
    "            pool.append(candidate_pred)\n",
    "            x_logits = torch.cat(pool)\n",
    "\n",
    "            kl = MC_kl(x_logits,y_logits)\n",
    "            candidate_kl.append(kl)\n",
    "\n",
    "        candidate_kl = torch.stack(candidate_kl)\n",
    "\n",
    "        difference_kl = current_kl - candidate_kl\n",
    "        min_kl,argmin_kl = difference_kl.min().item(), difference_kl.argmin().item()\n",
    "\n",
    "        if min_kl < 0:\n",
    "\n",
    "            del preds[argmin_kl]\n",
    "            del masks[argmin_kl]\n",
    "\n",
    "            preds.append(candidate_pred)\n",
    "            masks.append(candidate_mask)\n",
    "\n",
    "            current_kl = candidate_kl\n",
    "\n",
    "            p = torch.cat(preds).mean(dim=0)\n",
    "            score = accuracy(p,y)\n",
    "            \n",
    "            exp.send_metric(\"min\",current_kl.min().item())\n",
    "            exp.send_metric(\"max\",current_kl.max().item())\n",
    "            exp.send_metric(\"mean\",current_kl.mean().item())\n",
    "            exp.send_metric(\"std\",current_kl.std().item())\n",
    "            exp.send_metric(\"score\",score.item())\n",
    "            exp.send_metric(\"changes\",i)\n",
    "            exp.send_metric(\"max_diff\",np.abs(min_kl) )\n",
    "\n",
    "#             output = {\"min\":, \"max\":current_kl.max().item(),\n",
    "#                       \"mean\":current_kl.mean().item(),\"std\":current_kl.std().item(),\"score\":score}\n",
    "#             outputs.append(output)\n",
    "\n",
    "            changes.append(i)\n",
    "    \n",
    "    final_coverage = torch.clamp(torch.cat(masks,dim=1).sum(dim=1),0,1).mean().item()\n",
    "    exp.send_metric(\"final_coverage\",final_coverage)"
   ]
  },
  {
   "cell_type": "code",
   "execution_count": 163,
   "metadata": {},
   "outputs": [
    {
     "data": {
      "text/plain": [
       "[0, 1, 2, 29, 30, 32]"
      ]
     },
     "execution_count": 163,
     "metadata": {},
     "output_type": "execute_result"
    }
   ],
   "source": [
    "changes"
   ]
  },
  {
   "cell_type": "code",
   "execution_count": 164,
   "metadata": {},
   "outputs": [
    {
     "data": {
      "text/plain": [
       "0    tensor(0.9396)\n",
       "1    tensor(0.9405)\n",
       "2    tensor(0.9409)\n",
       "3    tensor(0.9401)\n",
       "4    tensor(0.9400)\n",
       "Name: score, dtype: object"
      ]
     },
     "execution_count": 164,
     "metadata": {},
     "output_type": "execute_result"
    }
   ],
   "source": [
    "df.score"
   ]
  },
  {
   "cell_type": "code",
   "execution_count": 165,
   "metadata": {},
   "outputs": [
    {
     "data": {
      "text/plain": [
       "<matplotlib.axes._subplots.AxesSubplot at 0x7f36dcf2de50>"
      ]
     },
     "execution_count": 165,
     "metadata": {},
     "output_type": "execute_result"
    },
    {
     "data": {
      "image/png": "[encoded data removed]",
      "text/plain": [
       "<Figure size 432x288 with 1 Axes>"
      ]
     },
     "metadata": {
      "needs_background": "light"
     },
     "output_type": "display_data"
    }
   ],
   "source": [
    "df = pd.DataFrame(outputs)\n",
    "df.plot()"
   ]
  },
  {
   "cell_type": "code",
   "execution_count": null,
   "metadata": {},
   "outputs": [],
   "source": [
    "for t in range(T):\n",
    "    "
   ]
  },
  {
   "cell_type": "code",
   "execution_count": 61,
   "metadata": {},
   "outputs": [
    {
     "data": {
      "text/plain": [
       "[tensor(0.0003),\n",
       " tensor(0.0001),\n",
       " tensor(0.0002),\n",
       " tensor(0.0003),\n",
       " tensor(0.0002),\n",
       " tensor(0.0001),\n",
       " tensor(9.0346e-05),\n",
       " tensor(9.6604e-05),\n",
       " tensor(0.0009),\n",
       " tensor(0.0003)]"
      ]
     },
     "execution_count": 61,
     "metadata": {},
     "output_type": "execute_result"
    }
   ],
   "source": [
    "output"
   ]
  },
  {
   "cell_type": "code",
   "execution_count": 46,
   "metadata": {},
   "outputs": [],
   "source": [
    "x_logits = torch.cat(preds)\n",
    "\n",
    "i = 0\n",
    "y = preds.copy()\n",
    "del y[i]\n",
    "y_logits = torch.cat(y)"
   ]
  },
  {
   "cell_type": "code",
   "execution_count": 57,
   "metadata": {},
   "outputs": [
    {
     "data": {
      "text/plain": [
       "tensor(0.0242)"
      ]
     },
     "execution_count": 57,
     "metadata": {},
     "output_type": "execute_result"
    }
   ],
   "source": [
    "MC_KL(x_logits,y_logits)"
   ]
  },
  {
   "cell_type": "code",
   "execution_count": 53,
   "metadata": {},
   "outputs": [],
   "source": []
  },
  {
   "cell_type": "code",
   "execution_count": null,
   "metadata": {},
   "outputs": [],
   "source": []
  },
  {
   "cell_type": "code",
   "execution_count": 33,
   "metadata": {},
   "outputs": [],
   "source": [
    "mask,_ = get_mask_preds(learn)\n",
    "mask = torch.cat(mask)"
   ]
  },
  {
   "cell_type": "code",
   "execution_count": 42,
   "metadata": {},
   "outputs": [],
   "source": [
    "u = torch.clamp(masks + mask,0,1).sum(dim=0)"
   ]
  },
  {
   "cell_type": "code",
   "execution_count": 43,
   "metadata": {},
   "outputs": [],
   "source": [
    "i = (mask * masks).sum(dim=0)"
   ]
  },
  {
   "cell_type": "code",
   "execution_count": 48,
   "metadata": {},
   "outputs": [
    {
     "data": {
      "text/plain": [
       "tensor([0.4085, 0.4116, 0.4034, 0.3728, 0.4077])"
      ]
     },
     "execution_count": 48,
     "metadata": {},
     "output_type": "execute_result"
    }
   ],
   "source": [
    "i / u"
   ]
  },
  {
   "cell_type": "code",
   "execution_count": 34,
   "metadata": {},
   "outputs": [],
   "source": [
    "masks = "
   ]
  },
  {
   "cell_type": "code",
   "execution_count": 116,
   "metadata": {},
   "outputs": [],
   "source": [
    "T = 10\n",
    "mean = []\n",
    "low = []\n",
    "high = []\n",
    "std = []\n",
    "\n",
    "masks = []\n",
    "preds = []\n",
    "for t in range(T):\n",
    "    mask,pred = get_mask_preds(learn,sample_model,ds_type=DatasetType.Fix)\n",
    "    masks.append(mask)\n",
    "    preds.append(pred)"
   ]
  },
  {
   "cell_type": "code",
   "execution_count": 117,
   "metadata": {},
   "outputs": [
    {
     "data": {
      "text/plain": [
       "tensor([nan, nan, nan, nan, nan, nan, nan, nan, nan, nan, nan, nan, nan, nan, nan, nan, nan, nan, nan, nan])"
      ]
     },
     "execution_count": 117,
     "metadata": {},
     "output_type": "execute_result"
    }
   ],
   "source": [
    "kls(preds)"
   ]
  },
  {
   "cell_type": "code",
   "execution_count": 118,
   "metadata": {},
   "outputs": [],
   "source": [
    "pred = torch.cat(preds)"
   ]
  },
  {
   "cell_type": "code",
   "execution_count": 123,
   "metadata": {},
   "outputs": [],
   "source": [
    "n = 10000\n",
    "pred = pred[:,:n,:]"
   ]
  },
  {
   "cell_type": "code",
   "execution_count": 130,
   "metadata": {},
   "outputs": [],
   "source": [
    "mean_pred = pred.mean(dim=0,keepdim=True).expand(20,-1,-1)"
   ]
  },
  {
   "cell_type": "code",
   "execution_count": null,
   "metadata": {},
   "outputs": [],
   "source": []
  },
  {
   "cell_type": "code",
   "execution_count": 158,
   "metadata": {},
   "outputs": [],
   "source": [
    "x,y = data.one_batch()\n",
    "\n",
    "for tfm in data.train_dl.tfms:\n",
    "    x,y = tfm((x,y))\n",
    "    "
   ]
  },
  {
   "cell_type": "code",
   "execution_count": 159,
   "metadata": {},
   "outputs": [
    {
     "data": {
      "text/plain": [
       "tensor([[ -3.8175,   5.3751,  -3.9777,  ...,  -3.7914,   5.6218,  -3.7429],\n",
       "        [ 18.9034, -34.1240,  -5.1276,  ..., -24.8360,  -8.2155,  -0.3190],\n",
       "        [-15.3342,  -6.2214,   1.4194,  ..., -17.0330,   2.5861,  -8.9764],\n",
       "        ...,\n",
       "        [  9.1765, -21.6155,  -2.8188,  ..., -10.4872,  -2.3215,   2.4392],\n",
       "        [-15.7081,  -3.8299,  11.2177,  ...,  -1.8643,  -4.3008, -12.5930],\n",
       "        [-23.8934, -10.1384,  -3.4591,  ...,  -7.4998,   2.7617,   3.9378]],\n",
       "       device='cuda:0', grad_fn=<AddmmBackward>)"
      ]
     },
     "execution_count": 159,
     "metadata": {},
     "output_type": "execute_result"
    }
   ],
   "source": [
    "learn.model(x.cuda())"
   ]
  },
  {
   "cell_type": "code",
   "execution_count": null,
   "metadata": {},
   "outputs": [],
   "source": []
  },
  {
   "cell_type": "code",
   "execution_count": 129,
   "metadata": {},
   "outputs": [
    {
     "data": {
      "text/plain": [
       "torch.Size([20, 10000, 10])"
      ]
     },
     "execution_count": 129,
     "metadata": {},
     "output_type": "execute_result"
    }
   ],
   "source": [
    "mean_pred * torch.log(mean_pred/diff)"
   ]
  },
  {
   "cell_type": "code",
   "execution_count": 32,
   "metadata": {},
   "outputs": [],
   "source": [
    "def kl(ref_distribution,list_distributions):\n",
    "    \"\"\"Vectorized KL divergence between one distribution and a list of distributions\n",
    "    \n",
    "    Args:\n",
    "        ref_distribution: A 1*N*C tensor with \n",
    "        list_distributions: A T*N*C tensor\n",
    "        \n",
    "    Returns:\n",
    "    \"\"\"\n",
    "    \n",
    "    log_ratio = torch.log(ref_distribution/list_distributions)\n",
    "    \n",
    "    prod = \n",
    "    \n",
    "    kls = torch.einsum(\"tic,ic -> t\",log_ratio,ref_distribution.squeeze(0))\n",
    "    \n",
    "    return kls"
   ]
  },
  {
   "cell_type": "code",
   "execution_count": 36,
   "metadata": {},
   "outputs": [
    {
     "data": {
      "text/plain": [
       "torch.Size([10, 40000, 10])"
      ]
     },
     "execution_count": 36,
     "metadata": {},
     "output_type": "execute_result"
    }
   ],
   "source": [
    "pred.shape"
   ]
  },
  {
   "cell_type": "code",
   "execution_count": 135,
   "metadata": {},
   "outputs": [],
   "source": [
    "s = pred.sum(dim=0,keepdim=True).expand(T,-1,-1)"
   ]
  },
  {
   "cell_type": "code",
   "execution_count": 139,
   "metadata": {},
   "outputs": [],
   "source": [
    "m = s / T"
   ]
  },
  {
   "cell_type": "code",
   "execution_count": 140,
   "metadata": {},
   "outputs": [],
   "source": [
    "modified_m = (s - pred) / (T-1)"
   ]
  },
  {
   "cell_type": "code",
   "execution_count": 210,
   "metadata": {},
   "outputs": [],
   "source": [
    "p_raws = []\n",
    "T = 3\n",
    "\n",
    "for t in range(T):\n",
    "    p_raw,y = learn.get_preds(activ=activ)\n",
    "    p_raw = p_raw[None]\n",
    "    p_raws.append(p_raw)"
   ]
  },
  {
   "cell_type": "code",
   "execution_count": null,
   "metadata": {},
   "outputs": [],
   "source": [
    "def MC_cross_entropy()"
   ]
  },
  {
   "cell_type": "code",
   "execution_count": 213,
   "metadata": {},
   "outputs": [],
   "source": [
    "p_raws = torch.cat(p_raws)"
   ]
  },
  {
   "cell_type": "code",
   "execution_count": 218,
   "metadata": {},
   "outputs": [],
   "source": [
    "logits_diff = p_raws - torch.logsumexp(p_raws,dim=2,keepdim=True)"
   ]
  },
  {
   "cell_type": "code",
   "execution_count": 224,
   "metadata": {},
   "outputs": [],
   "source": [
    "log_mean_prob = torch.logsumexp(logits_diff,dim=0) - torch.log(torch.tensor(T).float())"
   ]
  },
  {
   "cell_type": "code",
   "execution_count": 228,
   "metadata": {},
   "outputs": [],
   "source": [
    "mean_prob = torch.softmax(p_raws,dim=2).mean(dim=0)"
   ]
  },
  {
   "cell_type": "code",
   "execution_count": 229,
   "metadata": {},
   "outputs": [
    {
     "data": {
      "text/plain": [
       "tensor(1390.4841)"
      ]
     },
     "execution_count": 229,
     "metadata": {},
     "output_type": "execute_result"
    }
   ],
   "source": [
    "(-mean_prob * log_mean_prob).sum()"
   ]
  },
  {
   "cell_type": "code",
   "execution_count": 194,
   "metadata": {},
   "outputs": [],
   "source": [
    "p = torch.softmax(p_raw,dim=1)"
   ]
  },
  {
   "cell_type": "code",
   "execution_count": 199,
   "metadata": {},
   "outputs": [],
   "source": [
    "log_p = (p_raw - torch.logsumexp(p_raw,dim=1,keepdim=True))"
   ]
  },
  {
   "cell_type": "code",
   "execution_count": 208,
   "metadata": {},
   "outputs": [
    {
     "data": {
      "text/plain": [
       "tensor([[-3.6759e+01, -2.8045e+01, -1.0623e+01,  ..., -2.7299e-05,\n",
       "         -2.1733e+01, -1.3016e+01],\n",
       "        [-1.0951e+01, -1.0318e+01, -3.1483e-01,  ..., -1.1896e+01,\n",
       "         -1.3211e+00, -1.1653e+01],\n",
       "        [-4.5585e+01, -1.8006e+01, -1.4096e+01,  ..., -1.8132e+01,\n",
       "         -1.0083e+01, -1.5164e+01],\n",
       "        ...,\n",
       "        [-1.2989e+01, -1.8348e+01, -1.4768e+01,  ..., -8.6368e+00,\n",
       "         -4.6091e+00, -1.0719e-02],\n",
       "        [-2.6172e+01, -2.5133e+01, -2.5033e+01,  ..., -3.4497e+01,\n",
       "          0.0000e+00, -3.0120e+01],\n",
       "        [-3.3970e+01, -4.8533e+01, -4.0298e+01,  ..., -4.2024e+01,\n",
       "         -2.3046e+01, -1.7140e+01]])"
      ]
     },
     "execution_count": 208,
     "metadata": {},
     "output_type": "execute_result"
    }
   ],
   "source": [
    "F.log_softmax(p_raw,dim=1)"
   ]
  },
  {
   "cell_type": "code",
   "execution_count": 201,
   "metadata": {},
   "outputs": [
    {
     "data": {
      "text/plain": [
       "tensor(-208.3708)"
      ]
     },
     "execution_count": 201,
     "metadata": {},
     "output_type": "execute_result"
    }
   ],
   "source": [
    "log_p."
   ]
  },
  {
   "cell_type": "code",
   "execution_count": 168,
   "metadata": {},
   "outputs": [],
   "source": [
    "p = learn.model(x.cuda())"
   ]
  },
  {
   "cell_type": "code",
   "execution_count": 181,
   "metadata": {},
   "outputs": [],
   "source": []
  },
  {
   "cell_type": "code",
   "execution_count": 182,
   "metadata": {},
   "outputs": [],
   "source": [
    "activ = Identity()"
   ]
  },
  {
   "cell_type": "code",
   "execution_count": 178,
   "metadata": {},
   "outputs": [
    {
     "data": {
      "text/plain": [
       "tensor(0., device='cuda:0', grad_fn=<MinBackward1>)"
      ]
     },
     "execution_count": 178,
     "metadata": {},
     "output_type": "execute_result"
    }
   ],
   "source": [
    "torch.softmax(p,dim=1)"
   ]
  },
  {
   "cell_type": "code",
   "execution_count": 145,
   "metadata": {},
   "outputs": [
    {
     "data": {
      "text/plain": [
       "tensor(nan)"
      ]
     },
     "execution_count": 145,
     "metadata": {},
     "output_type": "execute_result"
    }
   ],
   "source": [
    "(torch.log(m/modified_m) * m).sum(dim=2).max()"
   ]
  },
  {
   "cell_type": "code",
   "execution_count": 154,
   "metadata": {},
   "outputs": [
    {
     "data": {
      "text/plain": [
       "tensor(1.0000)"
      ]
     },
     "execution_count": 154,
     "metadata": {},
     "output_type": "execute_result"
    }
   ],
   "source": [
    "pred[0,0,:]"
   ]
  },
  {
   "cell_type": "code",
   "execution_count": 80,
   "metadata": {},
   "outputs": [
    {
     "data": {
      "text/plain": [
       "tensor([     inf,      inf,      inf,      inf,      inf,      inf,      inf,\n",
       "             inf,      inf, 125.0027])"
      ]
     },
     "execution_count": 80,
     "metadata": {},
     "output_type": "execute_result"
    }
   ],
   "source": [
    "(torch.log(m / diff) * m).sum(dim=(2))"
   ]
  },
  {
   "cell_type": "code",
   "execution_count": 69,
   "metadata": {},
   "outputs": [
    {
     "data": {
      "text/plain": [
       "tensor(0.9265)"
      ]
     },
     "execution_count": 69,
     "metadata": {},
     "output_type": "execute_result"
    }
   ],
   "source": [
    "pred = torch.cat(preds).mean(dim=0)\n",
    "accuracy(pred,y)"
   ]
  },
  {
   "cell_type": "code",
   "execution_count": 68,
   "metadata": {},
   "outputs": [],
   "source": [
    "p,y = learn.get_preds(DatasetType.Fix)"
   ]
  },
  {
   "cell_type": "code",
   "execution_count": 51,
   "metadata": {},
   "outputs": [],
   "source": [
    "for m in learn.model:\n",
    "    if isinstance(m,DropLinear):\n",
    "        m.remove_mask()"
   ]
  },
  {
   "cell_type": "code",
   "execution_count": null,
   "metadata": {},
   "outputs": [],
   "source": []
  },
  {
   "cell_type": "code",
   "execution_count": null,
   "metadata": {},
   "outputs": [],
   "source": [
    "n_iterations = 60\n",
    "\n",
    "for i in range(n_iterations):\n",
    "    scores = remove_lowest(masks,preds,kls,True)\n",
    "    mean.append(scores.mean().item())\n",
    "    low.append(scores.min().item())\n",
    "    high.append(scores.max().item())\n",
    "    std.append(scores.std().item())\n",
    "    \n",
    "    mask,pred = get_mask_preds(learn)\n",
    "    masks.append(mask)\n",
    "    preds.append(pred)"
   ]
  },
  {
   "cell_type": "code",
   "execution_count": 454,
   "metadata": {},
   "outputs": [
    {
     "data": {
      "text/plain": [
       "[<matplotlib.lines.Line2D at 0x7f60ce78bc10>]"
      ]
     },
     "execution_count": 454,
     "metadata": {},
     "output_type": "execute_result"
    },
    {
     "data": {
      "image/png": "[encoded data removed]",
      "text/plain": [
       "<Figure size 432x288 with 1 Axes>"
      ]
     },
     "metadata": {
      "needs_background": "light"
     },
     "output_type": "display_data"
    }
   ],
   "source": [
    "plt.plot(mean)"
   ]
  },
  {
   "cell_type": "code",
   "execution_count": 417,
   "metadata": {},
   "outputs": [],
   "source": [
    "import itertools"
   ]
  },
  {
   "cell_type": "code",
   "execution_count": 457,
   "metadata": {},
   "outputs": [],
   "source": [
    "p = torch.cat(preds).mean(dim=0)"
   ]
  },
  {
   "cell_type": "code",
   "execution_count": 458,
   "metadata": {},
   "outputs": [
    {
     "data": {
      "text/plain": [
       "tensor(0.9658)"
      ]
     },
     "execution_count": 458,
     "metadata": {},
     "output_type": "execute_result"
    }
   ],
   "source": [
    "accuracy(p,y)"
   ]
  },
  {
   "cell_type": "code",
   "execution_count": 427,
   "metadata": {},
   "outputs": [],
   "source": [
    "_,y = learn.get_preds(DatasetType.Fix)"
   ]
  },
  {
   "cell_type": "code",
   "execution_count": 429,
   "metadata": {},
   "outputs": [],
   "source": [
    "p,y = get_preds_sample(learn,DatasetType.Fix)"
   ]
  },
  {
   "cell_type": "code",
   "execution_count": 431,
   "metadata": {},
   "outputs": [],
   "source": [
    "p = (p).mean(dim=0)"
   ]
  },
  {
   "cell_type": "code",
   "execution_count": 434,
   "metadata": {},
   "outputs": [],
   "source": [
    "for m in learn.model:\n",
    "    if isinstance(m,DropLinear):\n",
    "        m.remove_mask()"
   ]
  },
  {
   "cell_type": "code",
   "execution_count": 437,
   "metadata": {},
   "outputs": [
    {
     "data": {
      "text/plain": [
       "[0.12555529, tensor(0.9631)]"
      ]
     },
     "execution_count": 437,
     "metadata": {},
     "output_type": "execute_result"
    }
   ],
   "source": [
    "learn.validate(learn.dl(DatasetType.Fix))"
   ]
  },
  {
   "cell_type": "code",
   "execution_count": 62,
   "metadata": {},
   "outputs": [
    {
     "ename": "TypeError",
     "evalue": "cat(): argument 'tensors' (position 1) must be tuple of Tensors, not Tensor",
     "output_type": "error",
     "traceback": [
      "\u001b[0;31m---------------------------------------------------------------------------\u001b[0m",
      "\u001b[0;31mTypeError\u001b[0m                                 Traceback (most recent call last)",
      "\u001b[0;32m<ipython-input-62-1446c3bb44a3>\u001b[0m in \u001b[0;36m<module>\u001b[0;34m\u001b[0m\n\u001b[1;32m      2\u001b[0m \u001b[0;34m\u001b[0m\u001b[0m\n\u001b[1;32m      3\u001b[0m \u001b[0;32mfor\u001b[0m \u001b[0mmask\u001b[0m \u001b[0;32min\u001b[0m \u001b[0mmasks\u001b[0m\u001b[0;34m:\u001b[0m\u001b[0;34m\u001b[0m\u001b[0;34m\u001b[0m\u001b[0m\n\u001b[0;32m----> 4\u001b[0;31m     \u001b[0mtotal\u001b[0m \u001b[0;34m+=\u001b[0m \u001b[0mtorch\u001b[0m\u001b[0;34m.\u001b[0m\u001b[0mcat\u001b[0m\u001b[0;34m(\u001b[0m\u001b[0mmask\u001b[0m\u001b[0;34m)\u001b[0m\u001b[0;34m\u001b[0m\u001b[0;34m\u001b[0m\u001b[0m\n\u001b[0m\u001b[1;32m      5\u001b[0m \u001b[0;34m\u001b[0m\u001b[0m\n\u001b[1;32m      6\u001b[0m \u001b[0mtotal\u001b[0m \u001b[0;34m=\u001b[0m \u001b[0mtorch\u001b[0m\u001b[0;34m.\u001b[0m\u001b[0mclamp\u001b[0m\u001b[0;34m(\u001b[0m\u001b[0mtotal\u001b[0m\u001b[0;34m,\u001b[0m\u001b[0;36m0\u001b[0m\u001b[0;34m,\u001b[0m\u001b[0;36m1\u001b[0m\u001b[0;34m)\u001b[0m\u001b[0;34m\u001b[0m\u001b[0;34m\u001b[0m\u001b[0m\n",
      "\u001b[0;31mTypeError\u001b[0m: cat(): argument 'tensors' (position 1) must be tuple of Tensors, not Tensor"
     ]
    }
   ],
   "source": [
    "total = torch.zeros(1536,1)\n",
    "\n",
    "for mask in masks:\n",
    "    total += torch.cat(mask)\n",
    "\n",
    "total = torch.clamp(total,0,1)\n",
    "\n",
    "total.mean()"
   ]
  },
  {
   "cell_type": "code",
   "execution_count": 395,
   "metadata": {},
   "outputs": [
    {
     "data": {
      "text/plain": [
       "tensor([39.3916, 32.5208, 41.0234, 61.9734, 45.3171, 76.7213, 58.6875, 59.2673,\n",
       "        30.5528, 55.3150])"
      ]
     },
     "execution_count": 395,
     "metadata": {},
     "output_type": "execute_result"
    }
   ],
   "source": [
    "kls"
   ]
  },
  {
   "cell_type": "code",
   "execution_count": 400,
   "metadata": {},
   "outputs": [],
   "source": []
  },
  {
   "cell_type": "code",
   "execution_count": 398,
   "metadata": {},
   "outputs": [],
   "source": [
    "del preds[idx]"
   ]
  },
  {
   "cell_type": "code",
   "execution_count": 240,
   "metadata": {},
   "outputs": [],
   "source": [
    "for tfm in learn.data.train_dl.tfms:\n",
    "    x,y = tfm((x,y))"
   ]
  },
  {
   "cell_type": "code",
   "execution_count": 243,
   "metadata": {},
   "outputs": [
    {
     "ename": "RuntimeError",
     "evalue": "Expected object of device type cuda but got device type cpu for argument #2 'mat1' in call to _th_addmm",
     "output_type": "error",
     "traceback": [
      "\u001b[0;31m---------------------------------------------------------------------------\u001b[0m",
      "\u001b[0;31mRuntimeError\u001b[0m                              Traceback (most recent call last)",
      "\u001b[0;32m<ipython-input-243-75d6aa28e95b>\u001b[0m in \u001b[0;36m<module>\u001b[0;34m\u001b[0m\n\u001b[0;32m----> 1\u001b[0;31m \u001b[0mlearn\u001b[0m\u001b[0;34m.\u001b[0m\u001b[0mmodel\u001b[0m\u001b[0;34m(\u001b[0m\u001b[0mx\u001b[0m\u001b[0;34m)\u001b[0m\u001b[0;34m\u001b[0m\u001b[0;34m\u001b[0m\u001b[0m\n\u001b[0m",
      "\u001b[0;32m/data/anaconda/envs/fastai/lib/python3.7/site-packages/torch/nn/modules/module.py\u001b[0m in \u001b[0;36m__call__\u001b[0;34m(self, *input, **kwargs)\u001b[0m\n\u001b[1;32m    539\u001b[0m             \u001b[0mresult\u001b[0m \u001b[0;34m=\u001b[0m \u001b[0mself\u001b[0m\u001b[0;34m.\u001b[0m\u001b[0m_slow_forward\u001b[0m\u001b[0;34m(\u001b[0m\u001b[0;34m*\u001b[0m\u001b[0minput\u001b[0m\u001b[0;34m,\u001b[0m \u001b[0;34m**\u001b[0m\u001b[0mkwargs\u001b[0m\u001b[0;34m)\u001b[0m\u001b[0;34m\u001b[0m\u001b[0;34m\u001b[0m\u001b[0m\n\u001b[1;32m    540\u001b[0m         \u001b[0;32melse\u001b[0m\u001b[0;34m:\u001b[0m\u001b[0;34m\u001b[0m\u001b[0;34m\u001b[0m\u001b[0m\n\u001b[0;32m--> 541\u001b[0;31m             \u001b[0mresult\u001b[0m \u001b[0;34m=\u001b[0m \u001b[0mself\u001b[0m\u001b[0;34m.\u001b[0m\u001b[0mforward\u001b[0m\u001b[0;34m(\u001b[0m\u001b[0;34m*\u001b[0m\u001b[0minput\u001b[0m\u001b[0;34m,\u001b[0m \u001b[0;34m**\u001b[0m\u001b[0mkwargs\u001b[0m\u001b[0;34m)\u001b[0m\u001b[0;34m\u001b[0m\u001b[0;34m\u001b[0m\u001b[0m\n\u001b[0m\u001b[1;32m    542\u001b[0m         \u001b[0;32mfor\u001b[0m \u001b[0mhook\u001b[0m \u001b[0;32min\u001b[0m \u001b[0mself\u001b[0m\u001b[0;34m.\u001b[0m\u001b[0m_forward_hooks\u001b[0m\u001b[0;34m.\u001b[0m\u001b[0mvalues\u001b[0m\u001b[0;34m(\u001b[0m\u001b[0;34m)\u001b[0m\u001b[0;34m:\u001b[0m\u001b[0;34m\u001b[0m\u001b[0;34m\u001b[0m\u001b[0m\n\u001b[1;32m    543\u001b[0m             \u001b[0mhook_result\u001b[0m \u001b[0;34m=\u001b[0m \u001b[0mhook\u001b[0m\u001b[0;34m(\u001b[0m\u001b[0mself\u001b[0m\u001b[0;34m,\u001b[0m \u001b[0minput\u001b[0m\u001b[0;34m,\u001b[0m \u001b[0mresult\u001b[0m\u001b[0;34m)\u001b[0m\u001b[0;34m\u001b[0m\u001b[0;34m\u001b[0m\u001b[0m\n",
      "\u001b[0;32m/data/anaconda/envs/fastai/lib/python3.7/site-packages/torch/nn/modules/container.py\u001b[0m in \u001b[0;36mforward\u001b[0;34m(self, input)\u001b[0m\n\u001b[1;32m     90\u001b[0m     \u001b[0;32mdef\u001b[0m \u001b[0mforward\u001b[0m\u001b[0;34m(\u001b[0m\u001b[0mself\u001b[0m\u001b[0;34m,\u001b[0m \u001b[0minput\u001b[0m\u001b[0;34m)\u001b[0m\u001b[0;34m:\u001b[0m\u001b[0;34m\u001b[0m\u001b[0;34m\u001b[0m\u001b[0m\n\u001b[1;32m     91\u001b[0m         \u001b[0;32mfor\u001b[0m \u001b[0mmodule\u001b[0m \u001b[0;32min\u001b[0m \u001b[0mself\u001b[0m\u001b[0;34m.\u001b[0m\u001b[0m_modules\u001b[0m\u001b[0;34m.\u001b[0m\u001b[0mvalues\u001b[0m\u001b[0;34m(\u001b[0m\u001b[0;34m)\u001b[0m\u001b[0;34m:\u001b[0m\u001b[0;34m\u001b[0m\u001b[0;34m\u001b[0m\u001b[0m\n\u001b[0;32m---> 92\u001b[0;31m             \u001b[0minput\u001b[0m \u001b[0;34m=\u001b[0m \u001b[0mmodule\u001b[0m\u001b[0;34m(\u001b[0m\u001b[0minput\u001b[0m\u001b[0;34m)\u001b[0m\u001b[0;34m\u001b[0m\u001b[0;34m\u001b[0m\u001b[0m\n\u001b[0m\u001b[1;32m     93\u001b[0m         \u001b[0;32mreturn\u001b[0m \u001b[0minput\u001b[0m\u001b[0;34m\u001b[0m\u001b[0;34m\u001b[0m\u001b[0m\n\u001b[1;32m     94\u001b[0m \u001b[0;34m\u001b[0m\u001b[0m\n",
      "\u001b[0;32m/data/anaconda/envs/fastai/lib/python3.7/site-packages/torch/nn/modules/module.py\u001b[0m in \u001b[0;36m__call__\u001b[0;34m(self, *input, **kwargs)\u001b[0m\n\u001b[1;32m    539\u001b[0m             \u001b[0mresult\u001b[0m \u001b[0;34m=\u001b[0m \u001b[0mself\u001b[0m\u001b[0;34m.\u001b[0m\u001b[0m_slow_forward\u001b[0m\u001b[0;34m(\u001b[0m\u001b[0;34m*\u001b[0m\u001b[0minput\u001b[0m\u001b[0;34m,\u001b[0m \u001b[0;34m**\u001b[0m\u001b[0mkwargs\u001b[0m\u001b[0;34m)\u001b[0m\u001b[0;34m\u001b[0m\u001b[0;34m\u001b[0m\u001b[0m\n\u001b[1;32m    540\u001b[0m         \u001b[0;32melse\u001b[0m\u001b[0;34m:\u001b[0m\u001b[0;34m\u001b[0m\u001b[0;34m\u001b[0m\u001b[0m\n\u001b[0;32m--> 541\u001b[0;31m             \u001b[0mresult\u001b[0m \u001b[0;34m=\u001b[0m \u001b[0mself\u001b[0m\u001b[0;34m.\u001b[0m\u001b[0mforward\u001b[0m\u001b[0;34m(\u001b[0m\u001b[0;34m*\u001b[0m\u001b[0minput\u001b[0m\u001b[0;34m,\u001b[0m \u001b[0;34m**\u001b[0m\u001b[0mkwargs\u001b[0m\u001b[0;34m)\u001b[0m\u001b[0;34m\u001b[0m\u001b[0;34m\u001b[0m\u001b[0m\n\u001b[0m\u001b[1;32m    542\u001b[0m         \u001b[0;32mfor\u001b[0m \u001b[0mhook\u001b[0m \u001b[0;32min\u001b[0m \u001b[0mself\u001b[0m\u001b[0;34m.\u001b[0m\u001b[0m_forward_hooks\u001b[0m\u001b[0;34m.\u001b[0m\u001b[0mvalues\u001b[0m\u001b[0;34m(\u001b[0m\u001b[0;34m)\u001b[0m\u001b[0;34m:\u001b[0m\u001b[0;34m\u001b[0m\u001b[0;34m\u001b[0m\u001b[0m\n\u001b[1;32m    543\u001b[0m             \u001b[0mhook_result\u001b[0m \u001b[0;34m=\u001b[0m \u001b[0mhook\u001b[0m\u001b[0;34m(\u001b[0m\u001b[0mself\u001b[0m\u001b[0;34m,\u001b[0m \u001b[0minput\u001b[0m\u001b[0;34m,\u001b[0m \u001b[0mresult\u001b[0m\u001b[0;34m)\u001b[0m\u001b[0;34m\u001b[0m\u001b[0;34m\u001b[0m\u001b[0m\n",
      "\u001b[0;32m/data/anaconda/envs/fastai/lib/python3.7/site-packages/torch/nn/modules/linear.py\u001b[0m in \u001b[0;36mforward\u001b[0;34m(self, input)\u001b[0m\n\u001b[1;32m     85\u001b[0m \u001b[0;34m\u001b[0m\u001b[0m\n\u001b[1;32m     86\u001b[0m     \u001b[0;32mdef\u001b[0m \u001b[0mforward\u001b[0m\u001b[0;34m(\u001b[0m\u001b[0mself\u001b[0m\u001b[0;34m,\u001b[0m \u001b[0minput\u001b[0m\u001b[0;34m)\u001b[0m\u001b[0;34m:\u001b[0m\u001b[0;34m\u001b[0m\u001b[0;34m\u001b[0m\u001b[0m\n\u001b[0;32m---> 87\u001b[0;31m         \u001b[0;32mreturn\u001b[0m \u001b[0mF\u001b[0m\u001b[0;34m.\u001b[0m\u001b[0mlinear\u001b[0m\u001b[0;34m(\u001b[0m\u001b[0minput\u001b[0m\u001b[0;34m,\u001b[0m \u001b[0mself\u001b[0m\u001b[0;34m.\u001b[0m\u001b[0mweight\u001b[0m\u001b[0;34m,\u001b[0m \u001b[0mself\u001b[0m\u001b[0;34m.\u001b[0m\u001b[0mbias\u001b[0m\u001b[0;34m)\u001b[0m\u001b[0;34m\u001b[0m\u001b[0;34m\u001b[0m\u001b[0m\n\u001b[0m\u001b[1;32m     88\u001b[0m \u001b[0;34m\u001b[0m\u001b[0m\n\u001b[1;32m     89\u001b[0m     \u001b[0;32mdef\u001b[0m \u001b[0mextra_repr\u001b[0m\u001b[0;34m(\u001b[0m\u001b[0mself\u001b[0m\u001b[0;34m)\u001b[0m\u001b[0;34m:\u001b[0m\u001b[0;34m\u001b[0m\u001b[0;34m\u001b[0m\u001b[0m\n",
      "\u001b[0;32m/data/anaconda/envs/fastai/lib/python3.7/site-packages/torch/nn/functional.py\u001b[0m in \u001b[0;36mlinear\u001b[0;34m(input, weight, bias)\u001b[0m\n\u001b[1;32m   1368\u001b[0m     \u001b[0;32mif\u001b[0m \u001b[0minput\u001b[0m\u001b[0;34m.\u001b[0m\u001b[0mdim\u001b[0m\u001b[0;34m(\u001b[0m\u001b[0;34m)\u001b[0m \u001b[0;34m==\u001b[0m \u001b[0;36m2\u001b[0m \u001b[0;32mand\u001b[0m \u001b[0mbias\u001b[0m \u001b[0;32mis\u001b[0m \u001b[0;32mnot\u001b[0m \u001b[0;32mNone\u001b[0m\u001b[0;34m:\u001b[0m\u001b[0;34m\u001b[0m\u001b[0;34m\u001b[0m\u001b[0m\n\u001b[1;32m   1369\u001b[0m         \u001b[0;31m# fused op is marginally faster\u001b[0m\u001b[0;34m\u001b[0m\u001b[0;34m\u001b[0m\u001b[0;34m\u001b[0m\u001b[0m\n\u001b[0;32m-> 1370\u001b[0;31m         \u001b[0mret\u001b[0m \u001b[0;34m=\u001b[0m \u001b[0mtorch\u001b[0m\u001b[0;34m.\u001b[0m\u001b[0maddmm\u001b[0m\u001b[0;34m(\u001b[0m\u001b[0mbias\u001b[0m\u001b[0;34m,\u001b[0m \u001b[0minput\u001b[0m\u001b[0;34m,\u001b[0m \u001b[0mweight\u001b[0m\u001b[0;34m.\u001b[0m\u001b[0mt\u001b[0m\u001b[0;34m(\u001b[0m\u001b[0;34m)\u001b[0m\u001b[0;34m)\u001b[0m\u001b[0;34m\u001b[0m\u001b[0;34m\u001b[0m\u001b[0m\n\u001b[0m\u001b[1;32m   1371\u001b[0m     \u001b[0;32melse\u001b[0m\u001b[0;34m:\u001b[0m\u001b[0;34m\u001b[0m\u001b[0;34m\u001b[0m\u001b[0m\n\u001b[1;32m   1372\u001b[0m         \u001b[0moutput\u001b[0m \u001b[0;34m=\u001b[0m \u001b[0minput\u001b[0m\u001b[0;34m.\u001b[0m\u001b[0mmatmul\u001b[0m\u001b[0;34m(\u001b[0m\u001b[0mweight\u001b[0m\u001b[0;34m.\u001b[0m\u001b[0mt\u001b[0m\u001b[0;34m(\u001b[0m\u001b[0;34m)\u001b[0m\u001b[0;34m)\u001b[0m\u001b[0;34m\u001b[0m\u001b[0;34m\u001b[0m\u001b[0m\n",
      "\u001b[0;31mRuntimeError\u001b[0m: Expected object of device type cuda but got device type cpu for argument #2 'mat1' in call to _th_addmm"
     ]
    }
   ],
   "source": [
    "learn.model(x)"
   ]
  },
  {
   "cell_type": "code",
   "execution_count": 217,
   "metadata": {},
   "outputs": [],
   "source": [
    "l = DropLinear(20,10,0.5)"
   ]
  },
  {
   "cell_type": "code",
   "execution_count": 184,
   "metadata": {},
   "outputs": [],
   "source": [
    "mask = l.sample()"
   ]
  },
  {
   "cell_type": "code",
   "execution_count": 185,
   "metadata": {},
   "outputs": [],
   "source": [
    "l.set_mask(mask)"
   ]
  },
  {
   "cell_type": "code",
   "execution_count": 186,
   "metadata": {},
   "outputs": [
    {
     "data": {
      "text/plain": [
       "tensor([[1.],\n",
       "        [0.],\n",
       "        [1.],\n",
       "        [1.],\n",
       "        [0.],\n",
       "        [0.],\n",
       "        [0.],\n",
       "        [1.],\n",
       "        [1.],\n",
       "        [1.]])"
      ]
     },
     "execution_count": 186,
     "metadata": {},
     "output_type": "execute_result"
    }
   ],
   "source": [
    "mask"
   ]
  },
  {
   "cell_type": "code",
   "execution_count": 197,
   "metadata": {},
   "outputs": [],
   "source": [
    "l.remove_mask()"
   ]
  },
  {
   "cell_type": "code",
   "execution_count": 141,
   "metadata": {},
   "outputs": [],
   "source": [
    "import types"
   ]
  },
  {
   "cell_type": "code",
   "execution_count": 155,
   "metadata": {},
   "outputs": [
    {
     "ename": "TypeError",
     "evalue": "is_nonzero(): argument 'input' (position 1) must be Tensor, not NoneType",
     "output_type": "error",
     "traceback": [
      "\u001b[0;31m---------------------------------------------------------------------------\u001b[0m",
      "\u001b[0;31mTypeError\u001b[0m                                 Traceback (most recent call last)",
      "\u001b[0;32m<ipython-input-155-fea5d82bebbb>\u001b[0m in \u001b[0;36m<module>\u001b[0;34m\u001b[0m\n\u001b[0;32m----> 1\u001b[0;31m \u001b[0mtorch\u001b[0m\u001b[0;34m.\u001b[0m\u001b[0mis_nonzero\u001b[0m\u001b[0;34m(\u001b[0m\u001b[0;32mNone\u001b[0m\u001b[0;34m)\u001b[0m\u001b[0;34m\u001b[0m\u001b[0;34m\u001b[0m\u001b[0m\n\u001b[0m",
      "\u001b[0;31mTypeError\u001b[0m: is_nonzero(): argument 'input' (position 1) must be Tensor, not NoneType"
     ]
    }
   ],
   "source": [
    "torch.is_nonzero(None)"
   ]
  },
  {
   "cell_type": "code",
   "execution_count": 152,
   "metadata": {},
   "outputs": [],
   "source": [
    "x = torch.randn(20)"
   ]
  }
 ],
 "metadata": {
  "kernelspec": {
   "display_name": "Python 3",
   "language": "python",
   "name": "python3"
  },
  "language_info": {
   "codemirror_mode": {
    "name": "ipython",
    "version": 3
   },
   "file_extension": ".py",
   "mimetype": "text/x-python",
   "name": "python",
   "nbconvert_exporter": "python",
   "pygments_lexer": "ipython3",
   "version": "3.7.5"
  }
 },
 "nbformat": 4,
 "nbformat_minor": 2
}
