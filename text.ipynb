{
 "cells": [
  {
   "cell_type": "code",
   "execution_count": 1,
   "metadata": {},
   "outputs": [],
   "source": [
    "from fastai.text import * "
   ]
  },
  {
   "cell_type": "code",
   "execution_count": 2,
   "metadata": {},
   "outputs": [
    {
     "data": {
      "text/plain": [
       "PosixPath('/home/danywin/.fastai/data/imdb_sample')"
      ]
     },
     "execution_count": 2,
     "metadata": {},
     "output_type": "execute_result"
    }
   ],
   "source": [
    "path = untar_data(URLs.IMDB_SAMPLE)\n",
    "path"
   ]
  },
  {
   "cell_type": "code",
   "execution_count": 3,
   "metadata": {},
   "outputs": [
    {
     "data": {
      "text/html": [
       "<div>\n",
       "<style scoped>\n",
       "    .dataframe tbody tr th:only-of-type {\n",
       "        vertical-align: middle;\n",
       "    }\n",
       "\n",
       "    .dataframe tbody tr th {\n",
       "        vertical-align: top;\n",
       "    }\n",
       "\n",
       "    .dataframe thead th {\n",
       "        text-align: right;\n",
       "    }\n",
       "</style>\n",
       "<table border=\"1\" class=\"dataframe\">\n",
       "  <thead>\n",
       "    <tr style=\"text-align: right;\">\n",
       "      <th></th>\n",
       "      <th>label</th>\n",
       "      <th>text</th>\n",
       "      <th>is_valid</th>\n",
       "    </tr>\n",
       "  </thead>\n",
       "  <tbody>\n",
       "    <tr>\n",
       "      <th>0</th>\n",
       "      <td>negative</td>\n",
       "      <td>Un-bleeping-believable! Meg Ryan doesn't even ...</td>\n",
       "      <td>False</td>\n",
       "    </tr>\n",
       "    <tr>\n",
       "      <th>1</th>\n",
       "      <td>positive</td>\n",
       "      <td>This is a extremely well-made film. The acting...</td>\n",
       "      <td>False</td>\n",
       "    </tr>\n",
       "    <tr>\n",
       "      <th>2</th>\n",
       "      <td>negative</td>\n",
       "      <td>Every once in a long while a movie will come a...</td>\n",
       "      <td>False</td>\n",
       "    </tr>\n",
       "    <tr>\n",
       "      <th>3</th>\n",
       "      <td>positive</td>\n",
       "      <td>Name just says it all. I watched this movie wi...</td>\n",
       "      <td>False</td>\n",
       "    </tr>\n",
       "    <tr>\n",
       "      <th>4</th>\n",
       "      <td>negative</td>\n",
       "      <td>This movie succeeds at being one of the most u...</td>\n",
       "      <td>False</td>\n",
       "    </tr>\n",
       "  </tbody>\n",
       "</table>\n",
       "</div>"
      ],
      "text/plain": [
       "      label                                               text  is_valid\n",
       "0  negative  Un-bleeping-believable! Meg Ryan doesn't even ...     False\n",
       "1  positive  This is a extremely well-made film. The acting...     False\n",
       "2  negative  Every once in a long while a movie will come a...     False\n",
       "3  positive  Name just says it all. I watched this movie wi...     False\n",
       "4  negative  This movie succeeds at being one of the most u...     False"
      ]
     },
     "execution_count": 3,
     "metadata": {},
     "output_type": "execute_result"
    }
   ],
   "source": [
    "df = pd.read_csv(path/'texts.csv')\n",
    "df.head()"
   ]
  },
  {
   "cell_type": "code",
   "execution_count": 4,
   "metadata": {},
   "outputs": [],
   "source": [
    "# Language model data\n",
    "data_lm = TextLMDataBunch.from_csv(path, 'texts.csv')\n",
    "# Classifier model data\n",
    "data_clas = TextClasDataBunch.from_csv(path, 'texts.csv', vocab=data_lm.train_ds.vocab, bs=32)"
   ]
  },
  {
   "cell_type": "code",
   "execution_count": 5,
   "metadata": {},
   "outputs": [
    {
     "data": {
      "text/html": [
       "<table border=\"1\" class=\"dataframe\">\n",
       "  <thead>\n",
       "    <tr style=\"text-align: left;\">\n",
       "      <th>epoch</th>\n",
       "      <th>train_loss</th>\n",
       "      <th>valid_loss</th>\n",
       "      <th>accuracy</th>\n",
       "      <th>time</th>\n",
       "    </tr>\n",
       "  </thead>\n",
       "  <tbody>\n",
       "    <tr>\n",
       "      <td>0</td>\n",
       "      <td>4.341108</td>\n",
       "      <td>3.880856</td>\n",
       "      <td>0.285179</td>\n",
       "      <td>00:22</td>\n",
       "    </tr>\n",
       "  </tbody>\n",
       "</table>"
      ],
      "text/plain": [
       "<IPython.core.display.HTML object>"
      ]
     },
     "metadata": {},
     "output_type": "display_data"
    }
   ],
   "source": [
    "learn = language_model_learner(data_lm, AWD_LSTM, drop_mult=0.5)\n",
    "learn.fit_one_cycle(1, 1e-2)"
   ]
  },
  {
   "cell_type": "code",
   "execution_count": 6,
   "metadata": {},
   "outputs": [
    {
     "data": {
      "text/html": [
       "<table border=\"1\" class=\"dataframe\">\n",
       "  <thead>\n",
       "    <tr style=\"text-align: left;\">\n",
       "      <th>epoch</th>\n",
       "      <th>train_loss</th>\n",
       "      <th>valid_loss</th>\n",
       "      <th>accuracy</th>\n",
       "      <th>time</th>\n",
       "    </tr>\n",
       "  </thead>\n",
       "  <tbody>\n",
       "    <tr>\n",
       "      <td>0</td>\n",
       "      <td>3.941490</td>\n",
       "      <td>3.806364</td>\n",
       "      <td>0.296607</td>\n",
       "      <td>00:29</td>\n",
       "    </tr>\n",
       "  </tbody>\n",
       "</table>"
      ],
      "text/plain": [
       "<IPython.core.display.HTML object>"
      ]
     },
     "metadata": {},
     "output_type": "display_data"
    }
   ],
   "source": [
    "learn.unfreeze()\n",
    "learn.fit_one_cycle(1, 1e-3)"
   ]
  },
  {
   "cell_type": "code",
   "execution_count": 7,
   "metadata": {},
   "outputs": [
    {
     "data": {
      "text/plain": [
       "'This is a review about main character family events and how they are picked up'"
      ]
     },
     "execution_count": 7,
     "metadata": {},
     "output_type": "execute_result"
    }
   ],
   "source": [
    "learn.predict(\"This is a review about\", n_words=10)"
   ]
  },
  {
   "cell_type": "code",
   "execution_count": 8,
   "metadata": {},
   "outputs": [],
   "source": [
    "learn.save_encoder('ft_enc')"
   ]
  },
  {
   "cell_type": "code",
   "execution_count": 9,
   "metadata": {},
   "outputs": [
    {
     "data": {
      "text/plain": [
       "RNNLearner(data=TextClasDataBunch;\n",
       "\n",
       "Train: LabelList (799 items)\n",
       "x: TextList\n",
       "xxbos a below average looking video game is turned into some sort of conspiracy to have the next terrorist discovered in the xxup usa backyard . xxmaj welcome to the xxunk of cheaply made direct to video movies . xxmaj its full of no - name actors and actresses with little valuable plot . \n",
       " \n",
       "  xxmaj anyway , this strange game goes on and our \" hero \" bets real money and does good at it . xxmaj it is sort of like gambling , except the gambling part is gone and it sucks . xxmaj instead its an online game with little real value and you get authorities on your tail if you do good . \n",
       " \n",
       "  xxmaj what makes it even stranger is that two strange computer programs battle it out somehow and all is saved in the end . i will leave the viewer to see how it all comes to xxunk . \n",
       " \n",
       "  xxmaj overall , not even worth a $ 1 rental . xxmaj borrow it , please . \" xxup d- \",xxbos xxmaj this movie was absolutely wonderful . xxmaj the pre - partition time and culture has been xxunk beautifully . xxmaj urmila has given yet another brilliant performance . xxmaj what i truly admire about this movie is that it does n't xxunk to xxmaj pakistan - bashing that is running rampant in movies like xxmaj xxunk and xxup xxunk . xxmaj with the partition as a backdrop , the movie does not xxunk to political issues or focus on violence or what is right and wrong . xxmaj the movie always centers around the tragic story of xxmaj urmila 's life . xxmaj her xxunk relationship with xxmaj xxunk xxmaj xxunk has been depicted excellently . xxmaj the movie actually shows how the people , both xxmaj hindus and xxmaj muslims , have suffered from this partition . xxmaj the theme that there is only one religion is truly prevalent in this film .,xxbos xxmaj roy xxmaj rogers and company try to bring \" xxmaj xxunk \" back to life - it 's a ghost town which may go boom if silver mining is successful . xxmaj andy xxmaj devine ( as \" xxmaj cookie \" ) xxunk around . xxmaj jane xxmaj frazee ( as xxmaj carol ) loses a piece of her xxunk to xxmaj mr. xxmaj rogers ' sharp xxunk . xxmaj xxunk xxmaj willing and the xxmaj riders of the xxmaj purple xxmaj sage stand - in ( or , is that sing - in ? ) for the xxup xxunk xxmaj bob xxmaj nolan and the xxmaj sons of the xxmaj pioneers . xxmaj james xxmaj xxunk ( from the xxmaj laurel and xxmaj hardy films ) adds to the \" slapstick \" look of \" xxmaj grand xxmaj canyon xxmaj trail \" . a loose floor board delivers the winning comedy performance . xxmaj mr. xxmaj devine 's xxunk kicks its heels . xxmaj there are xxunk human performances , too - but , the material is n't xxmaj grand . \n",
       " \n",
       "  * * xxmaj grand xxmaj canyon xxmaj trail ( 1948 ) xxmaj william xxmaj xxunk ~ xxmaj roy xxmaj rogers , xxmaj jane xxmaj frazee , xxmaj andy xxmaj devine,xxbos xxmaj to be honest i had heard this was pretty bad before i decided to watch it , but i 'm never one to let others influence my viewings , in fact i 'm more likely to watch something out of xxunk xxmaj xxunk had one thing going for me before the viewing anyway , the fact that xxmaj rhonda xxmaj xxunk and those gorgeous eyes was in it had me interested right away . xxmaj the picture is n't very good , and is in fact very morally dubious , all the characters are corrupt and xxunk in one way shape or form , all motivated by greed or xxunk xxunk , this is all well and good if the surrounding film can do justice to a bunch of despicable people and create a xxunk climax xxunk picture . xxmaj sadly it does n't , and as the finale fills your eyes with sugar you ca n't help shouting out that you have been cheated into watching a pretty bad film , nobody in the cast come out with any credit , with lead man xxmaj guy xxmaj madison painfully wooden in the extreme . \n",
       " \n",
       "  xxmaj not even the lovely xxmaj rhonda can make me recommend this to anyone , 3 / 10,xxbos xxmaj having heard quite positive reviews and having seen the trailer i had to see this movie . xxmaj with xxmaj william xxup h. xxmaj xxunk , xxmaj luis xxmaj guzman , xxmaj michael xxmaj jeter and xxmaj sam xxmaj rockwell present it had to be good . xxmaj and it delivered . xxmaj overall , the movie is not crack - you - up funny , but there is one scene that really stands out and is , in a my eyes , a classic . xxup spoiler xxmaj at the end , where they break through the wall to get to the safe and we see xxmaj rockwell and xxmaj washington stare at xxmaj jeter is just fantastic . xxmaj this is just as good as the scene in xxmaj the xxmaj big xxmaj xxunk where xxmaj the xxmaj dude is using a chair to xxunk his door , but forgets the door turns xxunk ! xxup end xxup spoiler xxmaj just go see this movie , you wo n't be disappointed .\n",
       "y: CategoryList\n",
       "negative,positive,negative,negative,positive\n",
       "Path: /home/danywin/.fastai/data/imdb_sample;\n",
       "\n",
       "Valid: LabelList (201 items)\n",
       "x: TextList\n",
       "xxbos xxmaj how does an usual day start in xxmaj point xxmaj place , xxmaj xxunk ... \n",
       " \n",
       "  xxmaj first of all , xxmaj red , the xxunk father of the xxmaj xxunk family and a xxup wwii veteran , sits at the kitchen table and reads his newspaper while his xxunk wife xxmaj kitty serves breakfast . xxmaj then comes their xxunk son , xxmaj eric , he sits at the table as well , and his father starts his daily yelling , usually involving placing his foot in xxmaj eric 's behind if ( insert reason here ) . xxmaj if his promiscuous angel - faced sister xxmaj xxunk is at home , she comes along , then xxmaj red stops yelling and kindly talks to her , making xxmaj eric feel left out of the family . \n",
       " \n",
       "  xxmaj once this daily ( painful ) xxunk is over , xxmaj eric rushes down to his basement , where all his friends are already hanging out . xxmaj and when we get to see them , it becomes obvious xxmaj eric and his xxunk xxunk girlfriend , next - door neighbor and childhood friend xxmaj donna xxmaj xxunk are the xxunk people around . xxmaj meet xxmaj steven xxmaj xxunk , the conspiracy xxunk who hates disco and does n't really care about what 's around as long as it 's not funny to watch ; xxmaj michael xxmaj kelso , the kind of guy who thinks that he will get through his life only by his looks and that xxunk grow in trees ; xxmaj jackie xxmaj xxunk , the one who thinks of herself as the xxunk girl around , spoiled kid of a rich father , and , of course , cheerleader ; and xxmaj xxunk , a naive but oversexed xxunk who loves candy and ca n't keep a secret . xxmaj at first they simply hang out , xxunk and making fun of xxmaj kelso , but then they all sit in a circle and let the real fun begin ... before going out doing something they 'll regret later . \n",
       " \n",
       "  xxmaj meanwhile xxmaj red goes out and meets xxmaj donna 's weirdo parents , xxmaj bob and xxmaj xxunk . xxmaj he 's rude , but they do n't mind , as they think he 's joking . xxmaj somewhere around is xxmaj leo , an aging xxunk , who 's constantly confused and makes word plays without even noticing . \n",
       " \n",
       "  xxmaj did you imagine that seemingly peaceful neighborhood with all these awesome characters ? xxmaj of course , most seem \" clichéd \" , but the show takes the cliché to a new level . xxmaj now throw in some of the most xxunk story lines a sitcom can offer , sit down and enjoy one of the best xxup tv shows ever . xxmaj the one that never does two times the same thing and which is , compared to most xxunk that are \" cute funny \" , purely hysterical . xxmaj if you get xxunk , do n't let this show let you go . xxmaj bite on the hook over and over and , man , you will see the sitcom genre from a whole new prospective .,xxbos xxmaj this movie has always been a favorite of mine since first seeing it as a 12 year old kid in 1962 when it was shown on a xxmaj los xxmaj angeles television station 's \" late show \" . xxmaj the characters are very engaging from the start of the picture , and it is too bad that the movie has never been released for video tape , nor is it ever shown on television ( apparently due to a prohibition by the xxmaj estate of xxmaj xxunk xxmaj hart , the xxunk / producer / director who wrote the story and first presented it on the xxmaj new xxmaj york stage during xxup wwii -- the reason for denying its showing is hard to fathom more than 50 years after it was made ) . i did not see the movie again for over 30 years , when someone who had actually been a major cast member of the movie was able to get me a \" xxunk \" copy on xxup vhs ( poor video quality , but good audio ) . xxmaj my memory of it was correct : it was still an engaging and fascinating movie to watch . xxmaj an amazing aspect of this film is just how many of its stars , just starting out in their careers at the time 1944 ) , went on to became either major motion picture stars or at least well - known and fully - employed actors ( e.g. xxmaj judy xxmaj xxunk , xxmaj edmond o'brien , xxmaj xxunk xxmaj crain , xxmaj barry xxmaj nelson , xxmaj don xxmaj taylor , xxmaj karl xxmaj xxunk , xxmaj peter xxmaj xxunk xxmaj hayes , xxmaj george \" xxmaj superman \" ) xxmaj xxunk , xxmaj red xxmaj buttons , xxmaj lee xxup j. xxmaj xxunk , xxmaj kevin xxunk , and xxmaj gary xxmaj xxunk ) . xxmaj the scenes with the xxup xxunk xxmaj xxunk are terrific , especially the close - up shots where the details of the giant ( for those times ) xxunk bomber ( then xxunk + xxunk , now nearly xxunk ) can be seen . xxmaj good insight into the different levels of training that a pilot - xxunk went through on his way to being assigned to a bomber crew ( of course , xxup very gender - biased as was the trend of the day : only the xxup men became pilots , the women just supported them in their roles -- hardly acceptable in today 's world ) . i hope someday it will be released onto video for a new generation to enjoy .,xxbos xxmaj andy xxmaj goldsworthy is a xxunk master of the first order , expressing the xxmaj way through his xxunk xxunk art . xxmaj indeed , time and change is what his work is fundamentally about . i bought his first book several years ago and my family has xxunk at it many times . xxmaj so it was a treat to get to know the artist personally through this film , he is just as patient and gentle as you would expect , and has some wonderful things to say about the natural world , the deepest of which are expressed in his occasional inability to say it in words at all . xxmaj he is like most children who play in the great xxunk alone ( if they do anymore ) , creating things from sticks and sand and xxunk and snow before they xxunk it . xxmaj mr. xxmaj goldsworthy was given the gift and the mission to extend that sort of play to create profound visions of nature , and to open our often xxunk eyes to it in brilliant new ways . xxmaj and always with the utmost respect , xxunk and humor of a wandering , and wondering xxunk .,xxbos i was very excited about seeing this film , xxunk a visual xxunk on the relation of artistic beauty and nature , containing the kinds of wisdom the likes of \" xxmaj rivers and xxmaj xxunk . \" xxmaj however , that 's not what i received . xxmaj instead , i get a fairly uninspired film about how human industry is bad for nature . xxmaj which is clearly a quite xxunk claim . \n",
       " \n",
       "  xxmaj the photographer seems xxunk about the aesthetic qualities of his images and the supposed \" xxunk \" duty he has to the workers occasionally xxunk the images , along the xxunk . xxmaj and frankly , the images were not generally that impressive . xxmaj and according to this \" artist , \" scale is the basis for what makes something beautiful . \n",
       " \n",
       "  xxmaj in all respects , a stupid film . xxmaj for people who 'd like to feel better about their environmental consciousness ... but not for any one who would like to think about the xxunk of the issues surrounding it .,xxbos this is not just a bad film , it 's one of the worst films ever . it 's so bad that i found it to be quite enjoyable . the acting , oh my god , the script , you got ta be xxunk ' . how can you imagine the writer coming up with things like : - a kid who makes fireworks in school , fireworks xxup so xxunk , that when someone gets hit by it , they fly a hundred xxunk backwards and xxunk . xxunk girl is trapped in the xxunk , the killer is trying to break open the door . she gets a xxunk , but the wire is n't long enough . she first makes an xxunk xxunk , oh the horror , and then , when she 's done , she drills through the door and drills through the head of the killer . xxup wow - and there are plenty more examples like that . oh yeah , and what happened to xxmaj george xxmaj kennedy , he used to be great ( xxmaj xxunk and xxmaj xxunk / xxmaj cool hand xxmaj luke )\n",
       "y: CategoryList\n",
       "positive,positive,positive,negative,negative\n",
       "Path: /home/danywin/.fastai/data/imdb_sample;\n",
       "\n",
       "Test: None, model=SequentialRNN(\n",
       "  (0): MultiBatchEncoder(\n",
       "    (module): AWD_LSTM(\n",
       "      (encoder): Embedding(8984, 400, padding_idx=1)\n",
       "      (encoder_dp): EmbeddingDropout(\n",
       "        (emb): Embedding(8984, 400, padding_idx=1)\n",
       "      )\n",
       "      (rnns): ModuleList(\n",
       "        (0): WeightDropout(\n",
       "          (module): LSTM(400, 1152, batch_first=True)\n",
       "        )\n",
       "        (1): WeightDropout(\n",
       "          (module): LSTM(1152, 1152, batch_first=True)\n",
       "        )\n",
       "        (2): WeightDropout(\n",
       "          (module): LSTM(1152, 400, batch_first=True)\n",
       "        )\n",
       "      )\n",
       "      (input_dp): RNNDropout()\n",
       "      (hidden_dps): ModuleList(\n",
       "        (0): RNNDropout()\n",
       "        (1): RNNDropout()\n",
       "        (2): RNNDropout()\n",
       "      )\n",
       "    )\n",
       "  )\n",
       "  (1): PoolingLinearClassifier(\n",
       "    (layers): Sequential(\n",
       "      (0): BatchNorm1d(1200, eps=1e-05, momentum=0.1, affine=True, track_running_stats=True)\n",
       "      (1): Dropout(p=0.2, inplace=False)\n",
       "      (2): Linear(in_features=1200, out_features=50, bias=True)\n",
       "      (3): ReLU(inplace=True)\n",
       "      (4): BatchNorm1d(50, eps=1e-05, momentum=0.1, affine=True, track_running_stats=True)\n",
       "      (5): Dropout(p=0.1, inplace=False)\n",
       "      (6): Linear(in_features=50, out_features=2, bias=True)\n",
       "    )\n",
       "  )\n",
       "), opt_func=functools.partial(<class 'torch.optim.adam.Adam'>, betas=(0.9, 0.99)), loss_func=FlattenedLoss of CrossEntropyLoss(), metrics=[<function accuracy at 0x7faec46b0ef0>], true_wd=True, bn_wd=True, wd=0.01, train_bn=True, path=PosixPath('/home/danywin/.fastai/data/imdb_sample'), model_dir='models', callback_fns=[functools.partial(<class 'fastai.basic_train.Recorder'>, add_time=True, silent=False)], callbacks=[RNNTrainer\n",
       "learn: ...\n",
       "alpha: 2.0\n",
       "beta: 1.0], layer_groups=[Sequential(\n",
       "  (0): Embedding(8984, 400, padding_idx=1)\n",
       "  (1): EmbeddingDropout(\n",
       "    (emb): Embedding(8984, 400, padding_idx=1)\n",
       "  )\n",
       "), Sequential(\n",
       "  (0): WeightDropout(\n",
       "    (module): LSTM(400, 1152, batch_first=True)\n",
       "  )\n",
       "  (1): RNNDropout()\n",
       "), Sequential(\n",
       "  (0): WeightDropout(\n",
       "    (module): LSTM(1152, 1152, batch_first=True)\n",
       "  )\n",
       "  (1): RNNDropout()\n",
       "), Sequential(\n",
       "  (0): WeightDropout(\n",
       "    (module): LSTM(1152, 400, batch_first=True)\n",
       "  )\n",
       "  (1): RNNDropout()\n",
       "), Sequential(\n",
       "  (0): PoolingLinearClassifier(\n",
       "    (layers): Sequential(\n",
       "      (0): BatchNorm1d(1200, eps=1e-05, momentum=0.1, affine=True, track_running_stats=True)\n",
       "      (1): Dropout(p=0.2, inplace=False)\n",
       "      (2): Linear(in_features=1200, out_features=50, bias=True)\n",
       "      (3): ReLU(inplace=True)\n",
       "      (4): BatchNorm1d(50, eps=1e-05, momentum=0.1, affine=True, track_running_stats=True)\n",
       "      (5): Dropout(p=0.1, inplace=False)\n",
       "      (6): Linear(in_features=50, out_features=2, bias=True)\n",
       "    )\n",
       "  )\n",
       ")], add_time=True, silent=False)"
      ]
     },
     "execution_count": 9,
     "metadata": {},
     "output_type": "execute_result"
    }
   ],
   "source": [
    "learn = text_classifier_learner(data_clas, AWD_LSTM, drop_mult=0.5)\n",
    "learn.load_encoder('ft_enc')"
   ]
  },
  {
   "cell_type": "code",
   "execution_count": 10,
   "metadata": {},
   "outputs": [
    {
     "data": {
      "text/html": [
       "<table border=\"1\" class=\"dataframe\">\n",
       "  <thead>\n",
       "    <tr style=\"text-align: left;\">\n",
       "      <th>epoch</th>\n",
       "      <th>train_loss</th>\n",
       "      <th>valid_loss</th>\n",
       "      <th>accuracy</th>\n",
       "      <th>time</th>\n",
       "    </tr>\n",
       "  </thead>\n",
       "  <tbody>\n",
       "    <tr>\n",
       "      <td>0</td>\n",
       "      <td>0.593814</td>\n",
       "      <td>0.575012</td>\n",
       "      <td>0.731343</td>\n",
       "      <td>00:21</td>\n",
       "    </tr>\n",
       "  </tbody>\n",
       "</table>"
      ],
      "text/plain": [
       "<IPython.core.display.HTML object>"
      ]
     },
     "metadata": {},
     "output_type": "display_data"
    }
   ],
   "source": [
    "learn.fit_one_cycle(1, 1e-2)"
   ]
  },
  {
   "cell_type": "code",
   "execution_count": 11,
   "metadata": {},
   "outputs": [
    {
     "data": {
      "text/html": [
       "<table border=\"1\" class=\"dataframe\">\n",
       "  <thead>\n",
       "    <tr style=\"text-align: left;\">\n",
       "      <th>epoch</th>\n",
       "      <th>train_loss</th>\n",
       "      <th>valid_loss</th>\n",
       "      <th>accuracy</th>\n",
       "      <th>time</th>\n",
       "    </tr>\n",
       "  </thead>\n",
       "  <tbody>\n",
       "    <tr>\n",
       "      <td>0</td>\n",
       "      <td>0.496921</td>\n",
       "      <td>0.494161</td>\n",
       "      <td>0.786070</td>\n",
       "      <td>00:21</td>\n",
       "    </tr>\n",
       "  </tbody>\n",
       "</table>"
      ],
      "text/plain": [
       "<IPython.core.display.HTML object>"
      ]
     },
     "metadata": {},
     "output_type": "display_data"
    }
   ],
   "source": [
    "learn.freeze_to(-2)\n",
    "learn.fit_one_cycle(1, slice(5e-3/2., 5e-3))"
   ]
  },
  {
   "cell_type": "code",
   "execution_count": 12,
   "metadata": {},
   "outputs": [
    {
     "data": {
      "text/html": [
       "<table border=\"1\" class=\"dataframe\">\n",
       "  <thead>\n",
       "    <tr style=\"text-align: left;\">\n",
       "      <th>epoch</th>\n",
       "      <th>train_loss</th>\n",
       "      <th>valid_loss</th>\n",
       "      <th>accuracy</th>\n",
       "      <th>time</th>\n",
       "    </tr>\n",
       "  </thead>\n",
       "  <tbody>\n",
       "    <tr>\n",
       "      <td>0</td>\n",
       "      <td>0.374430</td>\n",
       "      <td>0.396532</td>\n",
       "      <td>0.810945</td>\n",
       "      <td>00:39</td>\n",
       "    </tr>\n",
       "  </tbody>\n",
       "</table>"
      ],
      "text/plain": [
       "<IPython.core.display.HTML object>"
      ]
     },
     "metadata": {},
     "output_type": "display_data"
    }
   ],
   "source": [
    "learn.unfreeze()\n",
    "learn.fit_one_cycle(1, slice(2e-3/100, 2e-3))"
   ]
  },
  {
   "cell_type": "code",
   "execution_count": 13,
   "metadata": {},
   "outputs": [],
   "source": [
    "from custom_dropout import CustomDropout, switch_custom_dropout, convert_layers\n",
    "from bayesian import (entropy, BALD, uncertainty_best_probability,\n",
    "                      get_preds_sample, plot_hist_groups, top_k_uncertainty)"
   ]
  },
  {
   "cell_type": "code",
   "execution_count": 14,
   "metadata": {},
   "outputs": [],
   "source": [
    "get_args = lambda dp : {\"p\" : dp.p}\n",
    "convert_layers(learn.model,nn.Dropout,CustomDropout,get_args)"
   ]
  },
  {
   "cell_type": "code",
   "execution_count": 15,
   "metadata": {},
   "outputs": [
    {
     "data": {
      "text/plain": [
       "SequentialRNN(\n",
       "  (0): MultiBatchEncoder(\n",
       "    (module): AWD_LSTM(\n",
       "      (encoder): Embedding(8984, 400, padding_idx=1)\n",
       "      (encoder_dp): EmbeddingDropout(\n",
       "        (emb): Embedding(8984, 400, padding_idx=1)\n",
       "      )\n",
       "      (rnns): ModuleList(\n",
       "        (0): WeightDropout(\n",
       "          (module): LSTM(400, 1152, batch_first=True)\n",
       "        )\n",
       "        (1): WeightDropout(\n",
       "          (module): LSTM(1152, 1152, batch_first=True)\n",
       "        )\n",
       "        (2): WeightDropout(\n",
       "          (module): LSTM(1152, 400, batch_first=True)\n",
       "        )\n",
       "      )\n",
       "      (input_dp): RNNDropout()\n",
       "      (hidden_dps): ModuleList(\n",
       "        (0): RNNDropout()\n",
       "        (1): RNNDropout()\n",
       "        (2): RNNDropout()\n",
       "      )\n",
       "    )\n",
       "  )\n",
       "  (1): PoolingLinearClassifier(\n",
       "    (layers): Sequential(\n",
       "      (0): BatchNorm1d(1200, eps=1e-05, momentum=0.1, affine=True, track_running_stats=True)\n",
       "      (1): CustomDropout(p=0.2, activate=True)\n",
       "      (2): Linear(in_features=1200, out_features=50, bias=True)\n",
       "      (3): ReLU(inplace=True)\n",
       "      (4): BatchNorm1d(50, eps=1e-05, momentum=0.1, affine=True, track_running_stats=True)\n",
       "      (5): CustomDropout(p=0.1, activate=True)\n",
       "      (6): Linear(in_features=50, out_features=2, bias=True)\n",
       "    )\n",
       "  )\n",
       ")"
      ]
     },
     "execution_count": 15,
     "metadata": {},
     "output_type": "execute_result"
    }
   ],
   "source": [
    "learn.model"
   ]
  },
  {
   "cell_type": "code",
   "execution_count": 35,
   "metadata": {},
   "outputs": [
    {
     "name": "stdout",
     "output_type": "stream",
     "text": [
      "Current active : True\n",
      "Switching to : False\n",
      "Current active : True\n",
      "Switching to : False\n"
     ]
    }
   ],
   "source": [
    "switch_custom_dropout(learn.model,False,True)"
   ]
  },
  {
   "cell_type": "code",
   "execution_count": 36,
   "metadata": {},
   "outputs": [
    {
     "data": {
      "text/plain": [
       "tensor(0.8109)"
      ]
     },
     "execution_count": 36,
     "metadata": {},
     "output_type": "execute_result"
    }
   ],
   "source": [
    "pred,y = learn.get_preds()\n",
    "accuracy(pred,y)"
   ]
  },
  {
   "cell_type": "code",
   "execution_count": 38,
   "metadata": {},
   "outputs": [
    {
     "name": "stdout",
     "output_type": "stream",
     "text": [
      "Current active : False\n",
      "Switching to : True\n",
      "Current active : False\n",
      "Switching to : True\n"
     ]
    }
   ],
   "source": [
    "switch_custom_dropout(learn.model,True,True)"
   ]
  },
  {
   "cell_type": "code",
   "execution_count": 39,
   "metadata": {},
   "outputs": [
    {
     "data": {
      "text/plain": [
       "tensor(0.8159)"
      ]
     },
     "execution_count": 39,
     "metadata": {},
     "output_type": "execute_result"
    }
   ],
   "source": [
    "pred,y = get_preds_sample(learn)\n",
    "accuracy(pred.mean(dim=0),y)"
   ]
  },
  {
   "cell_type": "code",
   "execution_count": 40,
   "metadata": {},
   "outputs": [
    {
     "data": {
      "image/png": "[encoded data removed]",
      "text/plain": [
       "<Figure size 1008x1008 with 4 Axes>"
      ]
     },
     "metadata": {
      "needs_background": "light"
     },
     "output_type": "display_data"
    }
   ],
   "source": [
    "plot_hist_groups(pred,y,entropy,bins=10,figsize=(14,14))"
   ]
  },
  {
   "cell_type": "code",
   "execution_count": 45,
   "metadata": {},
   "outputs": [
    {
     "name": "stdout",
     "output_type": "stream",
     "text": [
      "_____________\n",
      "Review : \n",
      "(Text xxbos xxmaj not as bad a film as i thought it would be . \n",
      " \n",
      "  xxmaj it has a good cast . xxmaj nice to see xxmaj roger xxmaj moore back on screen as well as the use of other xxmaj british actors . \n",
      " \n",
      "  xxmaj would like to see more of xxmaj olivia d`abo in future projects . xxmaj maybe starring opposite her cousin the sexy xxmaj xxunk d`abo . \n",
      " \n",
      "  xxmaj also a good use of unseen locations such as xxmaj xxunk . \n",
      " \n",
      "  xxmaj hopefully we will see more xxup uk - xxmaj european co - productions like this ., Category positive)\n",
      "_____________\n",
      "Review : \n",
      "(Text xxbos xxmaj this is a worthless sequel to a great action movie . xxmaj cheap looking , and worst of all , xxup boring xxup action xxup scenes ! xxmaj the only decent thing about the movie is the last fight sequence . xxmaj only xxunk minutes , but it feels like it goes on forever ! xxmaj even die - hard xxmaj van xxmaj damme xxunk myself ) should avoid this one !, Category negative)\n",
      "_____________\n",
      "Review : \n",
      "(Text xxbos xxmaj you should know that i am the type of person that watches even the worst of movies to the finish , often out of sheer morbid curiosity . i even watched xxmaj xxunk to the end before giving in to the temptation of tearing out my eyes and xxunk on them . xxmaj you should also know that this movie was in my xxup vcr for less than half an hour before i made a frantic leap for the stop button and xxunk back the rental store just to put as much distance between me and it as possible ., Category negative)\n",
      "_____________\n",
      "Review : \n",
      "(Text xxbos xxmaj gender xxmaj xxunk the xxmaj xxunk : \n",
      " \n",
      "  a man or a woman ? xxmaj who knows ? \n",
      " \n",
      "  xxmaj it turns out that ' it ' is both . \n",
      " \n",
      "  xxmaj sleeping in clay \n",
      " \n",
      "  xxmaj then they all went away \n",
      " \n",
      "  xxmaj in one of their xxunk . \n",
      " \n",
      "  xxmaj gender xxmaj xxunk is another great xxmaj season 1 episode . i enjoy this one because the story is the kind where you are never really sure what 's gon na happen next . xxmaj it is entirely original . xxmaj the xxunk is very fun with the close up of the eye and the reflection of the disco lights . i really need to learn my that thumb trick the xxunk xxunk does . i really like the atmosphere at the xxmaj xxunk 's little village and xxmaj xxunk and xxmaj xxunk xxunk around in the middle of the night . xxmaj its very exciting . xxmaj this is one of my favorite xxmaj season 1 episodes in fact . i think the thing i like about it so much is how they turn out to be aliens in the end and left crop circles . xxmaj many people see this as a non - xxunk related alien episode kind of like \" xxmaj the xxmaj unnatural \" or \" xxmaj space \" but i think this could easily be seen as xxunk related . xxmaj maybe the xxunk was just like the alien xxunk hunter and could appear to look like anyone . xxmaj huh ? xxmaj anyway i give the episode a 9 out of 10 ., Category positive)\n",
      "_____________\n",
      "Review : \n",
      "(Text xxbos xxmaj my favourite police series of all time turns to a xxup tv - film . xxmaj does it work ? xxmaj yes . xxmaj xxunk runs for mayor and gets shot . xxmaj the xxmaj xxunk \" hall of fame \" turns up . xxmaj xxunk and nearly all of the cops who ever played in this series . a lot of flashbacks helps you who xxunk seen the xxup tv - series but it amuses the fans too . xxmaj the last five minutes solves another murder and at the very end even two of the dead cops turn up . xxmaj and a short appearance from my favourite xxunk xxmaj xxunk xxmaj cox . xxmaj this is a good film ., Category positive)\n"
     ]
    }
   ],
   "source": [
    "H = entropy(pred)\n",
    "idx = top_k_uncertainty(H,reverse=False)\n",
    "for review in learn.data.valid_ds[idx]:\n",
    "    print(\"_____________\")\n",
    "    print(\"Review : \")\n",
    "    print(review)"
   ]
  }
 ],
 "metadata": {
  "kernelspec": {
   "display_name": "Python 3",
   "language": "python",
   "name": "python3"
  },
  "language_info": {
   "codemirror_mode": {
    "name": "ipython",
    "version": 3
   },
   "file_extension": ".py",
   "mimetype": "text/x-python",
   "name": "python",
   "nbconvert_exporter": "python",
   "pygments_lexer": "ipython3",
   "version": "3.7.5"
  }
 },
 "nbformat": 4,
 "nbformat_minor": 2
}
